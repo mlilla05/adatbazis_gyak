{
    "metadata": {
        "kernelspec": {
            "name": "SQL",
            "display_name": "SQL",
            "language": "sql"
        },
        "language_info": {
            "name": "sql",
            "version": ""
        }
    },
    "nbformat_minor": 2,
    "nbformat": 4,
    "cells": [
        {
            "cell_type": "markdown",
            "source": [
                "1\\. feladat\n",
                "\n",
                "Kérdezzük le, hogy melyik ügyfél (USERNEV) hány különböző szálláshelyen foglalt!\n",
                "\n",
                "a. A listában azok az ügyfelek is jelenjenek meg, akiknek még nem volt foglalásuk\n",
                "\n",
                "b. Megfelelően jelölve jelenjen meg a végösszeg is!"
            ],
            "metadata": {
                "azdata_cell_guid": "46722eeb-925a-4d43-98d1-bb90998264f0"
            },
            "attachments": {}
        },
        {
            "cell_type": "code",
            "source": [
                "SELECT IIF(GROUPING_ID(v.USERNEV) = 1, 'Végösszeg', v.USERNEV), COUNT(DISTINCT szh.SZALLAS_ID)\r\n",
                "FROM Vendeg v JOIN Foglalas f ON v.USERNEV = f.UGYFEL_FK\r\n",
                "                JOIN Szoba sz ON f.SZOBA_FK = sz.SZOBA_ID\r\n",
                "                JOIN Szallashely szh ON sz.SZALLAS_FK = szh.SZALLAS_ID\r\n",
                "GROUP BY ROLLUP(v.USERNEV)"
            ],
            "metadata": {
                "azdata_cell_guid": "20fbba60-04cd-4e69-8fe9-aa7e7edda1dd",
                "language": "sql"
            },
            "outputs": [
                {
                    "output_type": "display_data",
                    "data": {
                        "text/html": "(196 rows affected)"
                    },
                    "metadata": {}
                },
                {
                    "output_type": "display_data",
                    "data": {
                        "text/html": "Total execution time: 00:00:00.039"
                    },
                    "metadata": {}
                },
                {
                    "output_type": "execute_result",
                    "execution_count": 3,
                    "data": {
                        "application/vnd.dataresource+json": {
                            "schema": {
                                "fields": [
                                    {
                                        "name": "(No column name)"
                                    },
                                    {
                                        "name": "(No column name)"
                                    }
                                ]
                            },
                            "data": [
                                {
                                    "(No column name)": "2"
                                },
                                {
                                    "(No column name)": "2"
                                },
                                {
                                    "(No column name)": "5"
                                },
                                {
                                    "(No column name)": "4"
                                },
                                {
                                    "(No column name)": "3"
                                },
                                {
                                    "(No column name)": "5"
                                },
                                {
                                    "(No column name)": "3"
                                },
                                {
                                    "(No column name)": "7"
                                },
                                {
                                    "(No column name)": "3"
                                },
                                {
                                    "(No column name)": "6"
                                },
                                {
                                    "(No column name)": "4"
                                },
                                {
                                    "(No column name)": "3"
                                },
                                {
                                    "(No column name)": "6"
                                },
                                {
                                    "(No column name)": "5"
                                },
                                {
                                    "(No column name)": "2"
                                },
                                {
                                    "(No column name)": "5"
                                },
                                {
                                    "(No column name)": "3"
                                },
                                {
                                    "(No column name)": "1"
                                },
                                {
                                    "(No column name)": "4"
                                },
                                {
                                    "(No column name)": "1"
                                },
                                {
                                    "(No column name)": "2"
                                },
                                {
                                    "(No column name)": "2"
                                },
                                {
                                    "(No column name)": "6"
                                },
                                {
                                    "(No column name)": "3"
                                },
                                {
                                    "(No column name)": "3"
                                },
                                {
                                    "(No column name)": "6"
                                },
                                {
                                    "(No column name)": "4"
                                },
                                {
                                    "(No column name)": "1"
                                },
                                {
                                    "(No column name)": "5"
                                },
                                {
                                    "(No column name)": "5"
                                },
                                {
                                    "(No column name)": "8"
                                },
                                {
                                    "(No column name)": "4"
                                },
                                {
                                    "(No column name)": "3"
                                },
                                {
                                    "(No column name)": "5"
                                },
                                {
                                    "(No column name)": "3"
                                },
                                {
                                    "(No column name)": "5"
                                },
                                {
                                    "(No column name)": "3"
                                },
                                {
                                    "(No column name)": "2"
                                },
                                {
                                    "(No column name)": "6"
                                },
                                {
                                    "(No column name)": "8"
                                },
                                {
                                    "(No column name)": "4"
                                },
                                {
                                    "(No column name)": "3"
                                },
                                {
                                    "(No column name)": "9"
                                },
                                {
                                    "(No column name)": "1"
                                },
                                {
                                    "(No column name)": "2"
                                },
                                {
                                    "(No column name)": "4"
                                },
                                {
                                    "(No column name)": "7"
                                },
                                {
                                    "(No column name)": "5"
                                },
                                {
                                    "(No column name)": "3"
                                },
                                {
                                    "(No column name)": "6"
                                },
                                {
                                    "(No column name)": "4"
                                },
                                {
                                    "(No column name)": "5"
                                },
                                {
                                    "(No column name)": "5"
                                },
                                {
                                    "(No column name)": "6"
                                },
                                {
                                    "(No column name)": "4"
                                },
                                {
                                    "(No column name)": "4"
                                },
                                {
                                    "(No column name)": "4"
                                },
                                {
                                    "(No column name)": "6"
                                },
                                {
                                    "(No column name)": "6"
                                },
                                {
                                    "(No column name)": "5"
                                },
                                {
                                    "(No column name)": "5"
                                },
                                {
                                    "(No column name)": "6"
                                },
                                {
                                    "(No column name)": "5"
                                },
                                {
                                    "(No column name)": "1"
                                },
                                {
                                    "(No column name)": "4"
                                },
                                {
                                    "(No column name)": "3"
                                },
                                {
                                    "(No column name)": "4"
                                },
                                {
                                    "(No column name)": "5"
                                },
                                {
                                    "(No column name)": "3"
                                },
                                {
                                    "(No column name)": "4"
                                },
                                {
                                    "(No column name)": "5"
                                },
                                {
                                    "(No column name)": "3"
                                },
                                {
                                    "(No column name)": "3"
                                },
                                {
                                    "(No column name)": "2"
                                },
                                {
                                    "(No column name)": "3"
                                },
                                {
                                    "(No column name)": "4"
                                },
                                {
                                    "(No column name)": "4"
                                },
                                {
                                    "(No column name)": "5"
                                },
                                {
                                    "(No column name)": "5"
                                },
                                {
                                    "(No column name)": "4"
                                },
                                {
                                    "(No column name)": "4"
                                },
                                {
                                    "(No column name)": "1"
                                },
                                {
                                    "(No column name)": "4"
                                },
                                {
                                    "(No column name)": "5"
                                },
                                {
                                    "(No column name)": "7"
                                },
                                {
                                    "(No column name)": "3"
                                },
                                {
                                    "(No column name)": "3"
                                },
                                {
                                    "(No column name)": "2"
                                },
                                {
                                    "(No column name)": "2"
                                },
                                {
                                    "(No column name)": "2"
                                },
                                {
                                    "(No column name)": "4"
                                },
                                {
                                    "(No column name)": "3"
                                },
                                {
                                    "(No column name)": "4"
                                },
                                {
                                    "(No column name)": "2"
                                },
                                {
                                    "(No column name)": "5"
                                },
                                {
                                    "(No column name)": "3"
                                },
                                {
                                    "(No column name)": "3"
                                },
                                {
                                    "(No column name)": "3"
                                },
                                {
                                    "(No column name)": "3"
                                },
                                {
                                    "(No column name)": "5"
                                },
                                {
                                    "(No column name)": "3"
                                },
                                {
                                    "(No column name)": "2"
                                },
                                {
                                    "(No column name)": "2"
                                },
                                {
                                    "(No column name)": "4"
                                },
                                {
                                    "(No column name)": "5"
                                },
                                {
                                    "(No column name)": "6"
                                },
                                {
                                    "(No column name)": "3"
                                },
                                {
                                    "(No column name)": "4"
                                },
                                {
                                    "(No column name)": "4"
                                },
                                {
                                    "(No column name)": "3"
                                },
                                {
                                    "(No column name)": "3"
                                },
                                {
                                    "(No column name)": "2"
                                },
                                {
                                    "(No column name)": "6"
                                },
                                {
                                    "(No column name)": "6"
                                },
                                {
                                    "(No column name)": "6"
                                },
                                {
                                    "(No column name)": "5"
                                },
                                {
                                    "(No column name)": "4"
                                },
                                {
                                    "(No column name)": "5"
                                },
                                {
                                    "(No column name)": "3"
                                },
                                {
                                    "(No column name)": "5"
                                },
                                {
                                    "(No column name)": "1"
                                },
                                {
                                    "(No column name)": "5"
                                },
                                {
                                    "(No column name)": "3"
                                },
                                {
                                    "(No column name)": "5"
                                },
                                {
                                    "(No column name)": "6"
                                },
                                {
                                    "(No column name)": "3"
                                },
                                {
                                    "(No column name)": "2"
                                },
                                {
                                    "(No column name)": "6"
                                },
                                {
                                    "(No column name)": "3"
                                },
                                {
                                    "(No column name)": "2"
                                },
                                {
                                    "(No column name)": "5"
                                },
                                {
                                    "(No column name)": "4"
                                },
                                {
                                    "(No column name)": "3"
                                },
                                {
                                    "(No column name)": "3"
                                },
                                {
                                    "(No column name)": "5"
                                },
                                {
                                    "(No column name)": "2"
                                },
                                {
                                    "(No column name)": "4"
                                },
                                {
                                    "(No column name)": "4"
                                },
                                {
                                    "(No column name)": "4"
                                },
                                {
                                    "(No column name)": "4"
                                },
                                {
                                    "(No column name)": "5"
                                },
                                {
                                    "(No column name)": "5"
                                },
                                {
                                    "(No column name)": "2"
                                },
                                {
                                    "(No column name)": "3"
                                },
                                {
                                    "(No column name)": "3"
                                },
                                {
                                    "(No column name)": "4"
                                },
                                {
                                    "(No column name)": "3"
                                },
                                {
                                    "(No column name)": "7"
                                },
                                {
                                    "(No column name)": "3"
                                },
                                {
                                    "(No column name)": "4"
                                },
                                {
                                    "(No column name)": "4"
                                },
                                {
                                    "(No column name)": "4"
                                },
                                {
                                    "(No column name)": "5"
                                },
                                {
                                    "(No column name)": "3"
                                },
                                {
                                    "(No column name)": "4"
                                },
                                {
                                    "(No column name)": "4"
                                },
                                {
                                    "(No column name)": "2"
                                },
                                {
                                    "(No column name)": "3"
                                },
                                {
                                    "(No column name)": "4"
                                },
                                {
                                    "(No column name)": "3"
                                },
                                {
                                    "(No column name)": "4"
                                },
                                {
                                    "(No column name)": "3"
                                },
                                {
                                    "(No column name)": "3"
                                },
                                {
                                    "(No column name)": "9"
                                },
                                {
                                    "(No column name)": "3"
                                },
                                {
                                    "(No column name)": "2"
                                },
                                {
                                    "(No column name)": "1"
                                },
                                {
                                    "(No column name)": "4"
                                },
                                {
                                    "(No column name)": "5"
                                },
                                {
                                    "(No column name)": "6"
                                },
                                {
                                    "(No column name)": "2"
                                },
                                {
                                    "(No column name)": "4"
                                },
                                {
                                    "(No column name)": "6"
                                },
                                {
                                    "(No column name)": "2"
                                },
                                {
                                    "(No column name)": "1"
                                },
                                {
                                    "(No column name)": "4"
                                },
                                {
                                    "(No column name)": "1"
                                },
                                {
                                    "(No column name)": "5"
                                },
                                {
                                    "(No column name)": "7"
                                },
                                {
                                    "(No column name)": "5"
                                },
                                {
                                    "(No column name)": "4"
                                },
                                {
                                    "(No column name)": "4"
                                },
                                {
                                    "(No column name)": "2"
                                },
                                {
                                    "(No column name)": "5"
                                },
                                {
                                    "(No column name)": "2"
                                },
                                {
                                    "(No column name)": "5"
                                },
                                {
                                    "(No column name)": "3"
                                },
                                {
                                    "(No column name)": "2"
                                },
                                {
                                    "(No column name)": "2"
                                },
                                {
                                    "(No column name)": "2"
                                },
                                {
                                    "(No column name)": "6"
                                },
                                {
                                    "(No column name)": "2"
                                },
                                {
                                    "(No column name)": "4"
                                },
                                {
                                    "(No column name)": "4"
                                },
                                {
                                    "(No column name)": "5"
                                },
                                {
                                    "(No column name)": "12"
                                }
                            ]
                        },
                        "text/html": "<table><tr><th>(No column name)</th><th>(No column name)</th></tr><tr><td>adam1</td><td>2</td></tr><tr><td>adam3</td><td>2</td></tr><tr><td>adam4</td><td>5</td></tr><tr><td>agnes</td><td>4</td></tr><tr><td>agnes3</td><td>3</td></tr><tr><td>AGNESH</td><td>5</td></tr><tr><td>AGNESK</td><td>3</td></tr><tr><td>akos</td><td>7</td></tr><tr><td>aladar</td><td>3</td></tr><tr><td>alexandra</td><td>6</td></tr><tr><td>andi</td><td>4</td></tr><tr><td>andras2</td><td>3</td></tr><tr><td>andras21</td><td>6</td></tr><tr><td>andras3</td><td>5</td></tr><tr><td>andras4</td><td>2</td></tr><tr><td>andras41</td><td>5</td></tr><tr><td>ANDRASE</td><td>3</td></tr><tr><td>ANDRASN</td><td>1</td></tr><tr><td>andrea</td><td>4</td></tr><tr><td>andrea3</td><td>1</td></tr><tr><td>andrea4</td><td>2</td></tr><tr><td>ANDREAT</td><td>2</td></tr><tr><td>anett3</td><td>6</td></tr><tr><td>aniko</td><td>3</td></tr><tr><td>aniko4</td><td>3</td></tr><tr><td>ANIKOS</td><td>6</td></tr><tr><td>anita</td><td>4</td></tr><tr><td>annamaria1</td><td>1</td></tr><tr><td>ANNAMARIAR</td><td>5</td></tr><tr><td>aron2</td><td>5</td></tr><tr><td>ARONK</td><td>8</td></tr><tr><td>arpad2</td><td>4</td></tr><tr><td>ARPADH</td><td>3</td></tr><tr><td>ARPADM</td><td>5</td></tr><tr><td>attila</td><td>3</td></tr><tr><td>attila1</td><td>5</td></tr><tr><td>attila4</td><td>3</td></tr><tr><td>ATTILAO</td><td>2</td></tr><tr><td>balazs1</td><td>6</td></tr><tr><td>balazs2</td><td>8</td></tr><tr><td>balazs3</td><td>4</td></tr><tr><td>balint</td><td>3</td></tr><tr><td>balint1</td><td>9</td></tr><tr><td>balint2</td><td>1</td></tr><tr><td>balu</td><td>2</td></tr><tr><td>beata4</td><td>4</td></tr><tr><td>BEATRIXK</td><td>7</td></tr><tr><td>BEATRIXS</td><td>5</td></tr><tr><td>BELAF</td><td>3</td></tr><tr><td>bence</td><td>6</td></tr><tr><td>BENCEB</td><td>4</td></tr><tr><td>bernadett1</td><td>5</td></tr><tr><td>bernadett2</td><td>5</td></tr><tr><td>BERNADETTO</td><td>6</td></tr><tr><td>bertalan</td><td>4</td></tr><tr><td>brigitta</td><td>4</td></tr><tr><td>brigitta3</td><td>4</td></tr><tr><td>csongor3</td><td>6</td></tr><tr><td>dani</td><td>6</td></tr><tr><td>daniel</td><td>5</td></tr><tr><td>daniel1</td><td>5</td></tr><tr><td>david</td><td>6</td></tr><tr><td>david1</td><td>5</td></tr><tr><td>david4</td><td>1</td></tr><tr><td>debora</td><td>4</td></tr><tr><td>denes</td><td>3</td></tr><tr><td>dora3</td><td>4</td></tr><tr><td>edit</td><td>5</td></tr><tr><td>emese</td><td>3</td></tr><tr><td>eszter</td><td>4</td></tr><tr><td>eszter2</td><td>5</td></tr><tr><td>eszter4</td><td>3</td></tr><tr><td>ESZTERE</td><td>3</td></tr><tr><td>eva</td><td>2</td></tr><tr><td>eva2</td><td>3</td></tr><tr><td>EVAV</td><td>4</td></tr><tr><td>ferenc1</td><td>4</td></tr><tr><td>fruzsina4</td><td>5</td></tr><tr><td>gabor1</td><td>5</td></tr><tr><td>gabor4</td><td>4</td></tr><tr><td>gabriella1</td><td>4</td></tr><tr><td>gabriella10</td><td>1</td></tr><tr><td>georgij</td><td>4</td></tr><tr><td>gusztav</td><td>5</td></tr><tr><td>GYONGYIK</td><td>7</td></tr><tr><td>GYORGYO</td><td>3</td></tr><tr><td>henrik3</td><td>3</td></tr><tr><td>IBOLYAA</td><td>2</td></tr><tr><td>ilona3</td><td>2</td></tr><tr><td>imre</td><td>2</td></tr><tr><td>imre1</td><td>4</td></tr><tr><td>istvan</td><td>3</td></tr><tr><td>istvan1</td><td>4</td></tr><tr><td>ISTVANV</td><td>2</td></tr><tr><td>janos3</td><td>5</td></tr><tr><td>JANOSG</td><td>3</td></tr><tr><td>JANOSP</td><td>3</td></tr><tr><td>jozsef</td><td>3</td></tr><tr><td>jozsef2</td><td>3</td></tr><tr><td>JOZSEFG</td><td>5</td></tr><tr><td>JUDITH</td><td>3</td></tr><tr><td>julia</td><td>2</td></tr><tr><td>julia4</td><td>2</td></tr><tr><td>julianna4</td><td>4</td></tr><tr><td>kata</td><td>5</td></tr><tr><td>katalin</td><td>6</td></tr><tr><td>katalin4</td><td>3</td></tr><tr><td>kati</td><td>4</td></tr><tr><td>katka</td><td>4</td></tr><tr><td>klaudia2</td><td>3</td></tr><tr><td>kornel4</td><td>3</td></tr><tr><td>kristof4</td><td>2</td></tr><tr><td>kriszti</td><td>6</td></tr><tr><td>krisztian4</td><td>6</td></tr><tr><td>KRISZTIANM</td><td>6</td></tr><tr><td>krisztina</td><td>5</td></tr><tr><td>krisztina1</td><td>4</td></tr><tr><td>KRISZTINAG</td><td>5</td></tr><tr><td>lajos</td><td>3</td></tr><tr><td>lala</td><td>5</td></tr><tr><td>laszlo1</td><td>1</td></tr><tr><td>laszlo2</td><td>5</td></tr><tr><td>LASZLOA</td><td>3</td></tr><tr><td>LASZLON</td><td>5</td></tr><tr><td>maria1</td><td>6</td></tr><tr><td>mark</td><td>3</td></tr><tr><td>MARKH</td><td>2</td></tr><tr><td>marton</td><td>6</td></tr><tr><td>MATEK</td><td>3</td></tr><tr><td>matyas2</td><td>2</td></tr><tr><td>MATYASS</td><td>5</td></tr><tr><td>MIHALYJ</td><td>4</td></tr><tr><td>miklos2</td><td>3</td></tr><tr><td>MIKLOSB</td><td>3</td></tr><tr><td>MONIKAM</td><td>5</td></tr><tr><td>NANDORF</td><td>2</td></tr><tr><td>nikolett3</td><td>4</td></tr><tr><td>nikoletta4</td><td>4</td></tr><tr><td>NIKOLETTAT</td><td>4</td></tr><tr><td>norbert</td><td>4</td></tr><tr><td>norbert2</td><td>5</td></tr><tr><td>norbert4</td><td>5</td></tr><tr><td>norbert5</td><td>2</td></tr><tr><td>pal</td><td>3</td></tr><tr><td>peter1</td><td>3</td></tr><tr><td>peter2</td><td>4</td></tr><tr><td>peter3</td><td>3</td></tr><tr><td>peter4</td><td>7</td></tr><tr><td>PETERB</td><td>3</td></tr><tr><td>polla</td><td>4</td></tr><tr><td>rajmond4</td><td>4</td></tr><tr><td>reka4</td><td>4</td></tr><tr><td>RENATAK</td><td>5</td></tr><tr><td>RENATAS</td><td>3</td></tr><tr><td>robert2</td><td>4</td></tr><tr><td>ROBERTI</td><td>4</td></tr><tr><td>ROBERTP</td><td>2</td></tr><tr><td>roland</td><td>3</td></tr><tr><td>roland1</td><td>4</td></tr><tr><td>roza2</td><td>3</td></tr><tr><td>sandor</td><td>4</td></tr><tr><td>sandor3</td><td>3</td></tr><tr><td>sandor4</td><td>3</td></tr><tr><td>sara</td><td>9</td></tr><tr><td>SEBASTIANF</td><td>3</td></tr><tr><td>sebestyen</td><td>2</td></tr><tr><td>szabolcs</td><td>1</td></tr><tr><td>SZABOLCSM</td><td>4</td></tr><tr><td>SZILARDS</td><td>5</td></tr><tr><td>szilvia1</td><td>6</td></tr><tr><td>tamara2</td><td>2</td></tr><tr><td>tamas</td><td>4</td></tr><tr><td>TAMASF</td><td>6</td></tr><tr><td>tibor</td><td>2</td></tr><tr><td>tibor2</td><td>1</td></tr><tr><td>tihamer</td><td>4</td></tr><tr><td>timea</td><td>1</td></tr><tr><td>timea2</td><td>5</td></tr><tr><td>tunde</td><td>7</td></tr><tr><td>valentin</td><td>5</td></tr><tr><td>veronika4</td><td>4</td></tr><tr><td>VIKTORIAU</td><td>4</td></tr><tr><td>VIKTORK</td><td>2</td></tr><tr><td>vivien3</td><td>5</td></tr><tr><td>zoltan</td><td>2</td></tr><tr><td>zoltan4</td><td>5</td></tr><tr><td>ZOLTANP</td><td>3</td></tr><tr><td>ZOLTANT</td><td>2</td></tr><tr><td>zsofi1</td><td>2</td></tr><tr><td>zsolt1</td><td>2</td></tr><tr><td>ZSOLTJ</td><td>6</td></tr><tr><td>zsuzsa</td><td>2</td></tr><tr><td>zsuzsa3</td><td>4</td></tr><tr><td>zsuzsanna</td><td>4</td></tr><tr><td>ZSUZSAV</td><td>5</td></tr><tr><td>Végösszeg</td><td>12</td></tr></table>"
                    },
                    "metadata": {}
                }
            ],
            "execution_count": 3
        },
        {
            "cell_type": "markdown",
            "source": [
                "2\\. feladat\n",
                "\n",
                "Készítsünk listát, amely megjeleníti a vendégek adatait!\n",
                "\n",
                "- Egy új oszlopban számoljuk ki a vendég életkorát (években)\n",
                "- Egy másik új oszlopban határozzuk meg, hogy születési dátum szerint növekvő rendezésnél mennyi az adott ügyfél. az előtte lévő 2 ügyfél és az utána lévő 2 ügyfél átlagos életkora! Az oszlopot nevezzük el értelemszerűen!"
            ],
            "metadata": {
                "azdata_cell_guid": "045d31d1-3596-40ca-aec6-ddeb0d7fa3df"
            },
            "attachments": {}
        },
        {
            "cell_type": "code",
            "source": [
                "SELECT *, DATEDIFF(YEAR, CAST(SZUL_DAT AS DATE), GETDATE()), \r\n",
                "        AVG(DATEDIFF(YEAR, CAST(SZUL_DAT AS DATE)) OVER(PARTITION BY USERNEV ORDER BY SZUL_DAT ROWS BETWEEN 2 PRECEDING AND 2 FOLLOWING)\r\n",
                "FROM Vendeg"
            ],
            "metadata": {
                "azdata_cell_guid": "2438869a-79e4-4ddd-9201-4e74951de09f",
                "language": "sql"
            },
            "outputs": [
                {
                    "output_type": "error",
                    "ename": "",
                    "evalue": "Msg 4113, Level 15, State 1, Line 2\r\nThe function 'DATEDIFF' is not a valid windowing function, and cannot be used with the OVER clause.",
                    "traceback": []
                },
                {
                    "output_type": "display_data",
                    "data": {
                        "text/html": "Total execution time: 00:00:00.003"
                    },
                    "metadata": {}
                }
            ],
            "execution_count": 10
        },
        {
            "cell_type": "markdown",
            "source": [
                "3\\. feladat\n",
                "\n",
                "<span style=\"color: rgb(0, 0, 0); font-family: &quot;Open Sans&quot;, sans-serif; font-size: 14.44px; background-color: rgb(255, 255, 255);\">Egészítsük ki a megkezdett lekérdezést, amely listázza azon vendégek azonosítóját és nevét, akik már legalább egyszer foglaltak, és MINDEN ESETBEN összesen két fő számára (felnőtt + gyermek szám összege)!</span>"
            ],
            "metadata": {
                "azdata_cell_guid": "d61cabe2-9233-4f8f-8957-e9643c6904ff"
            },
            "attachments": {}
        },
        {
            "cell_type": "code",
            "source": [
                "SELECT DISTINCT v.USERNEV, v.NEV\r\n",
                "FROM Vendeg v JOIN Foglalas f ON v.USERNEV = f.UGYFEL_FK \r\n",
                "WHERE v.USERNEV NOT IN\r\n",
                "( \r\n",
                "  SELECT *\r\n",
                "  FROM Foglalas f2 \r\n",
                "  WHERE f2.UGYFEL_FK = v.USERNEV AND f2.FELNOTT_SZAM + f2.GYERMEK_SZAM <>2\r\n",
                " )"
            ],
            "metadata": {
                "azdata_cell_guid": "1a627b85-20be-443f-8ed8-2b0631b29f1b",
                "language": "sql"
            },
            "outputs": [
                {
                    "output_type": "error",
                    "ename": "",
                    "evalue": "Msg 116, Level 16, State 1, Line 8\r\nOnly one expression can be specified in the select list when the subquery is not introduced with EXISTS.",
                    "traceback": []
                },
                {
                    "output_type": "display_data",
                    "data": {
                        "text/html": "Total execution time: 00:00:00.005"
                    },
                    "metadata": {}
                }
            ],
            "execution_count": 11
        },
        {
            "cell_type": "markdown",
            "source": [
                "4\\. feladat"
            ],
            "metadata": {
                "azdata_cell_guid": "970a4a2e-c594-4b24-991d-05839fc926c9"
            },
            "attachments": {}
        }
    ]
}