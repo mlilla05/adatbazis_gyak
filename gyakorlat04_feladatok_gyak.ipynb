{
    "metadata": {
        "kernelspec": {
            "name": "SQL",
            "display_name": "SQL",
            "language": "sql"
        },
        "language_info": {
            "name": "sql",
            "version": ""
        }
    },
    "nbformat_minor": 2,
    "nbformat": 4,
    "cells": [
        {
            "cell_type": "markdown",
            "source": [
                "1. <span style=\"background-color: rgb(255, 255, 255); color: rgb(0, 0, 0); font-family: &quot;Open Sans&quot;, sans-serif; font-size: 14.44px;\">Készítsünk listát arról, hogy ügyfelenként (LOGIN), azon belül szállítási módonként hány megrendelés történt!&nbsp;</span> \n",
                "\n",
                "a. A lista tartalmazza a részösszegeket és a végösszeget is!  \n",
                "b. Használjuk a ROLLUP záradékot!"
            ],
            "metadata": {
                "azdata_cell_guid": "363cd270-6577-449b-9c89-d4b7c7972d52"
            },
            "attachments": {}
        },
        {
            "cell_type": "code",
            "source": [
                "SELECT IIF(GROUPING_ID([LOGIN])=1, 'Végösszeg', [LOGIN]) AS 'LOGIN',\r\n",
                "    CASE WHEN GROUPING_ID([LOGIN],SZALL_MOD)=1 THEN 'Részösszeg'\r\n",
                "        WHEN GROUPING_ID([LOGIN],SZALL_MOD)=3 THEN 'Végösszeg'\r\n",
                "        ELSE SZALL_MOD\r\n",
                "    END AS 'Szállítási mód',\r\n",
                "    COUNT(*) AS 'Db'\r\n",
                "FROM Rendeles\r\n",
                "GROUP BY ROLLUP([LOGIN],SZALL_MOD)"
            ],
            "metadata": {
                "azdata_cell_guid": "6ab9f633-a3b5-48c9-a1dc-4fb8235ae85b",
                "language": "sql"
            },
            "outputs": [
                {
                    "output_type": "display_data",
                    "data": {
                        "text/html": "(763 rows affected)"
                    },
                    "metadata": {}
                },
                {
                    "output_type": "display_data",
                    "data": {
                        "text/html": "Total execution time: 00:00:00.088"
                    },
                    "metadata": {}
                },
                {
                    "output_type": "execute_result",
                    "metadata": {},
                    "execution_count": 2,
                    "data": {
                        "application/vnd.dataresource+json": {
                            "schema": {
                                "fields": [
                                    {
                                        "name": "LOGIN"
                                    },
                                    {
                                        "name": "Szállítási mód"
                                    },
                                    {
                                        "name": "Db"
                                    }
                                ]
                            },
                            "data": [
                                {
                                    "LOGIN": "adam1",
                                    "Szállítási mód": "GLS",
                                    "Db": "129"
                                },
                                {
                                    "LOGIN": "adam1",
                                    "Szállítási mód": "Posta",
                                    "Db": "132"
                                },
                                {
                                    "LOGIN": "adam1",
                                    "Szállítási mód": "Személyes átvétel",
                                    "Db": "131"
                                },
                                {
                                    "LOGIN": "adam1",
                                    "Szállítási mód": "Részösszeg",
                                    "Db": "392"
                                },
                                {
                                    "LOGIN": "adam3",
                                    "Szállítási mód": "GLS",
                                    "Db": "10"
                                },
                                {
                                    "LOGIN": "adam3",
                                    "Szállítási mód": "Posta",
                                    "Db": "3"
                                },
                                {
                                    "LOGIN": "adam3",
                                    "Szállítási mód": "Személyes átvétel",
                                    "Db": "2"
                                },
                                {
                                    "LOGIN": "adam3",
                                    "Szállítási mód": "Részösszeg",
                                    "Db": "15"
                                },
                                {
                                    "LOGIN": "adam4",
                                    "Szállítási mód": "GLS",
                                    "Db": "12"
                                },
                                {
                                    "LOGIN": "adam4",
                                    "Szállítási mód": "Posta",
                                    "Db": "6"
                                },
                                {
                                    "LOGIN": "adam4",
                                    "Szállítási mód": "Személyes átvétel",
                                    "Db": "11"
                                },
                                {
                                    "LOGIN": "adam4",
                                    "Szállítási mód": "Részösszeg",
                                    "Db": "29"
                                },
                                {
                                    "LOGIN": "agnes",
                                    "Szállítási mód": "GLS",
                                    "Db": "144"
                                },
                                {
                                    "LOGIN": "agnes",
                                    "Szállítási mód": "Posta",
                                    "Db": "130"
                                },
                                {
                                    "LOGIN": "agnes",
                                    "Szállítási mód": "Személyes átvétel",
                                    "Db": "144"
                                },
                                {
                                    "LOGIN": "agnes",
                                    "Szállítási mód": "Részösszeg",
                                    "Db": "418"
                                },
                                {
                                    "LOGIN": "agnes3",
                                    "Szállítási mód": "GLS",
                                    "Db": "148"
                                },
                                {
                                    "LOGIN": "agnes3",
                                    "Szállítási mód": "Posta",
                                    "Db": "146"
                                },
                                {
                                    "LOGIN": "agnes3",
                                    "Szállítási mód": "Személyes átvétel",
                                    "Db": "136"
                                },
                                {
                                    "LOGIN": "agnes3",
                                    "Szállítási mód": "Részösszeg",
                                    "Db": "430"
                                },
                                {
                                    "LOGIN": "AGNESH",
                                    "Szállítási mód": "GLS",
                                    "Db": "2"
                                },
                                {
                                    "LOGIN": "AGNESH",
                                    "Szállítási mód": "Posta",
                                    "Db": "3"
                                },
                                {
                                    "LOGIN": "AGNESH",
                                    "Szállítási mód": "Személyes átvétel",
                                    "Db": "6"
                                },
                                {
                                    "LOGIN": "AGNESH",
                                    "Szállítási mód": "Részösszeg",
                                    "Db": "11"
                                },
                                {
                                    "LOGIN": "AGNESK",
                                    "Szállítási mód": "GLS",
                                    "Db": "1"
                                },
                                {
                                    "LOGIN": "AGNESK",
                                    "Szállítási mód": "Posta",
                                    "Db": "7"
                                },
                                {
                                    "LOGIN": "AGNESK",
                                    "Szállítási mód": "Személyes átvétel",
                                    "Db": "7"
                                },
                                {
                                    "LOGIN": "AGNESK",
                                    "Szállítási mód": "Részösszeg",
                                    "Db": "15"
                                },
                                {
                                    "LOGIN": "akos",
                                    "Szállítási mód": "GLS",
                                    "Db": "146"
                                },
                                {
                                    "LOGIN": "akos",
                                    "Szállítási mód": "Posta",
                                    "Db": "143"
                                },
                                {
                                    "LOGIN": "akos",
                                    "Szállítási mód": "Személyes átvétel",
                                    "Db": "140"
                                },
                                {
                                    "LOGIN": "akos",
                                    "Szállítási mód": "Részösszeg",
                                    "Db": "429"
                                },
                                {
                                    "LOGIN": "aladar",
                                    "Szállítási mód": "GLS",
                                    "Db": "156"
                                },
                                {
                                    "LOGIN": "aladar",
                                    "Szállítási mód": "Posta",
                                    "Db": "134"
                                },
                                {
                                    "LOGIN": "aladar",
                                    "Szállítási mód": "Személyes átvétel",
                                    "Db": "118"
                                },
                                {
                                    "LOGIN": "aladar",
                                    "Szállítási mód": "Részösszeg",
                                    "Db": "408"
                                },
                                {
                                    "LOGIN": "alexandra",
                                    "Szállítási mód": "GLS",
                                    "Db": "5"
                                },
                                {
                                    "LOGIN": "alexandra",
                                    "Szállítási mód": "Posta",
                                    "Db": "9"
                                },
                                {
                                    "LOGIN": "alexandra",
                                    "Szállítási mód": "Személyes átvétel",
                                    "Db": "5"
                                },
                                {
                                    "LOGIN": "alexandra",
                                    "Szállítási mód": "Részösszeg",
                                    "Db": "19"
                                },
                                {
                                    "LOGIN": "andi",
                                    "Szállítási mód": "GLS",
                                    "Db": "7"
                                },
                                {
                                    "LOGIN": "andi",
                                    "Szállítási mód": "Posta",
                                    "Db": "4"
                                },
                                {
                                    "LOGIN": "andi",
                                    "Szállítási mód": "Személyes átvétel",
                                    "Db": "7"
                                },
                                {
                                    "LOGIN": "andi",
                                    "Szállítási mód": "Részösszeg",
                                    "Db": "18"
                                },
                                {
                                    "LOGIN": "andras2",
                                    "Szállítási mód": "GLS",
                                    "Db": "4"
                                },
                                {
                                    "LOGIN": "andras2",
                                    "Szállítási mód": "Posta",
                                    "Db": "7"
                                },
                                {
                                    "LOGIN": "andras2",
                                    "Szállítási mód": "Személyes átvétel",
                                    "Db": "11"
                                },
                                {
                                    "LOGIN": "andras2",
                                    "Szállítási mód": "Részösszeg",
                                    "Db": "22"
                                },
                                {
                                    "LOGIN": "andras21",
                                    "Szállítási mód": "GLS",
                                    "Db": "140"
                                },
                                {
                                    "LOGIN": "andras21",
                                    "Szállítási mód": "Posta",
                                    "Db": "124"
                                },
                                {
                                    "LOGIN": "andras21",
                                    "Szállítási mód": "Személyes átvétel",
                                    "Db": "126"
                                },
                                {
                                    "LOGIN": "andras21",
                                    "Szállítási mód": "Részösszeg",
                                    "Db": "390"
                                },
                                {
                                    "LOGIN": "andras3",
                                    "Szállítási mód": "GLS",
                                    "Db": "3"
                                },
                                {
                                    "LOGIN": "andras3",
                                    "Szállítási mód": "Posta",
                                    "Db": "1"
                                },
                                {
                                    "LOGIN": "andras3",
                                    "Szállítási mód": "Személyes átvétel",
                                    "Db": "5"
                                },
                                {
                                    "LOGIN": "andras3",
                                    "Szállítási mód": "Részösszeg",
                                    "Db": "9"
                                },
                                {
                                    "LOGIN": "andras4",
                                    "Szállítási mód": "GLS",
                                    "Db": "4"
                                },
                                {
                                    "LOGIN": "andras4",
                                    "Szállítási mód": "Posta",
                                    "Db": "4"
                                },
                                {
                                    "LOGIN": "andras4",
                                    "Szállítási mód": "Személyes átvétel",
                                    "Db": "4"
                                },
                                {
                                    "LOGIN": "andras4",
                                    "Szállítási mód": "Részösszeg",
                                    "Db": "12"
                                },
                                {
                                    "LOGIN": "andras41",
                                    "Szállítási mód": "GLS",
                                    "Db": "149"
                                },
                                {
                                    "LOGIN": "andras41",
                                    "Szállítási mód": "Posta",
                                    "Db": "137"
                                },
                                {
                                    "LOGIN": "andras41",
                                    "Szállítási mód": "Személyes átvétel",
                                    "Db": "133"
                                },
                                {
                                    "LOGIN": "andras41",
                                    "Szállítási mód": "Részösszeg",
                                    "Db": "419"
                                },
                                {
                                    "LOGIN": "ANDRASE",
                                    "Szállítási mód": "GLS",
                                    "Db": "159"
                                },
                                {
                                    "LOGIN": "ANDRASE",
                                    "Szállítási mód": "Posta",
                                    "Db": "141"
                                },
                                {
                                    "LOGIN": "ANDRASE",
                                    "Szállítási mód": "Személyes átvétel",
                                    "Db": "136"
                                },
                                {
                                    "LOGIN": "ANDRASE",
                                    "Szállítási mód": "Részösszeg",
                                    "Db": "436"
                                },
                                {
                                    "LOGIN": "ANDRASN",
                                    "Szállítási mód": "GLS",
                                    "Db": "10"
                                },
                                {
                                    "LOGIN": "ANDRASN",
                                    "Szállítási mód": "Posta",
                                    "Db": "9"
                                },
                                {
                                    "LOGIN": "ANDRASN",
                                    "Szállítási mód": "Személyes átvétel",
                                    "Db": "5"
                                },
                                {
                                    "LOGIN": "ANDRASN",
                                    "Szállítási mód": "Részösszeg",
                                    "Db": "24"
                                },
                                {
                                    "LOGIN": "andrea",
                                    "Szállítási mód": "GLS",
                                    "Db": "12"
                                },
                                {
                                    "LOGIN": "andrea",
                                    "Szállítási mód": "Posta",
                                    "Db": "4"
                                },
                                {
                                    "LOGIN": "andrea",
                                    "Szállítási mód": "Személyes átvétel",
                                    "Db": "8"
                                },
                                {
                                    "LOGIN": "andrea",
                                    "Szállítási mód": "Részösszeg",
                                    "Db": "24"
                                },
                                {
                                    "LOGIN": "andrea3",
                                    "Szállítási mód": "GLS",
                                    "Db": "131"
                                },
                                {
                                    "LOGIN": "andrea3",
                                    "Szállítási mód": "Posta",
                                    "Db": "136"
                                },
                                {
                                    "LOGIN": "andrea3",
                                    "Szállítási mód": "Személyes átvétel",
                                    "Db": "146"
                                },
                                {
                                    "LOGIN": "andrea3",
                                    "Szállítási mód": "Részösszeg",
                                    "Db": "413"
                                },
                                {
                                    "LOGIN": "andrea4",
                                    "Szállítási mód": "GLS",
                                    "Db": "7"
                                },
                                {
                                    "LOGIN": "andrea4",
                                    "Szállítási mód": "Posta",
                                    "Db": "4"
                                },
                                {
                                    "LOGIN": "andrea4",
                                    "Szállítási mód": "Személyes átvétel",
                                    "Db": "7"
                                },
                                {
                                    "LOGIN": "andrea4",
                                    "Szállítási mód": "Részösszeg",
                                    "Db": "18"
                                },
                                {
                                    "LOGIN": "ANDREAT",
                                    "Szállítási mód": "GLS",
                                    "Db": "3"
                                },
                                {
                                    "LOGIN": "ANDREAT",
                                    "Szállítási mód": "Posta",
                                    "Db": "6"
                                },
                                {
                                    "LOGIN": "ANDREAT",
                                    "Szállítási mód": "Személyes átvétel",
                                    "Db": "12"
                                },
                                {
                                    "LOGIN": "ANDREAT",
                                    "Szállítási mód": "Részösszeg",
                                    "Db": "21"
                                },
                                {
                                    "LOGIN": "anett3",
                                    "Szállítási mód": "GLS",
                                    "Db": "3"
                                },
                                {
                                    "LOGIN": "anett3",
                                    "Szállítási mód": "Posta",
                                    "Db": "6"
                                },
                                {
                                    "LOGIN": "anett3",
                                    "Szállítási mód": "Személyes átvétel",
                                    "Db": "9"
                                },
                                {
                                    "LOGIN": "anett3",
                                    "Szállítási mód": "Részösszeg",
                                    "Db": "18"
                                },
                                {
                                    "LOGIN": "aniko",
                                    "Szállítási mód": "GLS",
                                    "Db": "128"
                                },
                                {
                                    "LOGIN": "aniko",
                                    "Szállítási mód": "Posta",
                                    "Db": "137"
                                },
                                {
                                    "LOGIN": "aniko",
                                    "Szállítási mód": "Személyes átvétel",
                                    "Db": "138"
                                },
                                {
                                    "LOGIN": "aniko",
                                    "Szállítási mód": "Részösszeg",
                                    "Db": "403"
                                },
                                {
                                    "LOGIN": "aniko4",
                                    "Szállítási mód": "GLS",
                                    "Db": "6"
                                },
                                {
                                    "LOGIN": "aniko4",
                                    "Szállítási mód": "Posta",
                                    "Db": "6"
                                },
                                {
                                    "LOGIN": "aniko4",
                                    "Szállítási mód": "Személyes átvétel",
                                    "Db": "3"
                                },
                                {
                                    "LOGIN": "aniko4",
                                    "Szállítási mód": "Részösszeg",
                                    "Db": "15"
                                },
                                {
                                    "LOGIN": "ANIKOS",
                                    "Szállítási mód": "GLS",
                                    "Db": "128"
                                },
                                {
                                    "LOGIN": "ANIKOS",
                                    "Szállítási mód": "Posta",
                                    "Db": "126"
                                },
                                {
                                    "LOGIN": "ANIKOS",
                                    "Szállítási mód": "Személyes átvétel",
                                    "Db": "150"
                                },
                                {
                                    "LOGIN": "ANIKOS",
                                    "Szállítási mód": "Részösszeg",
                                    "Db": "404"
                                },
                                {
                                    "LOGIN": "anita",
                                    "Szállítási mód": "GLS",
                                    "Db": "5"
                                },
                                {
                                    "LOGIN": "anita",
                                    "Szállítási mód": "Posta",
                                    "Db": "2"
                                },
                                {
                                    "LOGIN": "anita",
                                    "Szállítási mód": "Személyes átvétel",
                                    "Db": "5"
                                },
                                {
                                    "LOGIN": "anita",
                                    "Szállítási mód": "Részösszeg",
                                    "Db": "12"
                                },
                                {
                                    "LOGIN": "annamaria1",
                                    "Szállítási mód": "GLS",
                                    "Db": "5"
                                },
                                {
                                    "LOGIN": "annamaria1",
                                    "Szállítási mód": "Posta",
                                    "Db": "4"
                                },
                                {
                                    "LOGIN": "annamaria1",
                                    "Szállítási mód": "Személyes átvétel",
                                    "Db": "7"
                                },
                                {
                                    "LOGIN": "annamaria1",
                                    "Szállítási mód": "Részösszeg",
                                    "Db": "16"
                                },
                                {
                                    "LOGIN": "ANNAMARIAR",
                                    "Szállítási mód": "GLS",
                                    "Db": "8"
                                },
                                {
                                    "LOGIN": "ANNAMARIAR",
                                    "Szállítási mód": "Posta",
                                    "Db": "2"
                                },
                                {
                                    "LOGIN": "ANNAMARIAR",
                                    "Szállítási mód": "Személyes átvétel",
                                    "Db": "3"
                                },
                                {
                                    "LOGIN": "ANNAMARIAR",
                                    "Szállítási mód": "Részösszeg",
                                    "Db": "13"
                                },
                                {
                                    "LOGIN": "aron2",
                                    "Szállítási mód": "GLS",
                                    "Db": "132"
                                },
                                {
                                    "LOGIN": "aron2",
                                    "Szállítási mód": "Posta",
                                    "Db": "133"
                                },
                                {
                                    "LOGIN": "aron2",
                                    "Szállítási mód": "Személyes átvétel",
                                    "Db": "144"
                                },
                                {
                                    "LOGIN": "aron2",
                                    "Szállítási mód": "Részösszeg",
                                    "Db": "409"
                                },
                                {
                                    "LOGIN": "ARONK",
                                    "Szállítási mód": "GLS",
                                    "Db": "155"
                                },
                                {
                                    "LOGIN": "ARONK",
                                    "Szállítási mód": "Posta",
                                    "Db": "120"
                                },
                                {
                                    "LOGIN": "ARONK",
                                    "Szállítási mód": "Személyes átvétel",
                                    "Db": "155"
                                },
                                {
                                    "LOGIN": "ARONK",
                                    "Szállítási mód": "Részösszeg",
                                    "Db": "430"
                                },
                                {
                                    "LOGIN": "arpad2",
                                    "Szállítási mód": "GLS",
                                    "Db": "6"
                                },
                                {
                                    "LOGIN": "arpad2",
                                    "Szállítási mód": "Posta",
                                    "Db": "1"
                                },
                                {
                                    "LOGIN": "arpad2",
                                    "Szállítási mód": "Személyes átvétel",
                                    "Db": "10"
                                },
                                {
                                    "LOGIN": "arpad2",
                                    "Szállítási mód": "Részösszeg",
                                    "Db": "17"
                                },
                                {
                                    "LOGIN": "ARPADH",
                                    "Szállítási mód": "GLS",
                                    "Db": "6"
                                },
                                {
                                    "LOGIN": "ARPADH",
                                    "Szállítási mód": "Posta",
                                    "Db": "3"
                                },
                                {
                                    "LOGIN": "ARPADH",
                                    "Szállítási mód": "Személyes átvétel",
                                    "Db": "5"
                                },
                                {
                                    "LOGIN": "ARPADH",
                                    "Szállítási mód": "Részösszeg",
                                    "Db": "14"
                                },
                                {
                                    "LOGIN": "ARPADM",
                                    "Szállítási mód": "GLS",
                                    "Db": "6"
                                },
                                {
                                    "LOGIN": "ARPADM",
                                    "Szállítási mód": "Posta",
                                    "Db": "3"
                                },
                                {
                                    "LOGIN": "ARPADM",
                                    "Szállítási mód": "Személyes átvétel",
                                    "Db": "7"
                                },
                                {
                                    "LOGIN": "ARPADM",
                                    "Szállítási mód": "Részösszeg",
                                    "Db": "16"
                                },
                                {
                                    "LOGIN": "attila1",
                                    "Szállítási mód": "GLS",
                                    "Db": "5"
                                },
                                {
                                    "LOGIN": "attila1",
                                    "Szállítási mód": "Posta",
                                    "Db": "7"
                                },
                                {
                                    "LOGIN": "attila1",
                                    "Szállítási mód": "Személyes átvétel",
                                    "Db": "6"
                                },
                                {
                                    "LOGIN": "attila1",
                                    "Szállítási mód": "Részösszeg",
                                    "Db": "18"
                                },
                                {
                                    "LOGIN": "attila4",
                                    "Szállítási mód": "GLS",
                                    "Db": "135"
                                },
                                {
                                    "LOGIN": "attila4",
                                    "Szállítási mód": "Posta",
                                    "Db": "125"
                                },
                                {
                                    "LOGIN": "attila4",
                                    "Szállítási mód": "Személyes átvétel",
                                    "Db": "141"
                                },
                                {
                                    "LOGIN": "attila4",
                                    "Szállítási mód": "Részösszeg",
                                    "Db": "401"
                                },
                                {
                                    "LOGIN": "ATTILAO",
                                    "Szállítási mód": "GLS",
                                    "Db": "4"
                                },
                                {
                                    "LOGIN": "ATTILAO",
                                    "Szállítási mód": "Posta",
                                    "Db": "4"
                                },
                                {
                                    "LOGIN": "ATTILAO",
                                    "Szállítási mód": "Személyes átvétel",
                                    "Db": "6"
                                },
                                {
                                    "LOGIN": "ATTILAO",
                                    "Szállítási mód": "Részösszeg",
                                    "Db": "14"
                                },
                                {
                                    "LOGIN": "balazs1",
                                    "Szállítási mód": "GLS",
                                    "Db": "128"
                                },
                                {
                                    "LOGIN": "balazs1",
                                    "Szállítási mód": "Posta",
                                    "Db": "136"
                                },
                                {
                                    "LOGIN": "balazs1",
                                    "Szállítási mód": "Személyes átvétel",
                                    "Db": "155"
                                },
                                {
                                    "LOGIN": "balazs1",
                                    "Szállítási mód": "Részösszeg",
                                    "Db": "419"
                                },
                                {
                                    "LOGIN": "balazs2",
                                    "Szállítási mód": "GLS",
                                    "Db": "5"
                                },
                                {
                                    "LOGIN": "balazs2",
                                    "Szállítási mód": "Posta",
                                    "Db": "7"
                                },
                                {
                                    "LOGIN": "balazs2",
                                    "Szállítási mód": "Személyes átvétel",
                                    "Db": "5"
                                },
                                {
                                    "LOGIN": "balazs2",
                                    "Szállítási mód": "Részösszeg",
                                    "Db": "17"
                                },
                                {
                                    "LOGIN": "balazs3",
                                    "Szállítási mód": "GLS",
                                    "Db": "6"
                                },
                                {
                                    "LOGIN": "balazs3",
                                    "Szállítási mód": "Posta",
                                    "Db": "6"
                                },
                                {
                                    "LOGIN": "balazs3",
                                    "Szállítási mód": "Személyes átvétel",
                                    "Db": "3"
                                },
                                {
                                    "LOGIN": "balazs3",
                                    "Szállítási mód": "Részösszeg",
                                    "Db": "15"
                                },
                                {
                                    "LOGIN": "balint",
                                    "Szállítási mód": "GLS",
                                    "Db": "10"
                                },
                                {
                                    "LOGIN": "balint",
                                    "Szállítási mód": "Posta",
                                    "Db": "4"
                                },
                                {
                                    "LOGIN": "balint",
                                    "Szállítási mód": "Személyes átvétel",
                                    "Db": "2"
                                },
                                {
                                    "LOGIN": "balint",
                                    "Szállítási mód": "Részösszeg",
                                    "Db": "16"
                                },
                                {
                                    "LOGIN": "balint1",
                                    "Szállítási mód": "GLS",
                                    "Db": "158"
                                },
                                {
                                    "LOGIN": "balint1",
                                    "Szállítási mód": "Posta",
                                    "Db": "152"
                                },
                                {
                                    "LOGIN": "balint1",
                                    "Szállítási mód": "Személyes átvétel",
                                    "Db": "152"
                                },
                                {
                                    "LOGIN": "balint1",
                                    "Szállítási mód": "Részösszeg",
                                    "Db": "462"
                                },
                                {
                                    "LOGIN": "balint2",
                                    "Szállítási mód": "GLS",
                                    "Db": "8"
                                },
                                {
                                    "LOGIN": "balint2",
                                    "Szállítási mód": "Posta",
                                    "Db": "6"
                                },
                                {
                                    "LOGIN": "balint2",
                                    "Szállítási mód": "Személyes átvétel",
                                    "Db": "3"
                                },
                                {
                                    "LOGIN": "balint2",
                                    "Szállítási mód": "Részösszeg",
                                    "Db": "17"
                                },
                                {
                                    "LOGIN": "balu",
                                    "Szállítási mód": "GLS",
                                    "Db": "127"
                                },
                                {
                                    "LOGIN": "balu",
                                    "Szállítási mód": "Posta",
                                    "Db": "137"
                                },
                                {
                                    "LOGIN": "balu",
                                    "Szállítási mód": "Személyes átvétel",
                                    "Db": "123"
                                },
                                {
                                    "LOGIN": "balu",
                                    "Szállítási mód": "Részösszeg",
                                    "Db": "387"
                                },
                                {
                                    "LOGIN": "BEATRIXK",
                                    "Szállítási mód": "GLS",
                                    "Db": "135"
                                },
                                {
                                    "LOGIN": "BEATRIXK",
                                    "Szállítási mód": "Posta",
                                    "Db": "155"
                                },
                                {
                                    "LOGIN": "BEATRIXK",
                                    "Szállítási mód": "Személyes átvétel",
                                    "Db": "145"
                                },
                                {
                                    "LOGIN": "BEATRIXK",
                                    "Szállítási mód": "Részösszeg",
                                    "Db": "435"
                                },
                                {
                                    "LOGIN": "BEATRIXS",
                                    "Szállítási mód": "GLS",
                                    "Db": "146"
                                },
                                {
                                    "LOGIN": "BEATRIXS",
                                    "Szállítási mód": "Posta",
                                    "Db": "141"
                                },
                                {
                                    "LOGIN": "BEATRIXS",
                                    "Szállítási mód": "Személyes átvétel",
                                    "Db": "133"
                                },
                                {
                                    "LOGIN": "BEATRIXS",
                                    "Szállítási mód": "Részösszeg",
                                    "Db": "420"
                                },
                                {
                                    "LOGIN": "BELAF",
                                    "Szállítási mód": "GLS",
                                    "Db": "11"
                                },
                                {
                                    "LOGIN": "BELAF",
                                    "Szállítási mód": "Posta",
                                    "Db": "2"
                                },
                                {
                                    "LOGIN": "BELAF",
                                    "Szállítási mód": "Személyes átvétel",
                                    "Db": "5"
                                },
                                {
                                    "LOGIN": "BELAF",
                                    "Szállítási mód": "Részösszeg",
                                    "Db": "18"
                                },
                                {
                                    "LOGIN": "bence",
                                    "Szállítási mód": "GLS",
                                    "Db": "4"
                                },
                                {
                                    "LOGIN": "bence",
                                    "Szállítási mód": "Posta",
                                    "Db": "6"
                                },
                                {
                                    "LOGIN": "bence",
                                    "Szállítási mód": "Személyes átvétel",
                                    "Db": "8"
                                },
                                {
                                    "LOGIN": "bence",
                                    "Szállítási mód": "Részösszeg",
                                    "Db": "18"
                                },
                                {
                                    "LOGIN": "BENCEB",
                                    "Szállítási mód": "GLS",
                                    "Db": "5"
                                },
                                {
                                    "LOGIN": "BENCEB",
                                    "Szállítási mód": "Posta",
                                    "Db": "7"
                                },
                                {
                                    "LOGIN": "BENCEB",
                                    "Szállítási mód": "Személyes átvétel",
                                    "Db": "5"
                                },
                                {
                                    "LOGIN": "BENCEB",
                                    "Szállítási mód": "Részösszeg",
                                    "Db": "17"
                                },
                                {
                                    "LOGIN": "bernadett1",
                                    "Szállítási mód": "GLS",
                                    "Db": "10"
                                },
                                {
                                    "LOGIN": "bernadett1",
                                    "Szállítási mód": "Posta",
                                    "Db": "5"
                                },
                                {
                                    "LOGIN": "bernadett1",
                                    "Szállítási mód": "Személyes átvétel",
                                    "Db": "5"
                                },
                                {
                                    "LOGIN": "bernadett1",
                                    "Szállítási mód": "Részösszeg",
                                    "Db": "20"
                                },
                                {
                                    "LOGIN": "bernadett2",
                                    "Szállítási mód": "GLS",
                                    "Db": "6"
                                },
                                {
                                    "LOGIN": "bernadett2",
                                    "Szállítási mód": "Posta",
                                    "Db": "2"
                                },
                                {
                                    "LOGIN": "bernadett2",
                                    "Szállítási mód": "Személyes átvétel",
                                    "Db": "7"
                                },
                                {
                                    "LOGIN": "bernadett2",
                                    "Szállítási mód": "Részösszeg",
                                    "Db": "15"
                                },
                                {
                                    "LOGIN": "BERNADETTO",
                                    "Szállítási mód": "GLS",
                                    "Db": "7"
                                },
                                {
                                    "LOGIN": "BERNADETTO",
                                    "Szállítási mód": "Posta",
                                    "Db": "2"
                                },
                                {
                                    "LOGIN": "BERNADETTO",
                                    "Szállítási mód": "Személyes átvétel",
                                    "Db": "7"
                                },
                                {
                                    "LOGIN": "BERNADETTO",
                                    "Szállítási mód": "Részösszeg",
                                    "Db": "16"
                                },
                                {
                                    "LOGIN": "bertalan",
                                    "Szállítási mód": "GLS",
                                    "Db": "128"
                                },
                                {
                                    "LOGIN": "bertalan",
                                    "Szállítási mód": "Posta",
                                    "Db": "124"
                                },
                                {
                                    "LOGIN": "bertalan",
                                    "Szállítási mód": "Személyes átvétel",
                                    "Db": "101"
                                },
                                {
                                    "LOGIN": "bertalan",
                                    "Szállítási mód": "Részösszeg",
                                    "Db": "353"
                                },
                                {
                                    "LOGIN": "brigitta",
                                    "Szállítási mód": "GLS",
                                    "Db": "137"
                                },
                                {
                                    "LOGIN": "brigitta",
                                    "Szállítási mód": "Posta",
                                    "Db": "137"
                                },
                                {
                                    "LOGIN": "brigitta",
                                    "Szállítási mód": "Személyes átvétel",
                                    "Db": "119"
                                },
                                {
                                    "LOGIN": "brigitta",
                                    "Szállítási mód": "Részösszeg",
                                    "Db": "393"
                                },
                                {
                                    "LOGIN": "brigitta3",
                                    "Szállítási mód": "GLS",
                                    "Db": "144"
                                },
                                {
                                    "LOGIN": "brigitta3",
                                    "Szállítási mód": "Posta",
                                    "Db": "130"
                                },
                                {
                                    "LOGIN": "brigitta3",
                                    "Szállítási mód": "Személyes átvétel",
                                    "Db": "139"
                                },
                                {
                                    "LOGIN": "brigitta3",
                                    "Szállítási mód": "Részösszeg",
                                    "Db": "413"
                                },
                                {
                                    "LOGIN": "csongor3",
                                    "Szállítási mód": "GLS",
                                    "Db": "5"
                                },
                                {
                                    "LOGIN": "csongor3",
                                    "Szállítási mód": "Posta",
                                    "Db": "2"
                                },
                                {
                                    "LOGIN": "csongor3",
                                    "Szállítási mód": "Személyes átvétel",
                                    "Db": "8"
                                },
                                {
                                    "LOGIN": "csongor3",
                                    "Szállítási mód": "Részösszeg",
                                    "Db": "15"
                                },
                                {
                                    "LOGIN": "dani",
                                    "Szállítási mód": "GLS",
                                    "Db": "5"
                                },
                                {
                                    "LOGIN": "dani",
                                    "Szállítási mód": "Személyes átvétel",
                                    "Db": "8"
                                },
                                {
                                    "LOGIN": "dani",
                                    "Szállítási mód": "Részösszeg",
                                    "Db": "13"
                                },
                                {
                                    "LOGIN": "daniel",
                                    "Szállítási mód": "GLS",
                                    "Db": "7"
                                },
                                {
                                    "LOGIN": "daniel",
                                    "Szállítási mód": "Posta",
                                    "Db": "2"
                                },
                                {
                                    "LOGIN": "daniel",
                                    "Szállítási mód": "Személyes átvétel",
                                    "Db": "4"
                                },
                                {
                                    "LOGIN": "daniel",
                                    "Szállítási mód": "Részösszeg",
                                    "Db": "13"
                                },
                                {
                                    "LOGIN": "daniel1",
                                    "Szállítási mód": "GLS",
                                    "Db": "156"
                                },
                                {
                                    "LOGIN": "daniel1",
                                    "Szállítási mód": "Posta",
                                    "Db": "131"
                                },
                                {
                                    "LOGIN": "daniel1",
                                    "Szállítási mód": "Személyes átvétel",
                                    "Db": "132"
                                },
                                {
                                    "LOGIN": "daniel1",
                                    "Szállítási mód": "Részösszeg",
                                    "Db": "419"
                                },
                                {
                                    "LOGIN": "david",
                                    "Szállítási mód": "GLS",
                                    "Db": "161"
                                },
                                {
                                    "LOGIN": "david",
                                    "Szállítási mód": "Posta",
                                    "Db": "144"
                                },
                                {
                                    "LOGIN": "david",
                                    "Szállítási mód": "Személyes átvétel",
                                    "Db": "146"
                                },
                                {
                                    "LOGIN": "david",
                                    "Szállítási mód": "Részösszeg",
                                    "Db": "451"
                                },
                                {
                                    "LOGIN": "david1",
                                    "Szállítási mód": "GLS",
                                    "Db": "8"
                                },
                                {
                                    "LOGIN": "david1",
                                    "Szállítási mód": "Posta",
                                    "Db": "1"
                                },
                                {
                                    "LOGIN": "david1",
                                    "Szállítási mód": "Személyes átvétel",
                                    "Db": "8"
                                },
                                {
                                    "LOGIN": "david1",
                                    "Szállítási mód": "Részösszeg",
                                    "Db": "17"
                                },
                                {
                                    "LOGIN": "david4",
                                    "Szállítási mód": "GLS",
                                    "Db": "3"
                                },
                                {
                                    "LOGIN": "david4",
                                    "Szállítási mód": "Posta",
                                    "Db": "8"
                                },
                                {
                                    "LOGIN": "david4",
                                    "Szállítási mód": "Személyes átvétel",
                                    "Db": "10"
                                },
                                {
                                    "LOGIN": "david4",
                                    "Szállítási mód": "Részösszeg",
                                    "Db": "21"
                                },
                                {
                                    "LOGIN": "debora",
                                    "Szállítási mód": "GLS",
                                    "Db": "7"
                                },
                                {
                                    "LOGIN": "debora",
                                    "Szállítási mód": "Posta",
                                    "Db": "6"
                                },
                                {
                                    "LOGIN": "debora",
                                    "Szállítási mód": "Személyes átvétel",
                                    "Db": "3"
                                },
                                {
                                    "LOGIN": "debora",
                                    "Szállítási mód": "Részösszeg",
                                    "Db": "16"
                                },
                                {
                                    "LOGIN": "denes",
                                    "Szállítási mód": "GLS",
                                    "Db": "3"
                                },
                                {
                                    "LOGIN": "denes",
                                    "Szállítási mód": "Posta",
                                    "Db": "2"
                                },
                                {
                                    "LOGIN": "denes",
                                    "Szállítási mód": "Személyes átvétel",
                                    "Db": "4"
                                },
                                {
                                    "LOGIN": "denes",
                                    "Szállítási mód": "Részösszeg",
                                    "Db": "9"
                                },
                                {
                                    "LOGIN": "dora3",
                                    "Szállítási mód": "GLS",
                                    "Db": "144"
                                },
                                {
                                    "LOGIN": "dora3",
                                    "Szállítási mód": "Posta",
                                    "Db": "124"
                                },
                                {
                                    "LOGIN": "dora3",
                                    "Szállítási mód": "Személyes átvétel",
                                    "Db": "164"
                                },
                                {
                                    "LOGIN": "dora3",
                                    "Szállítási mód": "Részösszeg",
                                    "Db": "432"
                                },
                                {
                                    "LOGIN": "edit",
                                    "Szállítási mód": "GLS",
                                    "Db": "7"
                                },
                                {
                                    "LOGIN": "edit",
                                    "Szállítási mód": "Posta",
                                    "Db": "2"
                                },
                                {
                                    "LOGIN": "edit",
                                    "Szállítási mód": "Személyes átvétel",
                                    "Db": "4"
                                },
                                {
                                    "LOGIN": "edit",
                                    "Szállítási mód": "Részösszeg",
                                    "Db": "13"
                                },
                                {
                                    "LOGIN": "emese",
                                    "Szállítási mód": "GLS",
                                    "Db": "128"
                                },
                                {
                                    "LOGIN": "emese",
                                    "Szállítási mód": "Posta",
                                    "Db": "136"
                                },
                                {
                                    "LOGIN": "emese",
                                    "Szállítási mód": "Személyes átvétel",
                                    "Db": "142"
                                },
                                {
                                    "LOGIN": "emese",
                                    "Szállítási mód": "Részösszeg",
                                    "Db": "406"
                                },
                                {
                                    "LOGIN": "eszter2",
                                    "Szállítási mód": "GLS",
                                    "Db": "127"
                                },
                                {
                                    "LOGIN": "eszter2",
                                    "Szállítási mód": "Posta",
                                    "Db": "136"
                                },
                                {
                                    "LOGIN": "eszter2",
                                    "Szállítási mód": "Személyes átvétel",
                                    "Db": "152"
                                },
                                {
                                    "LOGIN": "eszter2",
                                    "Szállítási mód": "Részösszeg",
                                    "Db": "415"
                                },
                                {
                                    "LOGIN": "eszter4",
                                    "Szállítási mód": "GLS",
                                    "Db": "141"
                                },
                                {
                                    "LOGIN": "eszter4",
                                    "Szállítási mód": "Posta",
                                    "Db": "134"
                                },
                                {
                                    "LOGIN": "eszter4",
                                    "Szállítási mód": "Személyes átvétel",
                                    "Db": "149"
                                },
                                {
                                    "LOGIN": "eszter4",
                                    "Szállítási mód": "Részösszeg",
                                    "Db": "424"
                                },
                                {
                                    "LOGIN": "ESZTERE",
                                    "Szállítási mód": "GLS",
                                    "Db": "6"
                                },
                                {
                                    "LOGIN": "ESZTERE",
                                    "Szállítási mód": "Posta",
                                    "Db": "9"
                                },
                                {
                                    "LOGIN": "ESZTERE",
                                    "Szállítási mód": "Személyes átvétel",
                                    "Db": "7"
                                },
                                {
                                    "LOGIN": "ESZTERE",
                                    "Szállítási mód": "Részösszeg",
                                    "Db": "22"
                                },
                                {
                                    "LOGIN": "eva",
                                    "Szállítási mód": "GLS",
                                    "Db": "125"
                                },
                                {
                                    "LOGIN": "eva",
                                    "Szállítási mód": "Posta",
                                    "Db": "140"
                                },
                                {
                                    "LOGIN": "eva",
                                    "Szállítási mód": "Személyes átvétel",
                                    "Db": "139"
                                },
                                {
                                    "LOGIN": "eva",
                                    "Szállítási mód": "Részösszeg",
                                    "Db": "404"
                                },
                                {
                                    "LOGIN": "eva2",
                                    "Szállítási mód": "GLS",
                                    "Db": "154"
                                },
                                {
                                    "LOGIN": "eva2",
                                    "Szállítási mód": "Posta",
                                    "Db": "138"
                                },
                                {
                                    "LOGIN": "eva2",
                                    "Szállítási mód": "Személyes átvétel",
                                    "Db": "170"
                                },
                                {
                                    "LOGIN": "eva2",
                                    "Szállítási mód": "Részösszeg",
                                    "Db": "462"
                                },
                                {
                                    "LOGIN": "EVAV",
                                    "Szállítási mód": "GLS",
                                    "Db": "2"
                                },
                                {
                                    "LOGIN": "EVAV",
                                    "Szállítási mód": "Posta",
                                    "Db": "1"
                                },
                                {
                                    "LOGIN": "EVAV",
                                    "Szállítási mód": "Személyes átvétel",
                                    "Db": "4"
                                },
                                {
                                    "LOGIN": "EVAV",
                                    "Szállítási mód": "Részösszeg",
                                    "Db": "7"
                                },
                                {
                                    "LOGIN": "ferenc1",
                                    "Szállítási mód": "GLS",
                                    "Db": "144"
                                },
                                {
                                    "LOGIN": "ferenc1",
                                    "Szállítási mód": "Posta",
                                    "Db": "158"
                                },
                                {
                                    "LOGIN": "ferenc1",
                                    "Szállítási mód": "Személyes átvétel",
                                    "Db": "135"
                                },
                                {
                                    "LOGIN": "ferenc1",
                                    "Szállítási mód": "Részösszeg",
                                    "Db": "437"
                                },
                                {
                                    "LOGIN": "fruzsina4",
                                    "Szállítási mód": "GLS",
                                    "Db": "8"
                                },
                                {
                                    "LOGIN": "fruzsina4",
                                    "Szállítási mód": "Posta",
                                    "Db": "3"
                                },
                                {
                                    "LOGIN": "fruzsina4",
                                    "Szállítási mód": "Személyes átvétel",
                                    "Db": "7"
                                },
                                {
                                    "LOGIN": "fruzsina4",
                                    "Szállítási mód": "Részösszeg",
                                    "Db": "18"
                                },
                                {
                                    "LOGIN": "gabor1",
                                    "Szállítási mód": "GLS",
                                    "Db": "9"
                                },
                                {
                                    "LOGIN": "gabor1",
                                    "Szállítási mód": "Posta",
                                    "Db": "5"
                                },
                                {
                                    "LOGIN": "gabor1",
                                    "Szállítási mód": "Személyes átvétel",
                                    "Db": "5"
                                },
                                {
                                    "LOGIN": "gabor1",
                                    "Szállítási mód": "Részösszeg",
                                    "Db": "19"
                                },
                                {
                                    "LOGIN": "gabor4",
                                    "Szállítási mód": "GLS",
                                    "Db": "7"
                                },
                                {
                                    "LOGIN": "gabor4",
                                    "Szállítási mód": "Posta",
                                    "Db": "9"
                                },
                                {
                                    "LOGIN": "gabor4",
                                    "Szállítási mód": "Személyes átvétel",
                                    "Db": "4"
                                },
                                {
                                    "LOGIN": "gabor4",
                                    "Szállítási mód": "Részösszeg",
                                    "Db": "20"
                                },
                                {
                                    "LOGIN": "GABORS",
                                    "Szállítási mód": "GLS",
                                    "Db": "5"
                                },
                                {
                                    "LOGIN": "GABORS",
                                    "Szállítási mód": "Posta",
                                    "Db": "6"
                                },
                                {
                                    "LOGIN": "GABORS",
                                    "Szállítási mód": "Személyes átvétel",
                                    "Db": "4"
                                },
                                {
                                    "LOGIN": "GABORS",
                                    "Szállítási mód": "Részösszeg",
                                    "Db": "15"
                                },
                                {
                                    "LOGIN": "gabriella1",
                                    "Szállítási mód": "GLS",
                                    "Db": "5"
                                },
                                {
                                    "LOGIN": "gabriella1",
                                    "Szállítási mód": "Posta",
                                    "Db": "4"
                                },
                                {
                                    "LOGIN": "gabriella1",
                                    "Szállítási mód": "Személyes átvétel",
                                    "Db": "5"
                                },
                                {
                                    "LOGIN": "gabriella1",
                                    "Szállítási mód": "Részösszeg",
                                    "Db": "14"
                                },
                                {
                                    "LOGIN": "gabriella10",
                                    "Szállítási mód": "GLS",
                                    "Db": "4"
                                },
                                {
                                    "LOGIN": "gabriella10",
                                    "Szállítási mód": "Posta",
                                    "Db": "5"
                                },
                                {
                                    "LOGIN": "gabriella10",
                                    "Szállítási mód": "Személyes átvétel",
                                    "Db": "7"
                                },
                                {
                                    "LOGIN": "gabriella10",
                                    "Szállítási mód": "Részösszeg",
                                    "Db": "16"
                                },
                                {
                                    "LOGIN": "georgij",
                                    "Szállítási mód": "GLS",
                                    "Db": "9"
                                },
                                {
                                    "LOGIN": "georgij",
                                    "Szállítási mód": "Posta",
                                    "Db": "2"
                                },
                                {
                                    "LOGIN": "georgij",
                                    "Szállítási mód": "Személyes átvétel",
                                    "Db": "10"
                                },
                                {
                                    "LOGIN": "georgij",
                                    "Szállítási mód": "Részösszeg",
                                    "Db": "21"
                                },
                                {
                                    "LOGIN": "gusztav",
                                    "Szállítási mód": "GLS",
                                    "Db": "5"
                                },
                                {
                                    "LOGIN": "gusztav",
                                    "Szállítási mód": "Posta",
                                    "Db": "4"
                                },
                                {
                                    "LOGIN": "gusztav",
                                    "Szállítási mód": "Személyes átvétel",
                                    "Db": "5"
                                },
                                {
                                    "LOGIN": "gusztav",
                                    "Szállítási mód": "Részösszeg",
                                    "Db": "14"
                                },
                                {
                                    "LOGIN": "GYONGYIK",
                                    "Szállítási mód": "GLS",
                                    "Db": "6"
                                },
                                {
                                    "LOGIN": "GYONGYIK",
                                    "Szállítási mód": "Posta",
                                    "Db": "6"
                                },
                                {
                                    "LOGIN": "GYONGYIK",
                                    "Szállítási mód": "Személyes átvétel",
                                    "Db": "3"
                                },
                                {
                                    "LOGIN": "GYONGYIK",
                                    "Szállítási mód": "Részösszeg",
                                    "Db": "15"
                                },
                                {
                                    "LOGIN": "GYORGYO",
                                    "Szállítási mód": "GLS",
                                    "Db": "7"
                                },
                                {
                                    "LOGIN": "GYORGYO",
                                    "Szállítási mód": "Posta",
                                    "Db": "4"
                                },
                                {
                                    "LOGIN": "GYORGYO",
                                    "Szállítási mód": "Személyes átvétel",
                                    "Db": "5"
                                },
                                {
                                    "LOGIN": "GYORGYO",
                                    "Szállítási mód": "Részösszeg",
                                    "Db": "16"
                                },
                                {
                                    "LOGIN": "henrik3",
                                    "Szállítási mód": "GLS",
                                    "Db": "7"
                                },
                                {
                                    "LOGIN": "henrik3",
                                    "Szállítási mód": "Posta",
                                    "Db": "4"
                                },
                                {
                                    "LOGIN": "henrik3",
                                    "Szállítási mód": "Személyes átvétel",
                                    "Db": "5"
                                },
                                {
                                    "LOGIN": "henrik3",
                                    "Szállítási mód": "Részösszeg",
                                    "Db": "16"
                                },
                                {
                                    "LOGIN": "IBOLYAA",
                                    "Szállítási mód": "GLS",
                                    "Db": "140"
                                },
                                {
                                    "LOGIN": "IBOLYAA",
                                    "Szállítási mód": "Posta",
                                    "Db": "125"
                                },
                                {
                                    "LOGIN": "IBOLYAA",
                                    "Szállítási mód": "Személyes átvétel",
                                    "Db": "157"
                                },
                                {
                                    "LOGIN": "IBOLYAA",
                                    "Szállítási mód": "Részösszeg",
                                    "Db": "422"
                                },
                                {
                                    "LOGIN": "ilona3",
                                    "Szállítási mód": "GLS",
                                    "Db": "9"
                                },
                                {
                                    "LOGIN": "ilona3",
                                    "Szállítási mód": "Posta",
                                    "Db": "2"
                                },
                                {
                                    "LOGIN": "ilona3",
                                    "Szállítási mód": "Személyes átvétel",
                                    "Db": "7"
                                },
                                {
                                    "LOGIN": "ilona3",
                                    "Szállítási mód": "Részösszeg",
                                    "Db": "18"
                                },
                                {
                                    "LOGIN": "imre",
                                    "Szállítási mód": "GLS",
                                    "Db": "5"
                                },
                                {
                                    "LOGIN": "imre",
                                    "Szállítási mód": "Posta",
                                    "Db": "4"
                                },
                                {
                                    "LOGIN": "imre",
                                    "Szállítási mód": "Személyes átvétel",
                                    "Db": "6"
                                },
                                {
                                    "LOGIN": "imre",
                                    "Szállítási mód": "Részösszeg",
                                    "Db": "15"
                                },
                                {
                                    "LOGIN": "imre1",
                                    "Szállítási mód": "GLS",
                                    "Db": "8"
                                },
                                {
                                    "LOGIN": "imre1",
                                    "Szállítási mód": "Posta",
                                    "Db": "4"
                                },
                                {
                                    "LOGIN": "imre1",
                                    "Szállítási mód": "Személyes átvétel",
                                    "Db": "3"
                                },
                                {
                                    "LOGIN": "imre1",
                                    "Szállítási mód": "Részösszeg",
                                    "Db": "15"
                                },
                                {
                                    "LOGIN": "istvan",
                                    "Szállítási mód": "GLS",
                                    "Db": "3"
                                },
                                {
                                    "LOGIN": "istvan",
                                    "Szállítási mód": "Posta",
                                    "Db": "4"
                                },
                                {
                                    "LOGIN": "istvan",
                                    "Szállítási mód": "Személyes átvétel",
                                    "Db": "4"
                                },
                                {
                                    "LOGIN": "istvan",
                                    "Szállítási mód": "Részösszeg",
                                    "Db": "11"
                                },
                                {
                                    "LOGIN": "istvan1",
                                    "Szállítási mód": "GLS",
                                    "Db": "8"
                                },
                                {
                                    "LOGIN": "istvan1",
                                    "Szállítási mód": "Posta",
                                    "Db": "4"
                                },
                                {
                                    "LOGIN": "istvan1",
                                    "Szállítási mód": "Személyes átvétel",
                                    "Db": "7"
                                },
                                {
                                    "LOGIN": "istvan1",
                                    "Szállítási mód": "Részösszeg",
                                    "Db": "19"
                                },
                                {
                                    "LOGIN": "ISTVANV",
                                    "Szállítási mód": "GLS",
                                    "Db": "4"
                                },
                                {
                                    "LOGIN": "ISTVANV",
                                    "Szállítási mód": "Posta",
                                    "Db": "9"
                                },
                                {
                                    "LOGIN": "ISTVANV",
                                    "Szállítási mód": "Személyes átvétel",
                                    "Db": "8"
                                },
                                {
                                    "LOGIN": "ISTVANV",
                                    "Szállítási mód": "Részösszeg",
                                    "Db": "21"
                                },
                                {
                                    "LOGIN": "janos3",
                                    "Szállítási mód": "GLS",
                                    "Db": "5"
                                },
                                {
                                    "LOGIN": "janos3",
                                    "Szállítási mód": "Posta",
                                    "Db": "2"
                                },
                                {
                                    "LOGIN": "janos3",
                                    "Szállítási mód": "Személyes átvétel",
                                    "Db": "6"
                                },
                                {
                                    "LOGIN": "janos3",
                                    "Szállítási mód": "Részösszeg",
                                    "Db": "13"
                                },
                                {
                                    "LOGIN": "JANOSG",
                                    "Szállítási mód": "GLS",
                                    "Db": "3"
                                },
                                {
                                    "LOGIN": "JANOSG",
                                    "Szállítási mód": "Posta",
                                    "Db": "3"
                                },
                                {
                                    "LOGIN": "JANOSG",
                                    "Szállítási mód": "Személyes átvétel",
                                    "Db": "4"
                                },
                                {
                                    "LOGIN": "JANOSG",
                                    "Szállítási mód": "Részösszeg",
                                    "Db": "10"
                                },
                                {
                                    "LOGIN": "JANOSP",
                                    "Szállítási mód": "GLS",
                                    "Db": "7"
                                },
                                {
                                    "LOGIN": "JANOSP",
                                    "Szállítási mód": "Posta",
                                    "Db": "7"
                                },
                                {
                                    "LOGIN": "JANOSP",
                                    "Szállítási mód": "Személyes átvétel",
                                    "Db": "3"
                                },
                                {
                                    "LOGIN": "JANOSP",
                                    "Szállítási mód": "Részösszeg",
                                    "Db": "17"
                                },
                                {
                                    "LOGIN": "jozsef",
                                    "Szállítási mód": "GLS",
                                    "Db": "116"
                                },
                                {
                                    "LOGIN": "jozsef",
                                    "Szállítási mód": "Posta",
                                    "Db": "132"
                                },
                                {
                                    "LOGIN": "jozsef",
                                    "Szállítási mód": "Személyes átvétel",
                                    "Db": "134"
                                },
                                {
                                    "LOGIN": "jozsef",
                                    "Szállítási mód": "Részösszeg",
                                    "Db": "382"
                                },
                                {
                                    "LOGIN": "jozsef2",
                                    "Szállítási mód": "GLS",
                                    "Db": "7"
                                },
                                {
                                    "LOGIN": "jozsef2",
                                    "Szállítási mód": "Posta",
                                    "Db": "2"
                                },
                                {
                                    "LOGIN": "jozsef2",
                                    "Szállítási mód": "Személyes átvétel",
                                    "Db": "4"
                                },
                                {
                                    "LOGIN": "jozsef2",
                                    "Szállítási mód": "Részösszeg",
                                    "Db": "13"
                                },
                                {
                                    "LOGIN": "JOZSEFG",
                                    "Szállítási mód": "GLS",
                                    "Db": "11"
                                },
                                {
                                    "LOGIN": "JOZSEFG",
                                    "Szállítási mód": "Posta",
                                    "Db": "1"
                                },
                                {
                                    "LOGIN": "JOZSEFG",
                                    "Szállítási mód": "Személyes átvétel",
                                    "Db": "9"
                                },
                                {
                                    "LOGIN": "JOZSEFG",
                                    "Szállítási mód": "Részösszeg",
                                    "Db": "21"
                                },
                                {
                                    "LOGIN": "JUDITH",
                                    "Szállítási mód": "GLS",
                                    "Db": "170"
                                },
                                {
                                    "LOGIN": "JUDITH",
                                    "Szállítási mód": "Posta",
                                    "Db": "130"
                                },
                                {
                                    "LOGIN": "JUDITH",
                                    "Szállítási mód": "Személyes átvétel",
                                    "Db": "150"
                                },
                                {
                                    "LOGIN": "JUDITH",
                                    "Szállítási mód": "Részösszeg",
                                    "Db": "450"
                                },
                                {
                                    "LOGIN": "julia",
                                    "Szállítási mód": "GLS",
                                    "Db": "137"
                                },
                                {
                                    "LOGIN": "julia",
                                    "Szállítási mód": "Posta",
                                    "Db": "160"
                                },
                                {
                                    "LOGIN": "julia",
                                    "Szállítási mód": "Személyes átvétel",
                                    "Db": "138"
                                },
                                {
                                    "LOGIN": "julia",
                                    "Szállítási mód": "Részösszeg",
                                    "Db": "435"
                                },
                                {
                                    "LOGIN": "julia4",
                                    "Szállítási mód": "GLS",
                                    "Db": "2"
                                },
                                {
                                    "LOGIN": "julia4",
                                    "Szállítási mód": "Posta",
                                    "Db": "4"
                                },
                                {
                                    "LOGIN": "julia4",
                                    "Szállítási mód": "Személyes átvétel",
                                    "Db": "8"
                                },
                                {
                                    "LOGIN": "julia4",
                                    "Szállítási mód": "Részösszeg",
                                    "Db": "14"
                                },
                                {
                                    "LOGIN": "julianna4",
                                    "Szállítási mód": "GLS",
                                    "Db": "8"
                                },
                                {
                                    "LOGIN": "julianna4",
                                    "Szállítási mód": "Posta",
                                    "Db": "12"
                                },
                                {
                                    "LOGIN": "julianna4",
                                    "Szállítási mód": "Személyes átvétel",
                                    "Db": "7"
                                },
                                {
                                    "LOGIN": "julianna4",
                                    "Szállítási mód": "Részösszeg",
                                    "Db": "27"
                                },
                                {
                                    "LOGIN": "kata",
                                    "Szállítási mód": "GLS",
                                    "Db": "5"
                                },
                                {
                                    "LOGIN": "kata",
                                    "Szállítási mód": "Posta",
                                    "Db": "4"
                                },
                                {
                                    "LOGIN": "kata",
                                    "Szállítási mód": "Személyes átvétel",
                                    "Db": "3"
                                },
                                {
                                    "LOGIN": "kata",
                                    "Szállítási mód": "Részösszeg",
                                    "Db": "12"
                                },
                                {
                                    "LOGIN": "katalin",
                                    "Szállítási mód": "GLS",
                                    "Db": "7"
                                },
                                {
                                    "LOGIN": "katalin",
                                    "Szállítási mód": "Posta",
                                    "Db": "7"
                                },
                                {
                                    "LOGIN": "katalin",
                                    "Szállítási mód": "Személyes átvétel",
                                    "Db": "5"
                                },
                                {
                                    "LOGIN": "katalin",
                                    "Szállítási mód": "Részösszeg",
                                    "Db": "19"
                                },
                                {
                                    "LOGIN": "katalin4",
                                    "Szállítási mód": "GLS",
                                    "Db": "7"
                                },
                                {
                                    "LOGIN": "katalin4",
                                    "Szállítási mód": "Posta",
                                    "Db": "5"
                                },
                                {
                                    "LOGIN": "katalin4",
                                    "Szállítási mód": "Személyes átvétel",
                                    "Db": "11"
                                },
                                {
                                    "LOGIN": "katalin4",
                                    "Szállítási mód": "Részösszeg",
                                    "Db": "23"
                                },
                                {
                                    "LOGIN": "kati",
                                    "Szállítási mód": "GLS",
                                    "Db": "4"
                                },
                                {
                                    "LOGIN": "kati",
                                    "Szállítási mód": "Posta",
                                    "Db": "5"
                                },
                                {
                                    "LOGIN": "kati",
                                    "Szállítási mód": "Személyes átvétel",
                                    "Db": "4"
                                },
                                {
                                    "LOGIN": "kati",
                                    "Szállítási mód": "Részösszeg",
                                    "Db": "13"
                                },
                                {
                                    "LOGIN": "katka",
                                    "Szállítási mód": "GLS",
                                    "Db": "6"
                                },
                                {
                                    "LOGIN": "katka",
                                    "Szállítási mód": "Posta",
                                    "Db": "6"
                                },
                                {
                                    "LOGIN": "katka",
                                    "Szállítási mód": "Személyes átvétel",
                                    "Db": "10"
                                },
                                {
                                    "LOGIN": "katka",
                                    "Szállítási mód": "Részösszeg",
                                    "Db": "22"
                                },
                                {
                                    "LOGIN": "klaudia2",
                                    "Szállítási mód": "GLS",
                                    "Db": "3"
                                },
                                {
                                    "LOGIN": "klaudia2",
                                    "Szállítási mód": "Posta",
                                    "Db": "9"
                                },
                                {
                                    "LOGIN": "klaudia2",
                                    "Szállítási mód": "Személyes átvétel",
                                    "Db": "5"
                                },
                                {
                                    "LOGIN": "klaudia2",
                                    "Szállítási mód": "Részösszeg",
                                    "Db": "17"
                                },
                                {
                                    "LOGIN": "kornel4",
                                    "Szállítási mód": "GLS",
                                    "Db": "3"
                                },
                                {
                                    "LOGIN": "kornel4",
                                    "Szállítási mód": "Posta",
                                    "Db": "1"
                                },
                                {
                                    "LOGIN": "kornel4",
                                    "Szállítási mód": "Személyes átvétel",
                                    "Db": "7"
                                },
                                {
                                    "LOGIN": "kornel4",
                                    "Szállítási mód": "Részösszeg",
                                    "Db": "11"
                                },
                                {
                                    "LOGIN": "kristof4",
                                    "Szállítási mód": "GLS",
                                    "Db": "9"
                                },
                                {
                                    "LOGIN": "kristof4",
                                    "Szállítási mód": "Posta",
                                    "Db": "4"
                                },
                                {
                                    "LOGIN": "kristof4",
                                    "Szállítási mód": "Személyes átvétel",
                                    "Db": "8"
                                },
                                {
                                    "LOGIN": "kristof4",
                                    "Szállítási mód": "Részösszeg",
                                    "Db": "21"
                                },
                                {
                                    "LOGIN": "kriszti",
                                    "Szállítási mód": "GLS",
                                    "Db": "3"
                                },
                                {
                                    "LOGIN": "kriszti",
                                    "Szállítási mód": "Posta",
                                    "Db": "5"
                                },
                                {
                                    "LOGIN": "kriszti",
                                    "Szállítási mód": "Személyes átvétel",
                                    "Db": "5"
                                },
                                {
                                    "LOGIN": "kriszti",
                                    "Szállítási mód": "Részösszeg",
                                    "Db": "13"
                                },
                                {
                                    "LOGIN": "krisztian4",
                                    "Szállítási mód": "GLS",
                                    "Db": "5"
                                },
                                {
                                    "LOGIN": "krisztian4",
                                    "Szállítási mód": "Posta",
                                    "Db": "6"
                                },
                                {
                                    "LOGIN": "krisztian4",
                                    "Szállítási mód": "Személyes átvétel",
                                    "Db": "6"
                                },
                                {
                                    "LOGIN": "krisztian4",
                                    "Szállítási mód": "Részösszeg",
                                    "Db": "17"
                                },
                                {
                                    "LOGIN": "KRISZTIANM",
                                    "Szállítási mód": "GLS",
                                    "Db": "118"
                                },
                                {
                                    "LOGIN": "KRISZTIANM",
                                    "Szállítási mód": "Posta",
                                    "Db": "136"
                                },
                                {
                                    "LOGIN": "KRISZTIANM",
                                    "Szállítási mód": "Személyes átvétel",
                                    "Db": "130"
                                },
                                {
                                    "LOGIN": "KRISZTIANM",
                                    "Szállítási mód": "Részösszeg",
                                    "Db": "384"
                                },
                                {
                                    "LOGIN": "krisztina",
                                    "Szállítási mód": "GLS",
                                    "Db": "149"
                                },
                                {
                                    "LOGIN": "krisztina",
                                    "Szállítási mód": "Posta",
                                    "Db": "150"
                                },
                                {
                                    "LOGIN": "krisztina",
                                    "Szállítási mód": "Személyes átvétel",
                                    "Db": "157"
                                },
                                {
                                    "LOGIN": "krisztina",
                                    "Szállítási mód": "Részösszeg",
                                    "Db": "456"
                                },
                                {
                                    "LOGIN": "krisztina1",
                                    "Szállítási mód": "GLS",
                                    "Db": "10"
                                },
                                {
                                    "LOGIN": "krisztina1",
                                    "Szállítási mód": "Posta",
                                    "Db": "4"
                                },
                                {
                                    "LOGIN": "krisztina1",
                                    "Szállítási mód": "Személyes átvétel",
                                    "Db": "8"
                                },
                                {
                                    "LOGIN": "krisztina1",
                                    "Szállítási mód": "Részösszeg",
                                    "Db": "22"
                                },
                                {
                                    "LOGIN": "KRISZTINAG",
                                    "Szállítási mód": "GLS",
                                    "Db": "6"
                                },
                                {
                                    "LOGIN": "KRISZTINAG",
                                    "Szállítási mód": "Posta",
                                    "Db": "6"
                                },
                                {
                                    "LOGIN": "KRISZTINAG",
                                    "Szállítási mód": "Személyes átvétel",
                                    "Db": "10"
                                },
                                {
                                    "LOGIN": "KRISZTINAG",
                                    "Szállítási mód": "Részösszeg",
                                    "Db": "22"
                                },
                                {
                                    "LOGIN": "lajos",
                                    "Szállítási mód": "GLS",
                                    "Db": "5"
                                },
                                {
                                    "LOGIN": "lajos",
                                    "Szállítási mód": "Posta",
                                    "Db": "2"
                                },
                                {
                                    "LOGIN": "lajos",
                                    "Szállítási mód": "Személyes átvétel",
                                    "Db": "9"
                                },
                                {
                                    "LOGIN": "lajos",
                                    "Szállítási mód": "Részösszeg",
                                    "Db": "16"
                                },
                                {
                                    "LOGIN": "lala",
                                    "Szállítási mód": "GLS",
                                    "Db": "5"
                                },
                                {
                                    "LOGIN": "lala",
                                    "Szállítási mód": "Posta",
                                    "Db": "3"
                                },
                                {
                                    "LOGIN": "lala",
                                    "Szállítási mód": "Személyes átvétel",
                                    "Db": "9"
                                },
                                {
                                    "LOGIN": "lala",
                                    "Szállítási mód": "Részösszeg",
                                    "Db": "17"
                                },
                                {
                                    "LOGIN": "laszlo1",
                                    "Szállítási mód": "GLS",
                                    "Db": "130"
                                },
                                {
                                    "LOGIN": "laszlo1",
                                    "Szállítási mód": "Posta",
                                    "Db": "129"
                                },
                                {
                                    "LOGIN": "laszlo1",
                                    "Szállítási mód": "Személyes átvétel",
                                    "Db": "135"
                                },
                                {
                                    "LOGIN": "laszlo1",
                                    "Szállítási mód": "Részösszeg",
                                    "Db": "394"
                                },
                                {
                                    "LOGIN": "laszlo2",
                                    "Szállítási mód": "GLS",
                                    "Db": "12"
                                },
                                {
                                    "LOGIN": "laszlo2",
                                    "Szállítási mód": "Posta",
                                    "Db": "6"
                                },
                                {
                                    "LOGIN": "laszlo2",
                                    "Szállítási mód": "Személyes átvétel",
                                    "Db": "7"
                                },
                                {
                                    "LOGIN": "laszlo2",
                                    "Szállítási mód": "Részösszeg",
                                    "Db": "25"
                                },
                                {
                                    "LOGIN": "LASZLOA",
                                    "Szállítási mód": "GLS",
                                    "Db": "156"
                                },
                                {
                                    "LOGIN": "LASZLOA",
                                    "Szállítási mód": "Posta",
                                    "Db": "136"
                                },
                                {
                                    "LOGIN": "LASZLOA",
                                    "Szállítási mód": "Személyes átvétel",
                                    "Db": "154"
                                },
                                {
                                    "LOGIN": "LASZLOA",
                                    "Szállítási mód": "Részösszeg",
                                    "Db": "446"
                                },
                                {
                                    "LOGIN": "LASZLON",
                                    "Szállítási mód": "GLS",
                                    "Db": "126"
                                },
                                {
                                    "LOGIN": "LASZLON",
                                    "Szállítási mód": "Posta",
                                    "Db": "131"
                                },
                                {
                                    "LOGIN": "LASZLON",
                                    "Szállítási mód": "Személyes átvétel",
                                    "Db": "143"
                                },
                                {
                                    "LOGIN": "LASZLON",
                                    "Szállítási mód": "Részösszeg",
                                    "Db": "400"
                                },
                                {
                                    "LOGIN": "maria1",
                                    "Szállítási mód": "GLS",
                                    "Db": "4"
                                },
                                {
                                    "LOGIN": "maria1",
                                    "Szállítási mód": "Posta",
                                    "Db": "5"
                                },
                                {
                                    "LOGIN": "maria1",
                                    "Szállítási mód": "Személyes átvétel",
                                    "Db": "1"
                                },
                                {
                                    "LOGIN": "maria1",
                                    "Szállítási mód": "Részösszeg",
                                    "Db": "10"
                                },
                                {
                                    "LOGIN": "MARKH",
                                    "Szállítási mód": "GLS",
                                    "Db": "128"
                                },
                                {
                                    "LOGIN": "MARKH",
                                    "Szállítási mód": "Posta",
                                    "Db": "142"
                                },
                                {
                                    "LOGIN": "MARKH",
                                    "Szállítási mód": "Személyes átvétel",
                                    "Db": "142"
                                },
                                {
                                    "LOGIN": "MARKH",
                                    "Szállítási mód": "Részösszeg",
                                    "Db": "412"
                                },
                                {
                                    "LOGIN": "marton",
                                    "Szállítási mód": "GLS",
                                    "Db": "5"
                                },
                                {
                                    "LOGIN": "marton",
                                    "Szállítási mód": "Posta",
                                    "Db": "4"
                                },
                                {
                                    "LOGIN": "marton",
                                    "Szállítási mód": "Személyes átvétel",
                                    "Db": "5"
                                },
                                {
                                    "LOGIN": "marton",
                                    "Szállítási mód": "Részösszeg",
                                    "Db": "14"
                                },
                                {
                                    "LOGIN": "MATEK",
                                    "Szállítási mód": "GLS",
                                    "Db": "6"
                                },
                                {
                                    "LOGIN": "MATEK",
                                    "Szállítási mód": "Posta",
                                    "Db": "10"
                                },
                                {
                                    "LOGIN": "MATEK",
                                    "Szállítási mód": "Személyes átvétel",
                                    "Db": "9"
                                },
                                {
                                    "LOGIN": "MATEK",
                                    "Szállítási mód": "Részösszeg",
                                    "Db": "25"
                                },
                                {
                                    "LOGIN": "matyas2",
                                    "Szállítási mód": "GLS",
                                    "Db": "138"
                                },
                                {
                                    "LOGIN": "matyas2",
                                    "Szállítási mód": "Posta",
                                    "Db": "131"
                                },
                                {
                                    "LOGIN": "matyas2",
                                    "Szállítási mód": "Személyes átvétel",
                                    "Db": "164"
                                },
                                {
                                    "LOGIN": "matyas2",
                                    "Szállítási mód": "Részösszeg",
                                    "Db": "433"
                                },
                                {
                                    "LOGIN": "MATYASS",
                                    "Szállítási mód": "GLS",
                                    "Db": "4"
                                },
                                {
                                    "LOGIN": "MATYASS",
                                    "Szállítási mód": "Posta",
                                    "Db": "5"
                                },
                                {
                                    "LOGIN": "MATYASS",
                                    "Szállítási mód": "Személyes átvétel",
                                    "Db": "3"
                                },
                                {
                                    "LOGIN": "MATYASS",
                                    "Szállítási mód": "Részösszeg",
                                    "Db": "12"
                                },
                                {
                                    "LOGIN": "MIHALYJ",
                                    "Szállítási mód": "GLS",
                                    "Db": "3"
                                },
                                {
                                    "LOGIN": "MIHALYJ",
                                    "Szállítási mód": "Posta",
                                    "Db": "4"
                                },
                                {
                                    "LOGIN": "MIHALYJ",
                                    "Szállítási mód": "Személyes átvétel",
                                    "Db": "6"
                                },
                                {
                                    "LOGIN": "MIHALYJ",
                                    "Szállítási mód": "Részösszeg",
                                    "Db": "13"
                                },
                                {
                                    "LOGIN": "miklos2",
                                    "Szállítási mód": "GLS",
                                    "Db": "7"
                                },
                                {
                                    "LOGIN": "miklos2",
                                    "Szállítási mód": "Posta",
                                    "Db": "4"
                                },
                                {
                                    "LOGIN": "miklos2",
                                    "Szállítási mód": "Személyes átvétel",
                                    "Db": "2"
                                },
                                {
                                    "LOGIN": "miklos2",
                                    "Szállítási mód": "Részösszeg",
                                    "Db": "13"
                                },
                                {
                                    "LOGIN": "MIKLOSB",
                                    "Szállítási mód": "GLS",
                                    "Db": "6"
                                },
                                {
                                    "LOGIN": "MIKLOSB",
                                    "Szállítási mód": "Posta",
                                    "Db": "1"
                                },
                                {
                                    "LOGIN": "MIKLOSB",
                                    "Szállítási mód": "Személyes átvétel",
                                    "Db": "8"
                                },
                                {
                                    "LOGIN": "MIKLOSB",
                                    "Szállítási mód": "Részösszeg",
                                    "Db": "15"
                                },
                                {
                                    "LOGIN": "MONIKAM",
                                    "Szállítási mód": "GLS",
                                    "Db": "133"
                                },
                                {
                                    "LOGIN": "MONIKAM",
                                    "Szállítási mód": "Posta",
                                    "Db": "151"
                                },
                                {
                                    "LOGIN": "MONIKAM",
                                    "Szállítási mód": "Személyes átvétel",
                                    "Db": "123"
                                },
                                {
                                    "LOGIN": "MONIKAM",
                                    "Szállítási mód": "Részösszeg",
                                    "Db": "407"
                                },
                                {
                                    "LOGIN": "NANDORF",
                                    "Szállítási mód": "GLS",
                                    "Db": "147"
                                },
                                {
                                    "LOGIN": "NANDORF",
                                    "Szállítási mód": "Posta",
                                    "Db": "139"
                                },
                                {
                                    "LOGIN": "NANDORF",
                                    "Szállítási mód": "Személyes átvétel",
                                    "Db": "134"
                                },
                                {
                                    "LOGIN": "NANDORF",
                                    "Szállítási mód": "Részösszeg",
                                    "Db": "420"
                                },
                                {
                                    "LOGIN": "nikolett3",
                                    "Szállítási mód": "GLS",
                                    "Db": "4"
                                },
                                {
                                    "LOGIN": "nikolett3",
                                    "Szállítási mód": "Posta",
                                    "Db": "3"
                                },
                                {
                                    "LOGIN": "nikolett3",
                                    "Szállítási mód": "Személyes átvétel",
                                    "Db": "10"
                                },
                                {
                                    "LOGIN": "nikolett3",
                                    "Szállítási mód": "Részösszeg",
                                    "Db": "17"
                                },
                                {
                                    "LOGIN": "nikoletta4",
                                    "Szállítási mód": "GLS",
                                    "Db": "137"
                                },
                                {
                                    "LOGIN": "nikoletta4",
                                    "Szállítási mód": "Posta",
                                    "Db": "158"
                                },
                                {
                                    "LOGIN": "nikoletta4",
                                    "Szállítási mód": "Személyes átvétel",
                                    "Db": "119"
                                },
                                {
                                    "LOGIN": "nikoletta4",
                                    "Szállítási mód": "Részösszeg",
                                    "Db": "414"
                                },
                                {
                                    "LOGIN": "NIKOLETTAT",
                                    "Szállítási mód": "GLS",
                                    "Db": "13"
                                },
                                {
                                    "LOGIN": "NIKOLETTAT",
                                    "Szállítási mód": "Posta",
                                    "Db": "7"
                                },
                                {
                                    "LOGIN": "NIKOLETTAT",
                                    "Szállítási mód": "Személyes átvétel",
                                    "Db": "5"
                                },
                                {
                                    "LOGIN": "NIKOLETTAT",
                                    "Szállítási mód": "Részösszeg",
                                    "Db": "25"
                                },
                                {
                                    "LOGIN": "norbert2",
                                    "Szállítási mód": "GLS",
                                    "Db": "7"
                                },
                                {
                                    "LOGIN": "norbert2",
                                    "Szállítási mód": "Posta",
                                    "Db": "4"
                                },
                                {
                                    "LOGIN": "norbert2",
                                    "Szállítási mód": "Részösszeg",
                                    "Db": "11"
                                },
                                {
                                    "LOGIN": "norbert4",
                                    "Szállítási mód": "GLS",
                                    "Db": "1"
                                },
                                {
                                    "LOGIN": "norbert4",
                                    "Szállítási mód": "Posta",
                                    "Db": "3"
                                },
                                {
                                    "LOGIN": "norbert4",
                                    "Szállítási mód": "Személyes átvétel",
                                    "Db": "9"
                                },
                                {
                                    "LOGIN": "norbert4",
                                    "Szállítási mód": "Részösszeg",
                                    "Db": "13"
                                },
                                {
                                    "LOGIN": "norbert5",
                                    "Szállítási mód": "GLS",
                                    "Db": "1"
                                },
                                {
                                    "LOGIN": "norbert5",
                                    "Szállítási mód": "Posta",
                                    "Db": "6"
                                },
                                {
                                    "LOGIN": "norbert5",
                                    "Szállítási mód": "Személyes átvétel",
                                    "Db": "9"
                                },
                                {
                                    "LOGIN": "norbert5",
                                    "Szállítási mód": "Részösszeg",
                                    "Db": "16"
                                },
                                {
                                    "LOGIN": "pal",
                                    "Szállítási mód": "GLS",
                                    "Db": "152"
                                },
                                {
                                    "LOGIN": "pal",
                                    "Szállítási mód": "Posta",
                                    "Db": "132"
                                },
                                {
                                    "LOGIN": "pal",
                                    "Szállítási mód": "Személyes átvétel",
                                    "Db": "154"
                                },
                                {
                                    "LOGIN": "pal",
                                    "Szállítási mód": "Részösszeg",
                                    "Db": "438"
                                },
                                {
                                    "LOGIN": "peter1",
                                    "Szállítási mód": "GLS",
                                    "Db": "151"
                                },
                                {
                                    "LOGIN": "peter1",
                                    "Szállítási mód": "Posta",
                                    "Db": "135"
                                },
                                {
                                    "LOGIN": "peter1",
                                    "Szállítási mód": "Személyes átvétel",
                                    "Db": "126"
                                },
                                {
                                    "LOGIN": "peter1",
                                    "Szállítási mód": "Részösszeg",
                                    "Db": "412"
                                },
                                {
                                    "LOGIN": "peter2",
                                    "Szállítási mód": "GLS",
                                    "Db": "7"
                                },
                                {
                                    "LOGIN": "peter2",
                                    "Szállítási mód": "Posta",
                                    "Db": "4"
                                },
                                {
                                    "LOGIN": "peter2",
                                    "Szállítási mód": "Személyes átvétel",
                                    "Db": "7"
                                },
                                {
                                    "LOGIN": "peter2",
                                    "Szállítási mód": "Részösszeg",
                                    "Db": "18"
                                },
                                {
                                    "LOGIN": "peter3",
                                    "Szállítási mód": "GLS",
                                    "Db": "8"
                                },
                                {
                                    "LOGIN": "peter3",
                                    "Szállítási mód": "Posta",
                                    "Db": "7"
                                },
                                {
                                    "LOGIN": "peter3",
                                    "Szállítási mód": "Személyes átvétel",
                                    "Db": "10"
                                },
                                {
                                    "LOGIN": "peter3",
                                    "Szállítási mód": "Részösszeg",
                                    "Db": "25"
                                },
                                {
                                    "LOGIN": "peter4",
                                    "Szállítási mód": "GLS",
                                    "Db": "266"
                                },
                                {
                                    "LOGIN": "peter4",
                                    "Szállítási mód": "Posta",
                                    "Db": "293"
                                },
                                {
                                    "LOGIN": "peter4",
                                    "Szállítási mód": "Személyes átvétel",
                                    "Db": "293"
                                },
                                {
                                    "LOGIN": "peter4",
                                    "Szállítási mód": "Részösszeg",
                                    "Db": "852"
                                },
                                {
                                    "LOGIN": "PETERB",
                                    "Szállítási mód": "GLS",
                                    "Db": "2"
                                },
                                {
                                    "LOGIN": "PETERB",
                                    "Szállítási mód": "Posta",
                                    "Db": "4"
                                },
                                {
                                    "LOGIN": "PETERB",
                                    "Szállítási mód": "Személyes átvétel",
                                    "Db": "9"
                                },
                                {
                                    "LOGIN": "PETERB",
                                    "Szállítási mód": "Részösszeg",
                                    "Db": "15"
                                },
                                {
                                    "LOGIN": "polla",
                                    "Szállítási mód": "GLS",
                                    "Db": "9"
                                },
                                {
                                    "LOGIN": "polla",
                                    "Szállítási mód": "Posta",
                                    "Db": "6"
                                },
                                {
                                    "LOGIN": "polla",
                                    "Szállítási mód": "Személyes átvétel",
                                    "Db": "7"
                                },
                                {
                                    "LOGIN": "polla",
                                    "Szállítási mód": "Részösszeg",
                                    "Db": "22"
                                },
                                {
                                    "LOGIN": "rajmond4",
                                    "Szállítási mód": "GLS",
                                    "Db": "6"
                                },
                                {
                                    "LOGIN": "rajmond4",
                                    "Szállítási mód": "Posta",
                                    "Db": "5"
                                },
                                {
                                    "LOGIN": "rajmond4",
                                    "Szállítási mód": "Személyes átvétel",
                                    "Db": "6"
                                },
                                {
                                    "LOGIN": "rajmond4",
                                    "Szállítási mód": "Részösszeg",
                                    "Db": "17"
                                },
                                {
                                    "LOGIN": "reka4",
                                    "Szállítási mód": "GLS",
                                    "Db": "5"
                                },
                                {
                                    "LOGIN": "reka4",
                                    "Szállítási mód": "Posta",
                                    "Db": "4"
                                },
                                {
                                    "LOGIN": "reka4",
                                    "Szállítási mód": "Személyes átvétel",
                                    "Db": "11"
                                },
                                {
                                    "LOGIN": "reka4",
                                    "Szállítási mód": "Részösszeg",
                                    "Db": "20"
                                },
                                {
                                    "LOGIN": "RENATAK",
                                    "Szállítási mód": "GLS",
                                    "Db": "135"
                                },
                                {
                                    "LOGIN": "RENATAK",
                                    "Szállítási mód": "Posta",
                                    "Db": "140"
                                },
                                {
                                    "LOGIN": "RENATAK",
                                    "Szállítási mód": "Személyes átvétel",
                                    "Db": "147"
                                },
                                {
                                    "LOGIN": "RENATAK",
                                    "Szállítási mód": "Részösszeg",
                                    "Db": "422"
                                },
                                {
                                    "LOGIN": "RENATAS",
                                    "Szállítási mód": "GLS",
                                    "Db": "6"
                                },
                                {
                                    "LOGIN": "RENATAS",
                                    "Szállítási mód": "Posta",
                                    "Db": "5"
                                },
                                {
                                    "LOGIN": "RENATAS",
                                    "Szállítási mód": "Személyes átvétel",
                                    "Db": "5"
                                },
                                {
                                    "LOGIN": "RENATAS",
                                    "Szállítási mód": "Részösszeg",
                                    "Db": "16"
                                },
                                {
                                    "LOGIN": "robert2",
                                    "Szállítási mód": "GLS",
                                    "Db": "5"
                                },
                                {
                                    "LOGIN": "robert2",
                                    "Szállítási mód": "Posta",
                                    "Db": "1"
                                },
                                {
                                    "LOGIN": "robert2",
                                    "Szállítási mód": "Személyes átvétel",
                                    "Db": "7"
                                },
                                {
                                    "LOGIN": "robert2",
                                    "Szállítási mód": "Részösszeg",
                                    "Db": "13"
                                },
                                {
                                    "LOGIN": "ROBERTI",
                                    "Szállítási mód": "GLS",
                                    "Db": "5"
                                },
                                {
                                    "LOGIN": "ROBERTI",
                                    "Szállítási mód": "Posta",
                                    "Db": "3"
                                },
                                {
                                    "LOGIN": "ROBERTI",
                                    "Szállítási mód": "Személyes átvétel",
                                    "Db": "5"
                                },
                                {
                                    "LOGIN": "ROBERTI",
                                    "Szállítási mód": "Részösszeg",
                                    "Db": "13"
                                },
                                {
                                    "LOGIN": "ROBERTP",
                                    "Szállítási mód": "GLS",
                                    "Db": "8"
                                },
                                {
                                    "LOGIN": "ROBERTP",
                                    "Szállítási mód": "Posta",
                                    "Db": "8"
                                },
                                {
                                    "LOGIN": "ROBERTP",
                                    "Szállítási mód": "Személyes átvétel",
                                    "Db": "10"
                                },
                                {
                                    "LOGIN": "ROBERTP",
                                    "Szállítási mód": "Részösszeg",
                                    "Db": "26"
                                },
                                {
                                    "LOGIN": "roland",
                                    "Szállítási mód": "GLS",
                                    "Db": "132"
                                },
                                {
                                    "LOGIN": "roland",
                                    "Szállítási mód": "Posta",
                                    "Db": "157"
                                },
                                {
                                    "LOGIN": "roland",
                                    "Szállítási mód": "Személyes átvétel",
                                    "Db": "125"
                                },
                                {
                                    "LOGIN": "roland",
                                    "Szállítási mód": "Részösszeg",
                                    "Db": "414"
                                },
                                {
                                    "LOGIN": "roland1",
                                    "Szállítási mód": "GLS",
                                    "Db": "142"
                                },
                                {
                                    "LOGIN": "roland1",
                                    "Szállítási mód": "Posta",
                                    "Db": "155"
                                },
                                {
                                    "LOGIN": "roland1",
                                    "Szállítási mód": "Személyes átvétel",
                                    "Db": "135"
                                },
                                {
                                    "LOGIN": "roland1",
                                    "Szállítási mód": "Részösszeg",
                                    "Db": "432"
                                },
                                {
                                    "LOGIN": "roza2",
                                    "Szállítási mód": "GLS",
                                    "Db": "3"
                                },
                                {
                                    "LOGIN": "roza2",
                                    "Szállítási mód": "Posta",
                                    "Db": "2"
                                },
                                {
                                    "LOGIN": "roza2",
                                    "Szállítási mód": "Személyes átvétel",
                                    "Db": "3"
                                },
                                {
                                    "LOGIN": "roza2",
                                    "Szállítási mód": "Részösszeg",
                                    "Db": "8"
                                },
                                {
                                    "LOGIN": "sandor",
                                    "Szállítási mód": "GLS",
                                    "Db": "4"
                                },
                                {
                                    "LOGIN": "sandor",
                                    "Szállítási mód": "Posta",
                                    "Db": "6"
                                },
                                {
                                    "LOGIN": "sandor",
                                    "Szállítási mód": "Személyes átvétel",
                                    "Db": "7"
                                },
                                {
                                    "LOGIN": "sandor",
                                    "Szállítási mód": "Részösszeg",
                                    "Db": "17"
                                },
                                {
                                    "LOGIN": "sandor3",
                                    "Szállítási mód": "GLS",
                                    "Db": "4"
                                },
                                {
                                    "LOGIN": "sandor3",
                                    "Szállítási mód": "Posta",
                                    "Db": "4"
                                },
                                {
                                    "LOGIN": "sandor3",
                                    "Szállítási mód": "Személyes átvétel",
                                    "Db": "6"
                                },
                                {
                                    "LOGIN": "sandor3",
                                    "Szállítási mód": "Részösszeg",
                                    "Db": "14"
                                },
                                {
                                    "LOGIN": "sandor4",
                                    "Szállítási mód": "GLS",
                                    "Db": "4"
                                },
                                {
                                    "LOGIN": "sandor4",
                                    "Szállítási mód": "Posta",
                                    "Db": "2"
                                },
                                {
                                    "LOGIN": "sandor4",
                                    "Szállítási mód": "Személyes átvétel",
                                    "Db": "5"
                                },
                                {
                                    "LOGIN": "sandor4",
                                    "Szállítási mód": "Részösszeg",
                                    "Db": "11"
                                },
                                {
                                    "LOGIN": "sara",
                                    "Szállítási mód": "GLS",
                                    "Db": "4"
                                },
                                {
                                    "LOGIN": "sara",
                                    "Szállítási mód": "Posta",
                                    "Db": "7"
                                },
                                {
                                    "LOGIN": "sara",
                                    "Szállítási mód": "Személyes átvétel",
                                    "Db": "9"
                                },
                                {
                                    "LOGIN": "sara",
                                    "Szállítási mód": "Részösszeg",
                                    "Db": "20"
                                },
                                {
                                    "LOGIN": "SEBASTIANF",
                                    "Szállítási mód": "GLS",
                                    "Db": "6"
                                },
                                {
                                    "LOGIN": "SEBASTIANF",
                                    "Szállítási mód": "Posta",
                                    "Db": "3"
                                },
                                {
                                    "LOGIN": "SEBASTIANF",
                                    "Szállítási mód": "Személyes átvétel",
                                    "Db": "6"
                                },
                                {
                                    "LOGIN": "SEBASTIANF",
                                    "Szállítási mód": "Részösszeg",
                                    "Db": "15"
                                },
                                {
                                    "LOGIN": "sebestyen",
                                    "Szállítási mód": "GLS",
                                    "Db": "4"
                                },
                                {
                                    "LOGIN": "sebestyen",
                                    "Szállítási mód": "Posta",
                                    "Db": "6"
                                },
                                {
                                    "LOGIN": "sebestyen",
                                    "Szállítási mód": "Személyes átvétel",
                                    "Db": "6"
                                },
                                {
                                    "LOGIN": "sebestyen",
                                    "Szállítási mód": "Részösszeg",
                                    "Db": "16"
                                },
                                {
                                    "LOGIN": "szabolcs",
                                    "Szállítási mód": "GLS",
                                    "Db": "145"
                                },
                                {
                                    "LOGIN": "szabolcs",
                                    "Szállítási mód": "Posta",
                                    "Db": "157"
                                },
                                {
                                    "LOGIN": "szabolcs",
                                    "Szállítási mód": "Személyes átvétel",
                                    "Db": "169"
                                },
                                {
                                    "LOGIN": "szabolcs",
                                    "Szállítási mód": "Részösszeg",
                                    "Db": "471"
                                },
                                {
                                    "LOGIN": "SZABOLCSM",
                                    "Szállítási mód": "GLS",
                                    "Db": "126"
                                },
                                {
                                    "LOGIN": "SZABOLCSM",
                                    "Szállítási mód": "Posta",
                                    "Db": "153"
                                },
                                {
                                    "LOGIN": "SZABOLCSM",
                                    "Szállítási mód": "Személyes átvétel",
                                    "Db": "129"
                                },
                                {
                                    "LOGIN": "SZABOLCSM",
                                    "Szállítási mód": "Részösszeg",
                                    "Db": "408"
                                },
                                {
                                    "LOGIN": "SZILARDS",
                                    "Szállítási mód": "GLS",
                                    "Db": "144"
                                },
                                {
                                    "LOGIN": "SZILARDS",
                                    "Szállítási mód": "Posta",
                                    "Db": "131"
                                },
                                {
                                    "LOGIN": "SZILARDS",
                                    "Szállítási mód": "Személyes átvétel",
                                    "Db": "111"
                                },
                                {
                                    "LOGIN": "SZILARDS",
                                    "Szállítási mód": "Részösszeg",
                                    "Db": "386"
                                },
                                {
                                    "LOGIN": "szilvia1",
                                    "Szállítási mód": "GLS",
                                    "Db": "156"
                                },
                                {
                                    "LOGIN": "szilvia1",
                                    "Szállítási mód": "Posta",
                                    "Db": "151"
                                },
                                {
                                    "LOGIN": "szilvia1",
                                    "Szállítási mód": "Személyes átvétel",
                                    "Db": "138"
                                },
                                {
                                    "LOGIN": "szilvia1",
                                    "Szállítási mód": "Részösszeg",
                                    "Db": "445"
                                },
                                {
                                    "LOGIN": "tamara2",
                                    "Szállítási mód": "GLS",
                                    "Db": "6"
                                },
                                {
                                    "LOGIN": "tamara2",
                                    "Szállítási mód": "Posta",
                                    "Db": "4"
                                },
                                {
                                    "LOGIN": "tamara2",
                                    "Szállítási mód": "Személyes átvétel",
                                    "Db": "3"
                                },
                                {
                                    "LOGIN": "tamara2",
                                    "Szállítási mód": "Részösszeg",
                                    "Db": "13"
                                },
                                {
                                    "LOGIN": "tamas",
                                    "Szállítási mód": "GLS",
                                    "Db": "143"
                                },
                                {
                                    "LOGIN": "tamas",
                                    "Szállítási mód": "Posta",
                                    "Db": "156"
                                },
                                {
                                    "LOGIN": "tamas",
                                    "Szállítási mód": "Személyes átvétel",
                                    "Db": "122"
                                },
                                {
                                    "LOGIN": "tamas",
                                    "Szállítási mód": "Részösszeg",
                                    "Db": "421"
                                },
                                {
                                    "LOGIN": "TAMASF",
                                    "Szállítási mód": "GLS",
                                    "Db": "159"
                                },
                                {
                                    "LOGIN": "TAMASF",
                                    "Szállítási mód": "Posta",
                                    "Db": "145"
                                },
                                {
                                    "LOGIN": "TAMASF",
                                    "Szállítási mód": "Személyes átvétel",
                                    "Db": "129"
                                },
                                {
                                    "LOGIN": "TAMASF",
                                    "Szállítási mód": "Részösszeg",
                                    "Db": "433"
                                },
                                {
                                    "LOGIN": "tibor",
                                    "Szállítási mód": "GLS",
                                    "Db": "115"
                                },
                                {
                                    "LOGIN": "tibor",
                                    "Szállítási mód": "Posta",
                                    "Db": "129"
                                },
                                {
                                    "LOGIN": "tibor",
                                    "Szállítási mód": "Személyes átvétel",
                                    "Db": "130"
                                },
                                {
                                    "LOGIN": "tibor",
                                    "Szállítási mód": "Részösszeg",
                                    "Db": "374"
                                },
                                {
                                    "LOGIN": "tibor2",
                                    "Szállítási mód": "GLS",
                                    "Db": "7"
                                },
                                {
                                    "LOGIN": "tibor2",
                                    "Szállítási mód": "Posta",
                                    "Db": "7"
                                },
                                {
                                    "LOGIN": "tibor2",
                                    "Szállítási mód": "Személyes átvétel",
                                    "Db": "11"
                                },
                                {
                                    "LOGIN": "tibor2",
                                    "Szállítási mód": "Részösszeg",
                                    "Db": "25"
                                },
                                {
                                    "LOGIN": "tihamer",
                                    "Szállítási mód": "GLS",
                                    "Db": "9"
                                },
                                {
                                    "LOGIN": "tihamer",
                                    "Szállítási mód": "Posta",
                                    "Db": "6"
                                },
                                {
                                    "LOGIN": "tihamer",
                                    "Szállítási mód": "Személyes átvétel",
                                    "Db": "5"
                                },
                                {
                                    "LOGIN": "tihamer",
                                    "Szállítási mód": "Részösszeg",
                                    "Db": "20"
                                },
                                {
                                    "LOGIN": "timea",
                                    "Szállítási mód": "GLS",
                                    "Db": "14"
                                },
                                {
                                    "LOGIN": "timea",
                                    "Szállítási mód": "Posta",
                                    "Db": "23"
                                },
                                {
                                    "LOGIN": "timea",
                                    "Szállítási mód": "Személyes átvétel",
                                    "Db": "18"
                                },
                                {
                                    "LOGIN": "timea",
                                    "Szállítási mód": "Részösszeg",
                                    "Db": "55"
                                },
                                {
                                    "LOGIN": "timea2",
                                    "Szállítási mód": "GLS",
                                    "Db": "1"
                                },
                                {
                                    "LOGIN": "timea2",
                                    "Szállítási mód": "Posta",
                                    "Db": "5"
                                },
                                {
                                    "LOGIN": "timea2",
                                    "Szállítási mód": "Személyes átvétel",
                                    "Db": "10"
                                },
                                {
                                    "LOGIN": "timea2",
                                    "Szállítási mód": "Részösszeg",
                                    "Db": "16"
                                },
                                {
                                    "LOGIN": "tunde",
                                    "Szállítási mód": "GLS",
                                    "Db": "6"
                                },
                                {
                                    "LOGIN": "tunde",
                                    "Szállítási mód": "Posta",
                                    "Db": "6"
                                },
                                {
                                    "LOGIN": "tunde",
                                    "Szállítási mód": "Személyes átvétel",
                                    "Db": "4"
                                },
                                {
                                    "LOGIN": "tunde",
                                    "Szállítási mód": "Részösszeg",
                                    "Db": "16"
                                },
                                {
                                    "LOGIN": "valentin",
                                    "Szállítási mód": "GLS",
                                    "Db": "5"
                                },
                                {
                                    "LOGIN": "valentin",
                                    "Szállítási mód": "Posta",
                                    "Db": "5"
                                },
                                {
                                    "LOGIN": "valentin",
                                    "Szállítási mód": "Személyes átvétel",
                                    "Db": "3"
                                },
                                {
                                    "LOGIN": "valentin",
                                    "Szállítási mód": "Részösszeg",
                                    "Db": "13"
                                },
                                {
                                    "LOGIN": "veronika4",
                                    "Szállítási mód": "GLS",
                                    "Db": "5"
                                },
                                {
                                    "LOGIN": "veronika4",
                                    "Szállítási mód": "Posta",
                                    "Db": "6"
                                },
                                {
                                    "LOGIN": "veronika4",
                                    "Szállítási mód": "Személyes átvétel",
                                    "Db": "7"
                                },
                                {
                                    "LOGIN": "veronika4",
                                    "Szállítási mód": "Részösszeg",
                                    "Db": "18"
                                },
                                {
                                    "LOGIN": "VIKTORIAU",
                                    "Szállítási mód": "GLS",
                                    "Db": "5"
                                },
                                {
                                    "LOGIN": "VIKTORIAU",
                                    "Szállítási mód": "Posta",
                                    "Db": "4"
                                },
                                {
                                    "LOGIN": "VIKTORIAU",
                                    "Szállítási mód": "Személyes átvétel",
                                    "Db": "5"
                                },
                                {
                                    "LOGIN": "VIKTORIAU",
                                    "Szállítási mód": "Részösszeg",
                                    "Db": "14"
                                },
                                {
                                    "LOGIN": "VIKTORK",
                                    "Szállítási mód": "GLS",
                                    "Db": "8"
                                },
                                {
                                    "LOGIN": "VIKTORK",
                                    "Szállítási mód": "Posta",
                                    "Db": "6"
                                },
                                {
                                    "LOGIN": "VIKTORK",
                                    "Szállítási mód": "Személyes átvétel",
                                    "Db": "6"
                                },
                                {
                                    "LOGIN": "VIKTORK",
                                    "Szállítási mód": "Részösszeg",
                                    "Db": "20"
                                },
                                {
                                    "LOGIN": "vivien3",
                                    "Szállítási mód": "GLS",
                                    "Db": "9"
                                },
                                {
                                    "LOGIN": "vivien3",
                                    "Szállítási mód": "Posta",
                                    "Db": "6"
                                },
                                {
                                    "LOGIN": "vivien3",
                                    "Szállítási mód": "Személyes átvétel",
                                    "Db": "7"
                                },
                                {
                                    "LOGIN": "vivien3",
                                    "Szállítási mód": "Részösszeg",
                                    "Db": "22"
                                },
                                {
                                    "LOGIN": "zoltan",
                                    "Szállítási mód": "GLS",
                                    "Db": "5"
                                },
                                {
                                    "LOGIN": "zoltan",
                                    "Szállítási mód": "Posta",
                                    "Db": "3"
                                },
                                {
                                    "LOGIN": "zoltan",
                                    "Szállítási mód": "Személyes átvétel",
                                    "Db": "7"
                                },
                                {
                                    "LOGIN": "zoltan",
                                    "Szállítási mód": "Részösszeg",
                                    "Db": "15"
                                },
                                {
                                    "LOGIN": "zoltan4",
                                    "Szállítási mód": "GLS",
                                    "Db": "129"
                                },
                                {
                                    "LOGIN": "zoltan4",
                                    "Szállítási mód": "Posta",
                                    "Db": "124"
                                },
                                {
                                    "LOGIN": "zoltan4",
                                    "Szállítási mód": "Személyes átvétel",
                                    "Db": "171"
                                },
                                {
                                    "LOGIN": "zoltan4",
                                    "Szállítási mód": "Részösszeg",
                                    "Db": "424"
                                },
                                {
                                    "LOGIN": "ZOLTANP",
                                    "Szállítási mód": "GLS",
                                    "Db": "6"
                                },
                                {
                                    "LOGIN": "ZOLTANP",
                                    "Szállítási mód": "Posta",
                                    "Db": "3"
                                },
                                {
                                    "LOGIN": "ZOLTANP",
                                    "Szállítási mód": "Személyes átvétel",
                                    "Db": "4"
                                },
                                {
                                    "LOGIN": "ZOLTANP",
                                    "Szállítási mód": "Részösszeg",
                                    "Db": "13"
                                },
                                {
                                    "LOGIN": "ZOLTANT",
                                    "Szállítási mód": "GLS",
                                    "Db": "127"
                                },
                                {
                                    "LOGIN": "ZOLTANT",
                                    "Szállítási mód": "Posta",
                                    "Db": "107"
                                },
                                {
                                    "LOGIN": "ZOLTANT",
                                    "Szállítási mód": "Személyes átvétel",
                                    "Db": "123"
                                },
                                {
                                    "LOGIN": "ZOLTANT",
                                    "Szállítási mód": "Részösszeg",
                                    "Db": "357"
                                },
                                {
                                    "LOGIN": "zsofi1",
                                    "Szállítási mód": "GLS",
                                    "Db": "7"
                                },
                                {
                                    "LOGIN": "zsofi1",
                                    "Szállítási mód": "Posta",
                                    "Db": "6"
                                },
                                {
                                    "LOGIN": "zsofi1",
                                    "Szállítási mód": "Személyes átvétel",
                                    "Db": "6"
                                },
                                {
                                    "LOGIN": "zsofi1",
                                    "Szállítási mód": "Részösszeg",
                                    "Db": "19"
                                },
                                {
                                    "LOGIN": "zsolt1",
                                    "Szállítási mód": "GLS",
                                    "Db": "11"
                                },
                                {
                                    "LOGIN": "zsolt1",
                                    "Szállítási mód": "Posta",
                                    "Db": "6"
                                },
                                {
                                    "LOGIN": "zsolt1",
                                    "Szállítási mód": "Személyes átvétel",
                                    "Db": "3"
                                },
                                {
                                    "LOGIN": "zsolt1",
                                    "Szállítási mód": "Részösszeg",
                                    "Db": "20"
                                },
                                {
                                    "LOGIN": "ZSOLTJ",
                                    "Szállítási mód": "GLS",
                                    "Db": "1"
                                },
                                {
                                    "LOGIN": "ZSOLTJ",
                                    "Szállítási mód": "Posta",
                                    "Db": "8"
                                },
                                {
                                    "LOGIN": "ZSOLTJ",
                                    "Szállítási mód": "Személyes átvétel",
                                    "Db": "9"
                                },
                                {
                                    "LOGIN": "ZSOLTJ",
                                    "Szállítási mód": "Részösszeg",
                                    "Db": "18"
                                },
                                {
                                    "LOGIN": "zsuzsa",
                                    "Szállítási mód": "GLS",
                                    "Db": "8"
                                },
                                {
                                    "LOGIN": "zsuzsa",
                                    "Szállítási mód": "Posta",
                                    "Db": "5"
                                },
                                {
                                    "LOGIN": "zsuzsa",
                                    "Szállítási mód": "Személyes átvétel",
                                    "Db": "3"
                                },
                                {
                                    "LOGIN": "zsuzsa",
                                    "Szállítási mód": "Részösszeg",
                                    "Db": "16"
                                },
                                {
                                    "LOGIN": "zsuzsa3",
                                    "Szállítási mód": "GLS",
                                    "Db": "5"
                                },
                                {
                                    "LOGIN": "zsuzsa3",
                                    "Szállítási mód": "Posta",
                                    "Db": "5"
                                },
                                {
                                    "LOGIN": "zsuzsa3",
                                    "Szállítási mód": "Személyes átvétel",
                                    "Db": "6"
                                },
                                {
                                    "LOGIN": "zsuzsa3",
                                    "Szállítási mód": "Részösszeg",
                                    "Db": "16"
                                },
                                {
                                    "LOGIN": "zsuzsanna",
                                    "Szállítási mód": "GLS",
                                    "Db": "7"
                                },
                                {
                                    "LOGIN": "zsuzsanna",
                                    "Szállítási mód": "Posta",
                                    "Db": "5"
                                },
                                {
                                    "LOGIN": "zsuzsanna",
                                    "Szállítási mód": "Személyes átvétel",
                                    "Db": "3"
                                },
                                {
                                    "LOGIN": "zsuzsanna",
                                    "Szállítási mód": "Részösszeg",
                                    "Db": "15"
                                },
                                {
                                    "LOGIN": "ZSUZSAV",
                                    "Szállítási mód": "GLS",
                                    "Db": "139"
                                },
                                {
                                    "LOGIN": "ZSUZSAV",
                                    "Szállítási mód": "Posta",
                                    "Db": "139"
                                },
                                {
                                    "LOGIN": "ZSUZSAV",
                                    "Szállítási mód": "Személyes átvétel",
                                    "Db": "142"
                                },
                                {
                                    "LOGIN": "ZSUZSAV",
                                    "Szállítási mód": "Részösszeg",
                                    "Db": "420"
                                },
                                {
                                    "LOGIN": "Végösszeg",
                                    "Szállítási mód": "Végösszeg",
                                    "Db": "28085"
                                }
                            ]
                        },
                        "text/html": [
                            "<table>",
                            "<tr><th>LOGIN</th><th>Szállítási mód</th><th>Db</th></tr>",
                            "<tr><td>adam1</td><td>GLS</td><td>129</td></tr>",
                            "<tr><td>adam1</td><td>Posta</td><td>132</td></tr>",
                            "<tr><td>adam1</td><td>Személyes átvétel</td><td>131</td></tr>",
                            "<tr><td>adam1</td><td>Részösszeg</td><td>392</td></tr>",
                            "<tr><td>adam3</td><td>GLS</td><td>10</td></tr>",
                            "<tr><td>adam3</td><td>Posta</td><td>3</td></tr>",
                            "<tr><td>adam3</td><td>Személyes átvétel</td><td>2</td></tr>",
                            "<tr><td>adam3</td><td>Részösszeg</td><td>15</td></tr>",
                            "<tr><td>adam4</td><td>GLS</td><td>12</td></tr>",
                            "<tr><td>adam4</td><td>Posta</td><td>6</td></tr>",
                            "<tr><td>adam4</td><td>Személyes átvétel</td><td>11</td></tr>",
                            "<tr><td>adam4</td><td>Részösszeg</td><td>29</td></tr>",
                            "<tr><td>agnes</td><td>GLS</td><td>144</td></tr>",
                            "<tr><td>agnes</td><td>Posta</td><td>130</td></tr>",
                            "<tr><td>agnes</td><td>Személyes átvétel</td><td>144</td></tr>",
                            "<tr><td>agnes</td><td>Részösszeg</td><td>418</td></tr>",
                            "<tr><td>agnes3</td><td>GLS</td><td>148</td></tr>",
                            "<tr><td>agnes3</td><td>Posta</td><td>146</td></tr>",
                            "<tr><td>agnes3</td><td>Személyes átvétel</td><td>136</td></tr>",
                            "<tr><td>agnes3</td><td>Részösszeg</td><td>430</td></tr>",
                            "<tr><td>AGNESH</td><td>GLS</td><td>2</td></tr>",
                            "<tr><td>AGNESH</td><td>Posta</td><td>3</td></tr>",
                            "<tr><td>AGNESH</td><td>Személyes átvétel</td><td>6</td></tr>",
                            "<tr><td>AGNESH</td><td>Részösszeg</td><td>11</td></tr>",
                            "<tr><td>AGNESK</td><td>GLS</td><td>1</td></tr>",
                            "<tr><td>AGNESK</td><td>Posta</td><td>7</td></tr>",
                            "<tr><td>AGNESK</td><td>Személyes átvétel</td><td>7</td></tr>",
                            "<tr><td>AGNESK</td><td>Részösszeg</td><td>15</td></tr>",
                            "<tr><td>akos</td><td>GLS</td><td>146</td></tr>",
                            "<tr><td>akos</td><td>Posta</td><td>143</td></tr>",
                            "<tr><td>akos</td><td>Személyes átvétel</td><td>140</td></tr>",
                            "<tr><td>akos</td><td>Részösszeg</td><td>429</td></tr>",
                            "<tr><td>aladar</td><td>GLS</td><td>156</td></tr>",
                            "<tr><td>aladar</td><td>Posta</td><td>134</td></tr>",
                            "<tr><td>aladar</td><td>Személyes átvétel</td><td>118</td></tr>",
                            "<tr><td>aladar</td><td>Részösszeg</td><td>408</td></tr>",
                            "<tr><td>alexandra</td><td>GLS</td><td>5</td></tr>",
                            "<tr><td>alexandra</td><td>Posta</td><td>9</td></tr>",
                            "<tr><td>alexandra</td><td>Személyes átvétel</td><td>5</td></tr>",
                            "<tr><td>alexandra</td><td>Részösszeg</td><td>19</td></tr>",
                            "<tr><td>andi</td><td>GLS</td><td>7</td></tr>",
                            "<tr><td>andi</td><td>Posta</td><td>4</td></tr>",
                            "<tr><td>andi</td><td>Személyes átvétel</td><td>7</td></tr>",
                            "<tr><td>andi</td><td>Részösszeg</td><td>18</td></tr>",
                            "<tr><td>andras2</td><td>GLS</td><td>4</td></tr>",
                            "<tr><td>andras2</td><td>Posta</td><td>7</td></tr>",
                            "<tr><td>andras2</td><td>Személyes átvétel</td><td>11</td></tr>",
                            "<tr><td>andras2</td><td>Részösszeg</td><td>22</td></tr>",
                            "<tr><td>andras21</td><td>GLS</td><td>140</td></tr>",
                            "<tr><td>andras21</td><td>Posta</td><td>124</td></tr>",
                            "<tr><td>andras21</td><td>Személyes átvétel</td><td>126</td></tr>",
                            "<tr><td>andras21</td><td>Részösszeg</td><td>390</td></tr>",
                            "<tr><td>andras3</td><td>GLS</td><td>3</td></tr>",
                            "<tr><td>andras3</td><td>Posta</td><td>1</td></tr>",
                            "<tr><td>andras3</td><td>Személyes átvétel</td><td>5</td></tr>",
                            "<tr><td>andras3</td><td>Részösszeg</td><td>9</td></tr>",
                            "<tr><td>andras4</td><td>GLS</td><td>4</td></tr>",
                            "<tr><td>andras4</td><td>Posta</td><td>4</td></tr>",
                            "<tr><td>andras4</td><td>Személyes átvétel</td><td>4</td></tr>",
                            "<tr><td>andras4</td><td>Részösszeg</td><td>12</td></tr>",
                            "<tr><td>andras41</td><td>GLS</td><td>149</td></tr>",
                            "<tr><td>andras41</td><td>Posta</td><td>137</td></tr>",
                            "<tr><td>andras41</td><td>Személyes átvétel</td><td>133</td></tr>",
                            "<tr><td>andras41</td><td>Részösszeg</td><td>419</td></tr>",
                            "<tr><td>ANDRASE</td><td>GLS</td><td>159</td></tr>",
                            "<tr><td>ANDRASE</td><td>Posta</td><td>141</td></tr>",
                            "<tr><td>ANDRASE</td><td>Személyes átvétel</td><td>136</td></tr>",
                            "<tr><td>ANDRASE</td><td>Részösszeg</td><td>436</td></tr>",
                            "<tr><td>ANDRASN</td><td>GLS</td><td>10</td></tr>",
                            "<tr><td>ANDRASN</td><td>Posta</td><td>9</td></tr>",
                            "<tr><td>ANDRASN</td><td>Személyes átvétel</td><td>5</td></tr>",
                            "<tr><td>ANDRASN</td><td>Részösszeg</td><td>24</td></tr>",
                            "<tr><td>andrea</td><td>GLS</td><td>12</td></tr>",
                            "<tr><td>andrea</td><td>Posta</td><td>4</td></tr>",
                            "<tr><td>andrea</td><td>Személyes átvétel</td><td>8</td></tr>",
                            "<tr><td>andrea</td><td>Részösszeg</td><td>24</td></tr>",
                            "<tr><td>andrea3</td><td>GLS</td><td>131</td></tr>",
                            "<tr><td>andrea3</td><td>Posta</td><td>136</td></tr>",
                            "<tr><td>andrea3</td><td>Személyes átvétel</td><td>146</td></tr>",
                            "<tr><td>andrea3</td><td>Részösszeg</td><td>413</td></tr>",
                            "<tr><td>andrea4</td><td>GLS</td><td>7</td></tr>",
                            "<tr><td>andrea4</td><td>Posta</td><td>4</td></tr>",
                            "<tr><td>andrea4</td><td>Személyes átvétel</td><td>7</td></tr>",
                            "<tr><td>andrea4</td><td>Részösszeg</td><td>18</td></tr>",
                            "<tr><td>ANDREAT</td><td>GLS</td><td>3</td></tr>",
                            "<tr><td>ANDREAT</td><td>Posta</td><td>6</td></tr>",
                            "<tr><td>ANDREAT</td><td>Személyes átvétel</td><td>12</td></tr>",
                            "<tr><td>ANDREAT</td><td>Részösszeg</td><td>21</td></tr>",
                            "<tr><td>anett3</td><td>GLS</td><td>3</td></tr>",
                            "<tr><td>anett3</td><td>Posta</td><td>6</td></tr>",
                            "<tr><td>anett3</td><td>Személyes átvétel</td><td>9</td></tr>",
                            "<tr><td>anett3</td><td>Részösszeg</td><td>18</td></tr>",
                            "<tr><td>aniko</td><td>GLS</td><td>128</td></tr>",
                            "<tr><td>aniko</td><td>Posta</td><td>137</td></tr>",
                            "<tr><td>aniko</td><td>Személyes átvétel</td><td>138</td></tr>",
                            "<tr><td>aniko</td><td>Részösszeg</td><td>403</td></tr>",
                            "<tr><td>aniko4</td><td>GLS</td><td>6</td></tr>",
                            "<tr><td>aniko4</td><td>Posta</td><td>6</td></tr>",
                            "<tr><td>aniko4</td><td>Személyes átvétel</td><td>3</td></tr>",
                            "<tr><td>aniko4</td><td>Részösszeg</td><td>15</td></tr>",
                            "<tr><td>ANIKOS</td><td>GLS</td><td>128</td></tr>",
                            "<tr><td>ANIKOS</td><td>Posta</td><td>126</td></tr>",
                            "<tr><td>ANIKOS</td><td>Személyes átvétel</td><td>150</td></tr>",
                            "<tr><td>ANIKOS</td><td>Részösszeg</td><td>404</td></tr>",
                            "<tr><td>anita</td><td>GLS</td><td>5</td></tr>",
                            "<tr><td>anita</td><td>Posta</td><td>2</td></tr>",
                            "<tr><td>anita</td><td>Személyes átvétel</td><td>5</td></tr>",
                            "<tr><td>anita</td><td>Részösszeg</td><td>12</td></tr>",
                            "<tr><td>annamaria1</td><td>GLS</td><td>5</td></tr>",
                            "<tr><td>annamaria1</td><td>Posta</td><td>4</td></tr>",
                            "<tr><td>annamaria1</td><td>Személyes átvétel</td><td>7</td></tr>",
                            "<tr><td>annamaria1</td><td>Részösszeg</td><td>16</td></tr>",
                            "<tr><td>ANNAMARIAR</td><td>GLS</td><td>8</td></tr>",
                            "<tr><td>ANNAMARIAR</td><td>Posta</td><td>2</td></tr>",
                            "<tr><td>ANNAMARIAR</td><td>Személyes átvétel</td><td>3</td></tr>",
                            "<tr><td>ANNAMARIAR</td><td>Részösszeg</td><td>13</td></tr>",
                            "<tr><td>aron2</td><td>GLS</td><td>132</td></tr>",
                            "<tr><td>aron2</td><td>Posta</td><td>133</td></tr>",
                            "<tr><td>aron2</td><td>Személyes átvétel</td><td>144</td></tr>",
                            "<tr><td>aron2</td><td>Részösszeg</td><td>409</td></tr>",
                            "<tr><td>ARONK</td><td>GLS</td><td>155</td></tr>",
                            "<tr><td>ARONK</td><td>Posta</td><td>120</td></tr>",
                            "<tr><td>ARONK</td><td>Személyes átvétel</td><td>155</td></tr>",
                            "<tr><td>ARONK</td><td>Részösszeg</td><td>430</td></tr>",
                            "<tr><td>arpad2</td><td>GLS</td><td>6</td></tr>",
                            "<tr><td>arpad2</td><td>Posta</td><td>1</td></tr>",
                            "<tr><td>arpad2</td><td>Személyes átvétel</td><td>10</td></tr>",
                            "<tr><td>arpad2</td><td>Részösszeg</td><td>17</td></tr>",
                            "<tr><td>ARPADH</td><td>GLS</td><td>6</td></tr>",
                            "<tr><td>ARPADH</td><td>Posta</td><td>3</td></tr>",
                            "<tr><td>ARPADH</td><td>Személyes átvétel</td><td>5</td></tr>",
                            "<tr><td>ARPADH</td><td>Részösszeg</td><td>14</td></tr>",
                            "<tr><td>ARPADM</td><td>GLS</td><td>6</td></tr>",
                            "<tr><td>ARPADM</td><td>Posta</td><td>3</td></tr>",
                            "<tr><td>ARPADM</td><td>Személyes átvétel</td><td>7</td></tr>",
                            "<tr><td>ARPADM</td><td>Részösszeg</td><td>16</td></tr>",
                            "<tr><td>attila1</td><td>GLS</td><td>5</td></tr>",
                            "<tr><td>attila1</td><td>Posta</td><td>7</td></tr>",
                            "<tr><td>attila1</td><td>Személyes átvétel</td><td>6</td></tr>",
                            "<tr><td>attila1</td><td>Részösszeg</td><td>18</td></tr>",
                            "<tr><td>attila4</td><td>GLS</td><td>135</td></tr>",
                            "<tr><td>attila4</td><td>Posta</td><td>125</td></tr>",
                            "<tr><td>attila4</td><td>Személyes átvétel</td><td>141</td></tr>",
                            "<tr><td>attila4</td><td>Részösszeg</td><td>401</td></tr>",
                            "<tr><td>ATTILAO</td><td>GLS</td><td>4</td></tr>",
                            "<tr><td>ATTILAO</td><td>Posta</td><td>4</td></tr>",
                            "<tr><td>ATTILAO</td><td>Személyes átvétel</td><td>6</td></tr>",
                            "<tr><td>ATTILAO</td><td>Részösszeg</td><td>14</td></tr>",
                            "<tr><td>balazs1</td><td>GLS</td><td>128</td></tr>",
                            "<tr><td>balazs1</td><td>Posta</td><td>136</td></tr>",
                            "<tr><td>balazs1</td><td>Személyes átvétel</td><td>155</td></tr>",
                            "<tr><td>balazs1</td><td>Részösszeg</td><td>419</td></tr>",
                            "<tr><td>balazs2</td><td>GLS</td><td>5</td></tr>",
                            "<tr><td>balazs2</td><td>Posta</td><td>7</td></tr>",
                            "<tr><td>balazs2</td><td>Személyes átvétel</td><td>5</td></tr>",
                            "<tr><td>balazs2</td><td>Részösszeg</td><td>17</td></tr>",
                            "<tr><td>balazs3</td><td>GLS</td><td>6</td></tr>",
                            "<tr><td>balazs3</td><td>Posta</td><td>6</td></tr>",
                            "<tr><td>balazs3</td><td>Személyes átvétel</td><td>3</td></tr>",
                            "<tr><td>balazs3</td><td>Részösszeg</td><td>15</td></tr>",
                            "<tr><td>balint</td><td>GLS</td><td>10</td></tr>",
                            "<tr><td>balint</td><td>Posta</td><td>4</td></tr>",
                            "<tr><td>balint</td><td>Személyes átvétel</td><td>2</td></tr>",
                            "<tr><td>balint</td><td>Részösszeg</td><td>16</td></tr>",
                            "<tr><td>balint1</td><td>GLS</td><td>158</td></tr>",
                            "<tr><td>balint1</td><td>Posta</td><td>152</td></tr>",
                            "<tr><td>balint1</td><td>Személyes átvétel</td><td>152</td></tr>",
                            "<tr><td>balint1</td><td>Részösszeg</td><td>462</td></tr>",
                            "<tr><td>balint2</td><td>GLS</td><td>8</td></tr>",
                            "<tr><td>balint2</td><td>Posta</td><td>6</td></tr>",
                            "<tr><td>balint2</td><td>Személyes átvétel</td><td>3</td></tr>",
                            "<tr><td>balint2</td><td>Részösszeg</td><td>17</td></tr>",
                            "<tr><td>balu</td><td>GLS</td><td>127</td></tr>",
                            "<tr><td>balu</td><td>Posta</td><td>137</td></tr>",
                            "<tr><td>balu</td><td>Személyes átvétel</td><td>123</td></tr>",
                            "<tr><td>balu</td><td>Részösszeg</td><td>387</td></tr>",
                            "<tr><td>BEATRIXK</td><td>GLS</td><td>135</td></tr>",
                            "<tr><td>BEATRIXK</td><td>Posta</td><td>155</td></tr>",
                            "<tr><td>BEATRIXK</td><td>Személyes átvétel</td><td>145</td></tr>",
                            "<tr><td>BEATRIXK</td><td>Részösszeg</td><td>435</td></tr>",
                            "<tr><td>BEATRIXS</td><td>GLS</td><td>146</td></tr>",
                            "<tr><td>BEATRIXS</td><td>Posta</td><td>141</td></tr>",
                            "<tr><td>BEATRIXS</td><td>Személyes átvétel</td><td>133</td></tr>",
                            "<tr><td>BEATRIXS</td><td>Részösszeg</td><td>420</td></tr>",
                            "<tr><td>BELAF</td><td>GLS</td><td>11</td></tr>",
                            "<tr><td>BELAF</td><td>Posta</td><td>2</td></tr>",
                            "<tr><td>BELAF</td><td>Személyes átvétel</td><td>5</td></tr>",
                            "<tr><td>BELAF</td><td>Részösszeg</td><td>18</td></tr>",
                            "<tr><td>bence</td><td>GLS</td><td>4</td></tr>",
                            "<tr><td>bence</td><td>Posta</td><td>6</td></tr>",
                            "<tr><td>bence</td><td>Személyes átvétel</td><td>8</td></tr>",
                            "<tr><td>bence</td><td>Részösszeg</td><td>18</td></tr>",
                            "<tr><td>BENCEB</td><td>GLS</td><td>5</td></tr>",
                            "<tr><td>BENCEB</td><td>Posta</td><td>7</td></tr>",
                            "<tr><td>BENCEB</td><td>Személyes átvétel</td><td>5</td></tr>",
                            "<tr><td>BENCEB</td><td>Részösszeg</td><td>17</td></tr>",
                            "<tr><td>bernadett1</td><td>GLS</td><td>10</td></tr>",
                            "<tr><td>bernadett1</td><td>Posta</td><td>5</td></tr>",
                            "<tr><td>bernadett1</td><td>Személyes átvétel</td><td>5</td></tr>",
                            "<tr><td>bernadett1</td><td>Részösszeg</td><td>20</td></tr>",
                            "<tr><td>bernadett2</td><td>GLS</td><td>6</td></tr>",
                            "<tr><td>bernadett2</td><td>Posta</td><td>2</td></tr>",
                            "<tr><td>bernadett2</td><td>Személyes átvétel</td><td>7</td></tr>",
                            "<tr><td>bernadett2</td><td>Részösszeg</td><td>15</td></tr>",
                            "<tr><td>BERNADETTO</td><td>GLS</td><td>7</td></tr>",
                            "<tr><td>BERNADETTO</td><td>Posta</td><td>2</td></tr>",
                            "<tr><td>BERNADETTO</td><td>Személyes átvétel</td><td>7</td></tr>",
                            "<tr><td>BERNADETTO</td><td>Részösszeg</td><td>16</td></tr>",
                            "<tr><td>bertalan</td><td>GLS</td><td>128</td></tr>",
                            "<tr><td>bertalan</td><td>Posta</td><td>124</td></tr>",
                            "<tr><td>bertalan</td><td>Személyes átvétel</td><td>101</td></tr>",
                            "<tr><td>bertalan</td><td>Részösszeg</td><td>353</td></tr>",
                            "<tr><td>brigitta</td><td>GLS</td><td>137</td></tr>",
                            "<tr><td>brigitta</td><td>Posta</td><td>137</td></tr>",
                            "<tr><td>brigitta</td><td>Személyes átvétel</td><td>119</td></tr>",
                            "<tr><td>brigitta</td><td>Részösszeg</td><td>393</td></tr>",
                            "<tr><td>brigitta3</td><td>GLS</td><td>144</td></tr>",
                            "<tr><td>brigitta3</td><td>Posta</td><td>130</td></tr>",
                            "<tr><td>brigitta3</td><td>Személyes átvétel</td><td>139</td></tr>",
                            "<tr><td>brigitta3</td><td>Részösszeg</td><td>413</td></tr>",
                            "<tr><td>csongor3</td><td>GLS</td><td>5</td></tr>",
                            "<tr><td>csongor3</td><td>Posta</td><td>2</td></tr>",
                            "<tr><td>csongor3</td><td>Személyes átvétel</td><td>8</td></tr>",
                            "<tr><td>csongor3</td><td>Részösszeg</td><td>15</td></tr>",
                            "<tr><td>dani</td><td>GLS</td><td>5</td></tr>",
                            "<tr><td>dani</td><td>Személyes átvétel</td><td>8</td></tr>",
                            "<tr><td>dani</td><td>Részösszeg</td><td>13</td></tr>",
                            "<tr><td>daniel</td><td>GLS</td><td>7</td></tr>",
                            "<tr><td>daniel</td><td>Posta</td><td>2</td></tr>",
                            "<tr><td>daniel</td><td>Személyes átvétel</td><td>4</td></tr>",
                            "<tr><td>daniel</td><td>Részösszeg</td><td>13</td></tr>",
                            "<tr><td>daniel1</td><td>GLS</td><td>156</td></tr>",
                            "<tr><td>daniel1</td><td>Posta</td><td>131</td></tr>",
                            "<tr><td>daniel1</td><td>Személyes átvétel</td><td>132</td></tr>",
                            "<tr><td>daniel1</td><td>Részösszeg</td><td>419</td></tr>",
                            "<tr><td>david</td><td>GLS</td><td>161</td></tr>",
                            "<tr><td>david</td><td>Posta</td><td>144</td></tr>",
                            "<tr><td>david</td><td>Személyes átvétel</td><td>146</td></tr>",
                            "<tr><td>david</td><td>Részösszeg</td><td>451</td></tr>",
                            "<tr><td>david1</td><td>GLS</td><td>8</td></tr>",
                            "<tr><td>david1</td><td>Posta</td><td>1</td></tr>",
                            "<tr><td>david1</td><td>Személyes átvétel</td><td>8</td></tr>",
                            "<tr><td>david1</td><td>Részösszeg</td><td>17</td></tr>",
                            "<tr><td>david4</td><td>GLS</td><td>3</td></tr>",
                            "<tr><td>david4</td><td>Posta</td><td>8</td></tr>",
                            "<tr><td>david4</td><td>Személyes átvétel</td><td>10</td></tr>",
                            "<tr><td>david4</td><td>Részösszeg</td><td>21</td></tr>",
                            "<tr><td>debora</td><td>GLS</td><td>7</td></tr>",
                            "<tr><td>debora</td><td>Posta</td><td>6</td></tr>",
                            "<tr><td>debora</td><td>Személyes átvétel</td><td>3</td></tr>",
                            "<tr><td>debora</td><td>Részösszeg</td><td>16</td></tr>",
                            "<tr><td>denes</td><td>GLS</td><td>3</td></tr>",
                            "<tr><td>denes</td><td>Posta</td><td>2</td></tr>",
                            "<tr><td>denes</td><td>Személyes átvétel</td><td>4</td></tr>",
                            "<tr><td>denes</td><td>Részösszeg</td><td>9</td></tr>",
                            "<tr><td>dora3</td><td>GLS</td><td>144</td></tr>",
                            "<tr><td>dora3</td><td>Posta</td><td>124</td></tr>",
                            "<tr><td>dora3</td><td>Személyes átvétel</td><td>164</td></tr>",
                            "<tr><td>dora3</td><td>Részösszeg</td><td>432</td></tr>",
                            "<tr><td>edit</td><td>GLS</td><td>7</td></tr>",
                            "<tr><td>edit</td><td>Posta</td><td>2</td></tr>",
                            "<tr><td>edit</td><td>Személyes átvétel</td><td>4</td></tr>",
                            "<tr><td>edit</td><td>Részösszeg</td><td>13</td></tr>",
                            "<tr><td>emese</td><td>GLS</td><td>128</td></tr>",
                            "<tr><td>emese</td><td>Posta</td><td>136</td></tr>",
                            "<tr><td>emese</td><td>Személyes átvétel</td><td>142</td></tr>",
                            "<tr><td>emese</td><td>Részösszeg</td><td>406</td></tr>",
                            "<tr><td>eszter2</td><td>GLS</td><td>127</td></tr>",
                            "<tr><td>eszter2</td><td>Posta</td><td>136</td></tr>",
                            "<tr><td>eszter2</td><td>Személyes átvétel</td><td>152</td></tr>",
                            "<tr><td>eszter2</td><td>Részösszeg</td><td>415</td></tr>",
                            "<tr><td>eszter4</td><td>GLS</td><td>141</td></tr>",
                            "<tr><td>eszter4</td><td>Posta</td><td>134</td></tr>",
                            "<tr><td>eszter4</td><td>Személyes átvétel</td><td>149</td></tr>",
                            "<tr><td>eszter4</td><td>Részösszeg</td><td>424</td></tr>",
                            "<tr><td>ESZTERE</td><td>GLS</td><td>6</td></tr>",
                            "<tr><td>ESZTERE</td><td>Posta</td><td>9</td></tr>",
                            "<tr><td>ESZTERE</td><td>Személyes átvétel</td><td>7</td></tr>",
                            "<tr><td>ESZTERE</td><td>Részösszeg</td><td>22</td></tr>",
                            "<tr><td>eva</td><td>GLS</td><td>125</td></tr>",
                            "<tr><td>eva</td><td>Posta</td><td>140</td></tr>",
                            "<tr><td>eva</td><td>Személyes átvétel</td><td>139</td></tr>",
                            "<tr><td>eva</td><td>Részösszeg</td><td>404</td></tr>",
                            "<tr><td>eva2</td><td>GLS</td><td>154</td></tr>",
                            "<tr><td>eva2</td><td>Posta</td><td>138</td></tr>",
                            "<tr><td>eva2</td><td>Személyes átvétel</td><td>170</td></tr>",
                            "<tr><td>eva2</td><td>Részösszeg</td><td>462</td></tr>",
                            "<tr><td>EVAV</td><td>GLS</td><td>2</td></tr>",
                            "<tr><td>EVAV</td><td>Posta</td><td>1</td></tr>",
                            "<tr><td>EVAV</td><td>Személyes átvétel</td><td>4</td></tr>",
                            "<tr><td>EVAV</td><td>Részösszeg</td><td>7</td></tr>",
                            "<tr><td>ferenc1</td><td>GLS</td><td>144</td></tr>",
                            "<tr><td>ferenc1</td><td>Posta</td><td>158</td></tr>",
                            "<tr><td>ferenc1</td><td>Személyes átvétel</td><td>135</td></tr>",
                            "<tr><td>ferenc1</td><td>Részösszeg</td><td>437</td></tr>",
                            "<tr><td>fruzsina4</td><td>GLS</td><td>8</td></tr>",
                            "<tr><td>fruzsina4</td><td>Posta</td><td>3</td></tr>",
                            "<tr><td>fruzsina4</td><td>Személyes átvétel</td><td>7</td></tr>",
                            "<tr><td>fruzsina4</td><td>Részösszeg</td><td>18</td></tr>",
                            "<tr><td>gabor1</td><td>GLS</td><td>9</td></tr>",
                            "<tr><td>gabor1</td><td>Posta</td><td>5</td></tr>",
                            "<tr><td>gabor1</td><td>Személyes átvétel</td><td>5</td></tr>",
                            "<tr><td>gabor1</td><td>Részösszeg</td><td>19</td></tr>",
                            "<tr><td>gabor4</td><td>GLS</td><td>7</td></tr>",
                            "<tr><td>gabor4</td><td>Posta</td><td>9</td></tr>",
                            "<tr><td>gabor4</td><td>Személyes átvétel</td><td>4</td></tr>",
                            "<tr><td>gabor4</td><td>Részösszeg</td><td>20</td></tr>",
                            "<tr><td>GABORS</td><td>GLS</td><td>5</td></tr>",
                            "<tr><td>GABORS</td><td>Posta</td><td>6</td></tr>",
                            "<tr><td>GABORS</td><td>Személyes átvétel</td><td>4</td></tr>",
                            "<tr><td>GABORS</td><td>Részösszeg</td><td>15</td></tr>",
                            "<tr><td>gabriella1</td><td>GLS</td><td>5</td></tr>",
                            "<tr><td>gabriella1</td><td>Posta</td><td>4</td></tr>",
                            "<tr><td>gabriella1</td><td>Személyes átvétel</td><td>5</td></tr>",
                            "<tr><td>gabriella1</td><td>Részösszeg</td><td>14</td></tr>",
                            "<tr><td>gabriella10</td><td>GLS</td><td>4</td></tr>",
                            "<tr><td>gabriella10</td><td>Posta</td><td>5</td></tr>",
                            "<tr><td>gabriella10</td><td>Személyes átvétel</td><td>7</td></tr>",
                            "<tr><td>gabriella10</td><td>Részösszeg</td><td>16</td></tr>",
                            "<tr><td>georgij</td><td>GLS</td><td>9</td></tr>",
                            "<tr><td>georgij</td><td>Posta</td><td>2</td></tr>",
                            "<tr><td>georgij</td><td>Személyes átvétel</td><td>10</td></tr>",
                            "<tr><td>georgij</td><td>Részösszeg</td><td>21</td></tr>",
                            "<tr><td>gusztav</td><td>GLS</td><td>5</td></tr>",
                            "<tr><td>gusztav</td><td>Posta</td><td>4</td></tr>",
                            "<tr><td>gusztav</td><td>Személyes átvétel</td><td>5</td></tr>",
                            "<tr><td>gusztav</td><td>Részösszeg</td><td>14</td></tr>",
                            "<tr><td>GYONGYIK</td><td>GLS</td><td>6</td></tr>",
                            "<tr><td>GYONGYIK</td><td>Posta</td><td>6</td></tr>",
                            "<tr><td>GYONGYIK</td><td>Személyes átvétel</td><td>3</td></tr>",
                            "<tr><td>GYONGYIK</td><td>Részösszeg</td><td>15</td></tr>",
                            "<tr><td>GYORGYO</td><td>GLS</td><td>7</td></tr>",
                            "<tr><td>GYORGYO</td><td>Posta</td><td>4</td></tr>",
                            "<tr><td>GYORGYO</td><td>Személyes átvétel</td><td>5</td></tr>",
                            "<tr><td>GYORGYO</td><td>Részösszeg</td><td>16</td></tr>",
                            "<tr><td>henrik3</td><td>GLS</td><td>7</td></tr>",
                            "<tr><td>henrik3</td><td>Posta</td><td>4</td></tr>",
                            "<tr><td>henrik3</td><td>Személyes átvétel</td><td>5</td></tr>",
                            "<tr><td>henrik3</td><td>Részösszeg</td><td>16</td></tr>",
                            "<tr><td>IBOLYAA</td><td>GLS</td><td>140</td></tr>",
                            "<tr><td>IBOLYAA</td><td>Posta</td><td>125</td></tr>",
                            "<tr><td>IBOLYAA</td><td>Személyes átvétel</td><td>157</td></tr>",
                            "<tr><td>IBOLYAA</td><td>Részösszeg</td><td>422</td></tr>",
                            "<tr><td>ilona3</td><td>GLS</td><td>9</td></tr>",
                            "<tr><td>ilona3</td><td>Posta</td><td>2</td></tr>",
                            "<tr><td>ilona3</td><td>Személyes átvétel</td><td>7</td></tr>",
                            "<tr><td>ilona3</td><td>Részösszeg</td><td>18</td></tr>",
                            "<tr><td>imre</td><td>GLS</td><td>5</td></tr>",
                            "<tr><td>imre</td><td>Posta</td><td>4</td></tr>",
                            "<tr><td>imre</td><td>Személyes átvétel</td><td>6</td></tr>",
                            "<tr><td>imre</td><td>Részösszeg</td><td>15</td></tr>",
                            "<tr><td>imre1</td><td>GLS</td><td>8</td></tr>",
                            "<tr><td>imre1</td><td>Posta</td><td>4</td></tr>",
                            "<tr><td>imre1</td><td>Személyes átvétel</td><td>3</td></tr>",
                            "<tr><td>imre1</td><td>Részösszeg</td><td>15</td></tr>",
                            "<tr><td>istvan</td><td>GLS</td><td>3</td></tr>",
                            "<tr><td>istvan</td><td>Posta</td><td>4</td></tr>",
                            "<tr><td>istvan</td><td>Személyes átvétel</td><td>4</td></tr>",
                            "<tr><td>istvan</td><td>Részösszeg</td><td>11</td></tr>",
                            "<tr><td>istvan1</td><td>GLS</td><td>8</td></tr>",
                            "<tr><td>istvan1</td><td>Posta</td><td>4</td></tr>",
                            "<tr><td>istvan1</td><td>Személyes átvétel</td><td>7</td></tr>",
                            "<tr><td>istvan1</td><td>Részösszeg</td><td>19</td></tr>",
                            "<tr><td>ISTVANV</td><td>GLS</td><td>4</td></tr>",
                            "<tr><td>ISTVANV</td><td>Posta</td><td>9</td></tr>",
                            "<tr><td>ISTVANV</td><td>Személyes átvétel</td><td>8</td></tr>",
                            "<tr><td>ISTVANV</td><td>Részösszeg</td><td>21</td></tr>",
                            "<tr><td>janos3</td><td>GLS</td><td>5</td></tr>",
                            "<tr><td>janos3</td><td>Posta</td><td>2</td></tr>",
                            "<tr><td>janos3</td><td>Személyes átvétel</td><td>6</td></tr>",
                            "<tr><td>janos3</td><td>Részösszeg</td><td>13</td></tr>",
                            "<tr><td>JANOSG</td><td>GLS</td><td>3</td></tr>",
                            "<tr><td>JANOSG</td><td>Posta</td><td>3</td></tr>",
                            "<tr><td>JANOSG</td><td>Személyes átvétel</td><td>4</td></tr>",
                            "<tr><td>JANOSG</td><td>Részösszeg</td><td>10</td></tr>",
                            "<tr><td>JANOSP</td><td>GLS</td><td>7</td></tr>",
                            "<tr><td>JANOSP</td><td>Posta</td><td>7</td></tr>",
                            "<tr><td>JANOSP</td><td>Személyes átvétel</td><td>3</td></tr>",
                            "<tr><td>JANOSP</td><td>Részösszeg</td><td>17</td></tr>",
                            "<tr><td>jozsef</td><td>GLS</td><td>116</td></tr>",
                            "<tr><td>jozsef</td><td>Posta</td><td>132</td></tr>",
                            "<tr><td>jozsef</td><td>Személyes átvétel</td><td>134</td></tr>",
                            "<tr><td>jozsef</td><td>Részösszeg</td><td>382</td></tr>",
                            "<tr><td>jozsef2</td><td>GLS</td><td>7</td></tr>",
                            "<tr><td>jozsef2</td><td>Posta</td><td>2</td></tr>",
                            "<tr><td>jozsef2</td><td>Személyes átvétel</td><td>4</td></tr>",
                            "<tr><td>jozsef2</td><td>Részösszeg</td><td>13</td></tr>",
                            "<tr><td>JOZSEFG</td><td>GLS</td><td>11</td></tr>",
                            "<tr><td>JOZSEFG</td><td>Posta</td><td>1</td></tr>",
                            "<tr><td>JOZSEFG</td><td>Személyes átvétel</td><td>9</td></tr>",
                            "<tr><td>JOZSEFG</td><td>Részösszeg</td><td>21</td></tr>",
                            "<tr><td>JUDITH</td><td>GLS</td><td>170</td></tr>",
                            "<tr><td>JUDITH</td><td>Posta</td><td>130</td></tr>",
                            "<tr><td>JUDITH</td><td>Személyes átvétel</td><td>150</td></tr>",
                            "<tr><td>JUDITH</td><td>Részösszeg</td><td>450</td></tr>",
                            "<tr><td>julia</td><td>GLS</td><td>137</td></tr>",
                            "<tr><td>julia</td><td>Posta</td><td>160</td></tr>",
                            "<tr><td>julia</td><td>Személyes átvétel</td><td>138</td></tr>",
                            "<tr><td>julia</td><td>Részösszeg</td><td>435</td></tr>",
                            "<tr><td>julia4</td><td>GLS</td><td>2</td></tr>",
                            "<tr><td>julia4</td><td>Posta</td><td>4</td></tr>",
                            "<tr><td>julia4</td><td>Személyes átvétel</td><td>8</td></tr>",
                            "<tr><td>julia4</td><td>Részösszeg</td><td>14</td></tr>",
                            "<tr><td>julianna4</td><td>GLS</td><td>8</td></tr>",
                            "<tr><td>julianna4</td><td>Posta</td><td>12</td></tr>",
                            "<tr><td>julianna4</td><td>Személyes átvétel</td><td>7</td></tr>",
                            "<tr><td>julianna4</td><td>Részösszeg</td><td>27</td></tr>",
                            "<tr><td>kata</td><td>GLS</td><td>5</td></tr>",
                            "<tr><td>kata</td><td>Posta</td><td>4</td></tr>",
                            "<tr><td>kata</td><td>Személyes átvétel</td><td>3</td></tr>",
                            "<tr><td>kata</td><td>Részösszeg</td><td>12</td></tr>",
                            "<tr><td>katalin</td><td>GLS</td><td>7</td></tr>",
                            "<tr><td>katalin</td><td>Posta</td><td>7</td></tr>",
                            "<tr><td>katalin</td><td>Személyes átvétel</td><td>5</td></tr>",
                            "<tr><td>katalin</td><td>Részösszeg</td><td>19</td></tr>",
                            "<tr><td>katalin4</td><td>GLS</td><td>7</td></tr>",
                            "<tr><td>katalin4</td><td>Posta</td><td>5</td></tr>",
                            "<tr><td>katalin4</td><td>Személyes átvétel</td><td>11</td></tr>",
                            "<tr><td>katalin4</td><td>Részösszeg</td><td>23</td></tr>",
                            "<tr><td>kati</td><td>GLS</td><td>4</td></tr>",
                            "<tr><td>kati</td><td>Posta</td><td>5</td></tr>",
                            "<tr><td>kati</td><td>Személyes átvétel</td><td>4</td></tr>",
                            "<tr><td>kati</td><td>Részösszeg</td><td>13</td></tr>",
                            "<tr><td>katka</td><td>GLS</td><td>6</td></tr>",
                            "<tr><td>katka</td><td>Posta</td><td>6</td></tr>",
                            "<tr><td>katka</td><td>Személyes átvétel</td><td>10</td></tr>",
                            "<tr><td>katka</td><td>Részösszeg</td><td>22</td></tr>",
                            "<tr><td>klaudia2</td><td>GLS</td><td>3</td></tr>",
                            "<tr><td>klaudia2</td><td>Posta</td><td>9</td></tr>",
                            "<tr><td>klaudia2</td><td>Személyes átvétel</td><td>5</td></tr>",
                            "<tr><td>klaudia2</td><td>Részösszeg</td><td>17</td></tr>",
                            "<tr><td>kornel4</td><td>GLS</td><td>3</td></tr>",
                            "<tr><td>kornel4</td><td>Posta</td><td>1</td></tr>",
                            "<tr><td>kornel4</td><td>Személyes átvétel</td><td>7</td></tr>",
                            "<tr><td>kornel4</td><td>Részösszeg</td><td>11</td></tr>",
                            "<tr><td>kristof4</td><td>GLS</td><td>9</td></tr>",
                            "<tr><td>kristof4</td><td>Posta</td><td>4</td></tr>",
                            "<tr><td>kristof4</td><td>Személyes átvétel</td><td>8</td></tr>",
                            "<tr><td>kristof4</td><td>Részösszeg</td><td>21</td></tr>",
                            "<tr><td>kriszti</td><td>GLS</td><td>3</td></tr>",
                            "<tr><td>kriszti</td><td>Posta</td><td>5</td></tr>",
                            "<tr><td>kriszti</td><td>Személyes átvétel</td><td>5</td></tr>",
                            "<tr><td>kriszti</td><td>Részösszeg</td><td>13</td></tr>",
                            "<tr><td>krisztian4</td><td>GLS</td><td>5</td></tr>",
                            "<tr><td>krisztian4</td><td>Posta</td><td>6</td></tr>",
                            "<tr><td>krisztian4</td><td>Személyes átvétel</td><td>6</td></tr>",
                            "<tr><td>krisztian4</td><td>Részösszeg</td><td>17</td></tr>",
                            "<tr><td>KRISZTIANM</td><td>GLS</td><td>118</td></tr>",
                            "<tr><td>KRISZTIANM</td><td>Posta</td><td>136</td></tr>",
                            "<tr><td>KRISZTIANM</td><td>Személyes átvétel</td><td>130</td></tr>",
                            "<tr><td>KRISZTIANM</td><td>Részösszeg</td><td>384</td></tr>",
                            "<tr><td>krisztina</td><td>GLS</td><td>149</td></tr>",
                            "<tr><td>krisztina</td><td>Posta</td><td>150</td></tr>",
                            "<tr><td>krisztina</td><td>Személyes átvétel</td><td>157</td></tr>",
                            "<tr><td>krisztina</td><td>Részösszeg</td><td>456</td></tr>",
                            "<tr><td>krisztina1</td><td>GLS</td><td>10</td></tr>",
                            "<tr><td>krisztina1</td><td>Posta</td><td>4</td></tr>",
                            "<tr><td>krisztina1</td><td>Személyes átvétel</td><td>8</td></tr>",
                            "<tr><td>krisztina1</td><td>Részösszeg</td><td>22</td></tr>",
                            "<tr><td>KRISZTINAG</td><td>GLS</td><td>6</td></tr>",
                            "<tr><td>KRISZTINAG</td><td>Posta</td><td>6</td></tr>",
                            "<tr><td>KRISZTINAG</td><td>Személyes átvétel</td><td>10</td></tr>",
                            "<tr><td>KRISZTINAG</td><td>Részösszeg</td><td>22</td></tr>",
                            "<tr><td>lajos</td><td>GLS</td><td>5</td></tr>",
                            "<tr><td>lajos</td><td>Posta</td><td>2</td></tr>",
                            "<tr><td>lajos</td><td>Személyes átvétel</td><td>9</td></tr>",
                            "<tr><td>lajos</td><td>Részösszeg</td><td>16</td></tr>",
                            "<tr><td>lala</td><td>GLS</td><td>5</td></tr>",
                            "<tr><td>lala</td><td>Posta</td><td>3</td></tr>",
                            "<tr><td>lala</td><td>Személyes átvétel</td><td>9</td></tr>",
                            "<tr><td>lala</td><td>Részösszeg</td><td>17</td></tr>",
                            "<tr><td>laszlo1</td><td>GLS</td><td>130</td></tr>",
                            "<tr><td>laszlo1</td><td>Posta</td><td>129</td></tr>",
                            "<tr><td>laszlo1</td><td>Személyes átvétel</td><td>135</td></tr>",
                            "<tr><td>laszlo1</td><td>Részösszeg</td><td>394</td></tr>",
                            "<tr><td>laszlo2</td><td>GLS</td><td>12</td></tr>",
                            "<tr><td>laszlo2</td><td>Posta</td><td>6</td></tr>",
                            "<tr><td>laszlo2</td><td>Személyes átvétel</td><td>7</td></tr>",
                            "<tr><td>laszlo2</td><td>Részösszeg</td><td>25</td></tr>",
                            "<tr><td>LASZLOA</td><td>GLS</td><td>156</td></tr>",
                            "<tr><td>LASZLOA</td><td>Posta</td><td>136</td></tr>",
                            "<tr><td>LASZLOA</td><td>Személyes átvétel</td><td>154</td></tr>",
                            "<tr><td>LASZLOA</td><td>Részösszeg</td><td>446</td></tr>",
                            "<tr><td>LASZLON</td><td>GLS</td><td>126</td></tr>",
                            "<tr><td>LASZLON</td><td>Posta</td><td>131</td></tr>",
                            "<tr><td>LASZLON</td><td>Személyes átvétel</td><td>143</td></tr>",
                            "<tr><td>LASZLON</td><td>Részösszeg</td><td>400</td></tr>",
                            "<tr><td>maria1</td><td>GLS</td><td>4</td></tr>",
                            "<tr><td>maria1</td><td>Posta</td><td>5</td></tr>",
                            "<tr><td>maria1</td><td>Személyes átvétel</td><td>1</td></tr>",
                            "<tr><td>maria1</td><td>Részösszeg</td><td>10</td></tr>",
                            "<tr><td>MARKH</td><td>GLS</td><td>128</td></tr>",
                            "<tr><td>MARKH</td><td>Posta</td><td>142</td></tr>",
                            "<tr><td>MARKH</td><td>Személyes átvétel</td><td>142</td></tr>",
                            "<tr><td>MARKH</td><td>Részösszeg</td><td>412</td></tr>",
                            "<tr><td>marton</td><td>GLS</td><td>5</td></tr>",
                            "<tr><td>marton</td><td>Posta</td><td>4</td></tr>",
                            "<tr><td>marton</td><td>Személyes átvétel</td><td>5</td></tr>",
                            "<tr><td>marton</td><td>Részösszeg</td><td>14</td></tr>",
                            "<tr><td>MATEK</td><td>GLS</td><td>6</td></tr>",
                            "<tr><td>MATEK</td><td>Posta</td><td>10</td></tr>",
                            "<tr><td>MATEK</td><td>Személyes átvétel</td><td>9</td></tr>",
                            "<tr><td>MATEK</td><td>Részösszeg</td><td>25</td></tr>",
                            "<tr><td>matyas2</td><td>GLS</td><td>138</td></tr>",
                            "<tr><td>matyas2</td><td>Posta</td><td>131</td></tr>",
                            "<tr><td>matyas2</td><td>Személyes átvétel</td><td>164</td></tr>",
                            "<tr><td>matyas2</td><td>Részösszeg</td><td>433</td></tr>",
                            "<tr><td>MATYASS</td><td>GLS</td><td>4</td></tr>",
                            "<tr><td>MATYASS</td><td>Posta</td><td>5</td></tr>",
                            "<tr><td>MATYASS</td><td>Személyes átvétel</td><td>3</td></tr>",
                            "<tr><td>MATYASS</td><td>Részösszeg</td><td>12</td></tr>",
                            "<tr><td>MIHALYJ</td><td>GLS</td><td>3</td></tr>",
                            "<tr><td>MIHALYJ</td><td>Posta</td><td>4</td></tr>",
                            "<tr><td>MIHALYJ</td><td>Személyes átvétel</td><td>6</td></tr>",
                            "<tr><td>MIHALYJ</td><td>Részösszeg</td><td>13</td></tr>",
                            "<tr><td>miklos2</td><td>GLS</td><td>7</td></tr>",
                            "<tr><td>miklos2</td><td>Posta</td><td>4</td></tr>",
                            "<tr><td>miklos2</td><td>Személyes átvétel</td><td>2</td></tr>",
                            "<tr><td>miklos2</td><td>Részösszeg</td><td>13</td></tr>",
                            "<tr><td>MIKLOSB</td><td>GLS</td><td>6</td></tr>",
                            "<tr><td>MIKLOSB</td><td>Posta</td><td>1</td></tr>",
                            "<tr><td>MIKLOSB</td><td>Személyes átvétel</td><td>8</td></tr>",
                            "<tr><td>MIKLOSB</td><td>Részösszeg</td><td>15</td></tr>",
                            "<tr><td>MONIKAM</td><td>GLS</td><td>133</td></tr>",
                            "<tr><td>MONIKAM</td><td>Posta</td><td>151</td></tr>",
                            "<tr><td>MONIKAM</td><td>Személyes átvétel</td><td>123</td></tr>",
                            "<tr><td>MONIKAM</td><td>Részösszeg</td><td>407</td></tr>",
                            "<tr><td>NANDORF</td><td>GLS</td><td>147</td></tr>",
                            "<tr><td>NANDORF</td><td>Posta</td><td>139</td></tr>",
                            "<tr><td>NANDORF</td><td>Személyes átvétel</td><td>134</td></tr>",
                            "<tr><td>NANDORF</td><td>Részösszeg</td><td>420</td></tr>",
                            "<tr><td>nikolett3</td><td>GLS</td><td>4</td></tr>",
                            "<tr><td>nikolett3</td><td>Posta</td><td>3</td></tr>",
                            "<tr><td>nikolett3</td><td>Személyes átvétel</td><td>10</td></tr>",
                            "<tr><td>nikolett3</td><td>Részösszeg</td><td>17</td></tr>",
                            "<tr><td>nikoletta4</td><td>GLS</td><td>137</td></tr>",
                            "<tr><td>nikoletta4</td><td>Posta</td><td>158</td></tr>",
                            "<tr><td>nikoletta4</td><td>Személyes átvétel</td><td>119</td></tr>",
                            "<tr><td>nikoletta4</td><td>Részösszeg</td><td>414</td></tr>",
                            "<tr><td>NIKOLETTAT</td><td>GLS</td><td>13</td></tr>",
                            "<tr><td>NIKOLETTAT</td><td>Posta</td><td>7</td></tr>",
                            "<tr><td>NIKOLETTAT</td><td>Személyes átvétel</td><td>5</td></tr>",
                            "<tr><td>NIKOLETTAT</td><td>Részösszeg</td><td>25</td></tr>",
                            "<tr><td>norbert2</td><td>GLS</td><td>7</td></tr>",
                            "<tr><td>norbert2</td><td>Posta</td><td>4</td></tr>",
                            "<tr><td>norbert2</td><td>Részösszeg</td><td>11</td></tr>",
                            "<tr><td>norbert4</td><td>GLS</td><td>1</td></tr>",
                            "<tr><td>norbert4</td><td>Posta</td><td>3</td></tr>",
                            "<tr><td>norbert4</td><td>Személyes átvétel</td><td>9</td></tr>",
                            "<tr><td>norbert4</td><td>Részösszeg</td><td>13</td></tr>",
                            "<tr><td>norbert5</td><td>GLS</td><td>1</td></tr>",
                            "<tr><td>norbert5</td><td>Posta</td><td>6</td></tr>",
                            "<tr><td>norbert5</td><td>Személyes átvétel</td><td>9</td></tr>",
                            "<tr><td>norbert5</td><td>Részösszeg</td><td>16</td></tr>",
                            "<tr><td>pal</td><td>GLS</td><td>152</td></tr>",
                            "<tr><td>pal</td><td>Posta</td><td>132</td></tr>",
                            "<tr><td>pal</td><td>Személyes átvétel</td><td>154</td></tr>",
                            "<tr><td>pal</td><td>Részösszeg</td><td>438</td></tr>",
                            "<tr><td>peter1</td><td>GLS</td><td>151</td></tr>",
                            "<tr><td>peter1</td><td>Posta</td><td>135</td></tr>",
                            "<tr><td>peter1</td><td>Személyes átvétel</td><td>126</td></tr>",
                            "<tr><td>peter1</td><td>Részösszeg</td><td>412</td></tr>",
                            "<tr><td>peter2</td><td>GLS</td><td>7</td></tr>",
                            "<tr><td>peter2</td><td>Posta</td><td>4</td></tr>",
                            "<tr><td>peter2</td><td>Személyes átvétel</td><td>7</td></tr>",
                            "<tr><td>peter2</td><td>Részösszeg</td><td>18</td></tr>",
                            "<tr><td>peter3</td><td>GLS</td><td>8</td></tr>",
                            "<tr><td>peter3</td><td>Posta</td><td>7</td></tr>",
                            "<tr><td>peter3</td><td>Személyes átvétel</td><td>10</td></tr>",
                            "<tr><td>peter3</td><td>Részösszeg</td><td>25</td></tr>",
                            "<tr><td>peter4</td><td>GLS</td><td>266</td></tr>",
                            "<tr><td>peter4</td><td>Posta</td><td>293</td></tr>",
                            "<tr><td>peter4</td><td>Személyes átvétel</td><td>293</td></tr>",
                            "<tr><td>peter4</td><td>Részösszeg</td><td>852</td></tr>",
                            "<tr><td>PETERB</td><td>GLS</td><td>2</td></tr>",
                            "<tr><td>PETERB</td><td>Posta</td><td>4</td></tr>",
                            "<tr><td>PETERB</td><td>Személyes átvétel</td><td>9</td></tr>",
                            "<tr><td>PETERB</td><td>Részösszeg</td><td>15</td></tr>",
                            "<tr><td>polla</td><td>GLS</td><td>9</td></tr>",
                            "<tr><td>polla</td><td>Posta</td><td>6</td></tr>",
                            "<tr><td>polla</td><td>Személyes átvétel</td><td>7</td></tr>",
                            "<tr><td>polla</td><td>Részösszeg</td><td>22</td></tr>",
                            "<tr><td>rajmond4</td><td>GLS</td><td>6</td></tr>",
                            "<tr><td>rajmond4</td><td>Posta</td><td>5</td></tr>",
                            "<tr><td>rajmond4</td><td>Személyes átvétel</td><td>6</td></tr>",
                            "<tr><td>rajmond4</td><td>Részösszeg</td><td>17</td></tr>",
                            "<tr><td>reka4</td><td>GLS</td><td>5</td></tr>",
                            "<tr><td>reka4</td><td>Posta</td><td>4</td></tr>",
                            "<tr><td>reka4</td><td>Személyes átvétel</td><td>11</td></tr>",
                            "<tr><td>reka4</td><td>Részösszeg</td><td>20</td></tr>",
                            "<tr><td>RENATAK</td><td>GLS</td><td>135</td></tr>",
                            "<tr><td>RENATAK</td><td>Posta</td><td>140</td></tr>",
                            "<tr><td>RENATAK</td><td>Személyes átvétel</td><td>147</td></tr>",
                            "<tr><td>RENATAK</td><td>Részösszeg</td><td>422</td></tr>",
                            "<tr><td>RENATAS</td><td>GLS</td><td>6</td></tr>",
                            "<tr><td>RENATAS</td><td>Posta</td><td>5</td></tr>",
                            "<tr><td>RENATAS</td><td>Személyes átvétel</td><td>5</td></tr>",
                            "<tr><td>RENATAS</td><td>Részösszeg</td><td>16</td></tr>",
                            "<tr><td>robert2</td><td>GLS</td><td>5</td></tr>",
                            "<tr><td>robert2</td><td>Posta</td><td>1</td></tr>",
                            "<tr><td>robert2</td><td>Személyes átvétel</td><td>7</td></tr>",
                            "<tr><td>robert2</td><td>Részösszeg</td><td>13</td></tr>",
                            "<tr><td>ROBERTI</td><td>GLS</td><td>5</td></tr>",
                            "<tr><td>ROBERTI</td><td>Posta</td><td>3</td></tr>",
                            "<tr><td>ROBERTI</td><td>Személyes átvétel</td><td>5</td></tr>",
                            "<tr><td>ROBERTI</td><td>Részösszeg</td><td>13</td></tr>",
                            "<tr><td>ROBERTP</td><td>GLS</td><td>8</td></tr>",
                            "<tr><td>ROBERTP</td><td>Posta</td><td>8</td></tr>",
                            "<tr><td>ROBERTP</td><td>Személyes átvétel</td><td>10</td></tr>",
                            "<tr><td>ROBERTP</td><td>Részösszeg</td><td>26</td></tr>",
                            "<tr><td>roland</td><td>GLS</td><td>132</td></tr>",
                            "<tr><td>roland</td><td>Posta</td><td>157</td></tr>",
                            "<tr><td>roland</td><td>Személyes átvétel</td><td>125</td></tr>",
                            "<tr><td>roland</td><td>Részösszeg</td><td>414</td></tr>",
                            "<tr><td>roland1</td><td>GLS</td><td>142</td></tr>",
                            "<tr><td>roland1</td><td>Posta</td><td>155</td></tr>",
                            "<tr><td>roland1</td><td>Személyes átvétel</td><td>135</td></tr>",
                            "<tr><td>roland1</td><td>Részösszeg</td><td>432</td></tr>",
                            "<tr><td>roza2</td><td>GLS</td><td>3</td></tr>",
                            "<tr><td>roza2</td><td>Posta</td><td>2</td></tr>",
                            "<tr><td>roza2</td><td>Személyes átvétel</td><td>3</td></tr>",
                            "<tr><td>roza2</td><td>Részösszeg</td><td>8</td></tr>",
                            "<tr><td>sandor</td><td>GLS</td><td>4</td></tr>",
                            "<tr><td>sandor</td><td>Posta</td><td>6</td></tr>",
                            "<tr><td>sandor</td><td>Személyes átvétel</td><td>7</td></tr>",
                            "<tr><td>sandor</td><td>Részösszeg</td><td>17</td></tr>",
                            "<tr><td>sandor3</td><td>GLS</td><td>4</td></tr>",
                            "<tr><td>sandor3</td><td>Posta</td><td>4</td></tr>",
                            "<tr><td>sandor3</td><td>Személyes átvétel</td><td>6</td></tr>",
                            "<tr><td>sandor3</td><td>Részösszeg</td><td>14</td></tr>",
                            "<tr><td>sandor4</td><td>GLS</td><td>4</td></tr>",
                            "<tr><td>sandor4</td><td>Posta</td><td>2</td></tr>",
                            "<tr><td>sandor4</td><td>Személyes átvétel</td><td>5</td></tr>",
                            "<tr><td>sandor4</td><td>Részösszeg</td><td>11</td></tr>",
                            "<tr><td>sara</td><td>GLS</td><td>4</td></tr>",
                            "<tr><td>sara</td><td>Posta</td><td>7</td></tr>",
                            "<tr><td>sara</td><td>Személyes átvétel</td><td>9</td></tr>",
                            "<tr><td>sara</td><td>Részösszeg</td><td>20</td></tr>",
                            "<tr><td>SEBASTIANF</td><td>GLS</td><td>6</td></tr>",
                            "<tr><td>SEBASTIANF</td><td>Posta</td><td>3</td></tr>",
                            "<tr><td>SEBASTIANF</td><td>Személyes átvétel</td><td>6</td></tr>",
                            "<tr><td>SEBASTIANF</td><td>Részösszeg</td><td>15</td></tr>",
                            "<tr><td>sebestyen</td><td>GLS</td><td>4</td></tr>",
                            "<tr><td>sebestyen</td><td>Posta</td><td>6</td></tr>",
                            "<tr><td>sebestyen</td><td>Személyes átvétel</td><td>6</td></tr>",
                            "<tr><td>sebestyen</td><td>Részösszeg</td><td>16</td></tr>",
                            "<tr><td>szabolcs</td><td>GLS</td><td>145</td></tr>",
                            "<tr><td>szabolcs</td><td>Posta</td><td>157</td></tr>",
                            "<tr><td>szabolcs</td><td>Személyes átvétel</td><td>169</td></tr>",
                            "<tr><td>szabolcs</td><td>Részösszeg</td><td>471</td></tr>",
                            "<tr><td>SZABOLCSM</td><td>GLS</td><td>126</td></tr>",
                            "<tr><td>SZABOLCSM</td><td>Posta</td><td>153</td></tr>",
                            "<tr><td>SZABOLCSM</td><td>Személyes átvétel</td><td>129</td></tr>",
                            "<tr><td>SZABOLCSM</td><td>Részösszeg</td><td>408</td></tr>",
                            "<tr><td>SZILARDS</td><td>GLS</td><td>144</td></tr>",
                            "<tr><td>SZILARDS</td><td>Posta</td><td>131</td></tr>",
                            "<tr><td>SZILARDS</td><td>Személyes átvétel</td><td>111</td></tr>",
                            "<tr><td>SZILARDS</td><td>Részösszeg</td><td>386</td></tr>",
                            "<tr><td>szilvia1</td><td>GLS</td><td>156</td></tr>",
                            "<tr><td>szilvia1</td><td>Posta</td><td>151</td></tr>",
                            "<tr><td>szilvia1</td><td>Személyes átvétel</td><td>138</td></tr>",
                            "<tr><td>szilvia1</td><td>Részösszeg</td><td>445</td></tr>",
                            "<tr><td>tamara2</td><td>GLS</td><td>6</td></tr>",
                            "<tr><td>tamara2</td><td>Posta</td><td>4</td></tr>",
                            "<tr><td>tamara2</td><td>Személyes átvétel</td><td>3</td></tr>",
                            "<tr><td>tamara2</td><td>Részösszeg</td><td>13</td></tr>",
                            "<tr><td>tamas</td><td>GLS</td><td>143</td></tr>",
                            "<tr><td>tamas</td><td>Posta</td><td>156</td></tr>",
                            "<tr><td>tamas</td><td>Személyes átvétel</td><td>122</td></tr>",
                            "<tr><td>tamas</td><td>Részösszeg</td><td>421</td></tr>",
                            "<tr><td>TAMASF</td><td>GLS</td><td>159</td></tr>",
                            "<tr><td>TAMASF</td><td>Posta</td><td>145</td></tr>",
                            "<tr><td>TAMASF</td><td>Személyes átvétel</td><td>129</td></tr>",
                            "<tr><td>TAMASF</td><td>Részösszeg</td><td>433</td></tr>",
                            "<tr><td>tibor</td><td>GLS</td><td>115</td></tr>",
                            "<tr><td>tibor</td><td>Posta</td><td>129</td></tr>",
                            "<tr><td>tibor</td><td>Személyes átvétel</td><td>130</td></tr>",
                            "<tr><td>tibor</td><td>Részösszeg</td><td>374</td></tr>",
                            "<tr><td>tibor2</td><td>GLS</td><td>7</td></tr>",
                            "<tr><td>tibor2</td><td>Posta</td><td>7</td></tr>",
                            "<tr><td>tibor2</td><td>Személyes átvétel</td><td>11</td></tr>",
                            "<tr><td>tibor2</td><td>Részösszeg</td><td>25</td></tr>",
                            "<tr><td>tihamer</td><td>GLS</td><td>9</td></tr>",
                            "<tr><td>tihamer</td><td>Posta</td><td>6</td></tr>",
                            "<tr><td>tihamer</td><td>Személyes átvétel</td><td>5</td></tr>",
                            "<tr><td>tihamer</td><td>Részösszeg</td><td>20</td></tr>",
                            "<tr><td>timea</td><td>GLS</td><td>14</td></tr>",
                            "<tr><td>timea</td><td>Posta</td><td>23</td></tr>",
                            "<tr><td>timea</td><td>Személyes átvétel</td><td>18</td></tr>",
                            "<tr><td>timea</td><td>Részösszeg</td><td>55</td></tr>",
                            "<tr><td>timea2</td><td>GLS</td><td>1</td></tr>",
                            "<tr><td>timea2</td><td>Posta</td><td>5</td></tr>",
                            "<tr><td>timea2</td><td>Személyes átvétel</td><td>10</td></tr>",
                            "<tr><td>timea2</td><td>Részösszeg</td><td>16</td></tr>",
                            "<tr><td>tunde</td><td>GLS</td><td>6</td></tr>",
                            "<tr><td>tunde</td><td>Posta</td><td>6</td></tr>",
                            "<tr><td>tunde</td><td>Személyes átvétel</td><td>4</td></tr>",
                            "<tr><td>tunde</td><td>Részösszeg</td><td>16</td></tr>",
                            "<tr><td>valentin</td><td>GLS</td><td>5</td></tr>",
                            "<tr><td>valentin</td><td>Posta</td><td>5</td></tr>",
                            "<tr><td>valentin</td><td>Személyes átvétel</td><td>3</td></tr>",
                            "<tr><td>valentin</td><td>Részösszeg</td><td>13</td></tr>",
                            "<tr><td>veronika4</td><td>GLS</td><td>5</td></tr>",
                            "<tr><td>veronika4</td><td>Posta</td><td>6</td></tr>",
                            "<tr><td>veronika4</td><td>Személyes átvétel</td><td>7</td></tr>",
                            "<tr><td>veronika4</td><td>Részösszeg</td><td>18</td></tr>",
                            "<tr><td>VIKTORIAU</td><td>GLS</td><td>5</td></tr>",
                            "<tr><td>VIKTORIAU</td><td>Posta</td><td>4</td></tr>",
                            "<tr><td>VIKTORIAU</td><td>Személyes átvétel</td><td>5</td></tr>",
                            "<tr><td>VIKTORIAU</td><td>Részösszeg</td><td>14</td></tr>",
                            "<tr><td>VIKTORK</td><td>GLS</td><td>8</td></tr>",
                            "<tr><td>VIKTORK</td><td>Posta</td><td>6</td></tr>",
                            "<tr><td>VIKTORK</td><td>Személyes átvétel</td><td>6</td></tr>",
                            "<tr><td>VIKTORK</td><td>Részösszeg</td><td>20</td></tr>",
                            "<tr><td>vivien3</td><td>GLS</td><td>9</td></tr>",
                            "<tr><td>vivien3</td><td>Posta</td><td>6</td></tr>",
                            "<tr><td>vivien3</td><td>Személyes átvétel</td><td>7</td></tr>",
                            "<tr><td>vivien3</td><td>Részösszeg</td><td>22</td></tr>",
                            "<tr><td>zoltan</td><td>GLS</td><td>5</td></tr>",
                            "<tr><td>zoltan</td><td>Posta</td><td>3</td></tr>",
                            "<tr><td>zoltan</td><td>Személyes átvétel</td><td>7</td></tr>",
                            "<tr><td>zoltan</td><td>Részösszeg</td><td>15</td></tr>",
                            "<tr><td>zoltan4</td><td>GLS</td><td>129</td></tr>",
                            "<tr><td>zoltan4</td><td>Posta</td><td>124</td></tr>",
                            "<tr><td>zoltan4</td><td>Személyes átvétel</td><td>171</td></tr>",
                            "<tr><td>zoltan4</td><td>Részösszeg</td><td>424</td></tr>",
                            "<tr><td>ZOLTANP</td><td>GLS</td><td>6</td></tr>",
                            "<tr><td>ZOLTANP</td><td>Posta</td><td>3</td></tr>",
                            "<tr><td>ZOLTANP</td><td>Személyes átvétel</td><td>4</td></tr>",
                            "<tr><td>ZOLTANP</td><td>Részösszeg</td><td>13</td></tr>",
                            "<tr><td>ZOLTANT</td><td>GLS</td><td>127</td></tr>",
                            "<tr><td>ZOLTANT</td><td>Posta</td><td>107</td></tr>",
                            "<tr><td>ZOLTANT</td><td>Személyes átvétel</td><td>123</td></tr>",
                            "<tr><td>ZOLTANT</td><td>Részösszeg</td><td>357</td></tr>",
                            "<tr><td>zsofi1</td><td>GLS</td><td>7</td></tr>",
                            "<tr><td>zsofi1</td><td>Posta</td><td>6</td></tr>",
                            "<tr><td>zsofi1</td><td>Személyes átvétel</td><td>6</td></tr>",
                            "<tr><td>zsofi1</td><td>Részösszeg</td><td>19</td></tr>",
                            "<tr><td>zsolt1</td><td>GLS</td><td>11</td></tr>",
                            "<tr><td>zsolt1</td><td>Posta</td><td>6</td></tr>",
                            "<tr><td>zsolt1</td><td>Személyes átvétel</td><td>3</td></tr>",
                            "<tr><td>zsolt1</td><td>Részösszeg</td><td>20</td></tr>",
                            "<tr><td>ZSOLTJ</td><td>GLS</td><td>1</td></tr>",
                            "<tr><td>ZSOLTJ</td><td>Posta</td><td>8</td></tr>",
                            "<tr><td>ZSOLTJ</td><td>Személyes átvétel</td><td>9</td></tr>",
                            "<tr><td>ZSOLTJ</td><td>Részösszeg</td><td>18</td></tr>",
                            "<tr><td>zsuzsa</td><td>GLS</td><td>8</td></tr>",
                            "<tr><td>zsuzsa</td><td>Posta</td><td>5</td></tr>",
                            "<tr><td>zsuzsa</td><td>Személyes átvétel</td><td>3</td></tr>",
                            "<tr><td>zsuzsa</td><td>Részösszeg</td><td>16</td></tr>",
                            "<tr><td>zsuzsa3</td><td>GLS</td><td>5</td></tr>",
                            "<tr><td>zsuzsa3</td><td>Posta</td><td>5</td></tr>",
                            "<tr><td>zsuzsa3</td><td>Személyes átvétel</td><td>6</td></tr>",
                            "<tr><td>zsuzsa3</td><td>Részösszeg</td><td>16</td></tr>",
                            "<tr><td>zsuzsanna</td><td>GLS</td><td>7</td></tr>",
                            "<tr><td>zsuzsanna</td><td>Posta</td><td>5</td></tr>",
                            "<tr><td>zsuzsanna</td><td>Személyes átvétel</td><td>3</td></tr>",
                            "<tr><td>zsuzsanna</td><td>Részösszeg</td><td>15</td></tr>",
                            "<tr><td>ZSUZSAV</td><td>GLS</td><td>139</td></tr>",
                            "<tr><td>ZSUZSAV</td><td>Posta</td><td>139</td></tr>",
                            "<tr><td>ZSUZSAV</td><td>Személyes átvétel</td><td>142</td></tr>",
                            "<tr><td>ZSUZSAV</td><td>Részösszeg</td><td>420</td></tr>",
                            "<tr><td>Végösszeg</td><td>Végösszeg</td><td>28085</td></tr>",
                            "</table>"
                        ]
                    }
                }
            ],
            "execution_count": 2
        },
        {
            "cell_type": "markdown",
            "source": [
                "2. <span style=\"background-color: rgb(255, 255, 255); color: rgb(0, 0, 0); font-family: &quot;Open Sans&quot;, sans-serif; font-size: 14.44px;\">Készítsünk listát a termékek számáról a következő csoportosítási szempontok szerint:<br>kategória azonosító, raktárkód, raktárkód+mennyiségi egység!</span>\n",
                "\n",
                "a. A listát szűrjük azokra a csoportokra, ahol a termékek száma legalább 6!"
            ],
            "metadata": {
                "azdata_cell_guid": "ea75c103-911f-41a3-a32c-3d40fb3e4e4a"
            },
            "attachments": {}
        },
        {
            "cell_type": "code",
            "source": [
                "SELECT KAT_ID, RAKTAR_KOD, MEGYS, COUNT(*)\r\n",
                "FROM Termek\r\n",
                "GROUP BY GROUPING SETS(KAT_ID, RAKTAR_KOD, (RAKTAR_KOD, MEGYS))\r\n",
                "HAVING COUNT(*)>=6"
            ],
            "metadata": {
                "azdata_cell_guid": "222b9618-a8e8-42b4-a8e8-d002257122b7",
                "language": "sql"
            },
            "outputs": [
                {
                    "output_type": "display_data",
                    "data": {
                        "text/html": "(49 rows affected)"
                    },
                    "metadata": {}
                },
                {
                    "output_type": "display_data",
                    "data": {
                        "text/html": "Total execution time: 00:00:00.039"
                    },
                    "metadata": {}
                },
                {
                    "output_type": "execute_result",
                    "execution_count": 1,
                    "data": {
                        "application/vnd.dataresource+json": {
                            "schema": {
                                "fields": [
                                    {
                                        "name": "KAT_ID"
                                    },
                                    {
                                        "name": "RAKTAR_KOD"
                                    },
                                    {
                                        "name": "MEGYS"
                                    },
                                    {
                                        "name": "(No column name)"
                                    }
                                ]
                            },
                            "data": [
                                {
                                    "KAT_ID": "NULL",
                                    "RAKTAR_KOD": "1",
                                    "MEGYS": "db",
                                    "(No column name)": "11"
                                },
                                {
                                    "KAT_ID": "NULL",
                                    "RAKTAR_KOD": "1",
                                    "MEGYS": "NULL",
                                    "(No column name)": "11"
                                },
                                {
                                    "KAT_ID": "NULL",
                                    "RAKTAR_KOD": "3",
                                    "MEGYS": "db",
                                    "(No column name)": "14"
                                },
                                {
                                    "KAT_ID": "NULL",
                                    "RAKTAR_KOD": "3",
                                    "MEGYS": "NULL",
                                    "(No column name)": "14"
                                },
                                {
                                    "KAT_ID": "NULL",
                                    "RAKTAR_KOD": "5",
                                    "MEGYS": "csomag",
                                    "(No column name)": "7"
                                },
                                {
                                    "KAT_ID": "NULL",
                                    "RAKTAR_KOD": "5",
                                    "MEGYS": "db",
                                    "(No column name)": "72"
                                },
                                {
                                    "KAT_ID": "NULL",
                                    "RAKTAR_KOD": "5",
                                    "MEGYS": "NULL",
                                    "(No column name)": "86"
                                },
                                {
                                    "KAT_ID": "NULL",
                                    "RAKTAR_KOD": "6",
                                    "MEGYS": "csomag",
                                    "(No column name)": "9"
                                },
                                {
                                    "KAT_ID": "NULL",
                                    "RAKTAR_KOD": "6",
                                    "MEGYS": "db",
                                    "(No column name)": "94"
                                },
                                {
                                    "KAT_ID": "NULL",
                                    "RAKTAR_KOD": "6",
                                    "MEGYS": "NULL",
                                    "(No column name)": "106"
                                },
                                {
                                    "KAT_ID": "NULL",
                                    "RAKTAR_KOD": "7",
                                    "MEGYS": "csomag",
                                    "(No column name)": "9"
                                },
                                {
                                    "KAT_ID": "NULL",
                                    "RAKTAR_KOD": "7",
                                    "MEGYS": "db",
                                    "(No column name)": "88"
                                },
                                {
                                    "KAT_ID": "NULL",
                                    "RAKTAR_KOD": "7",
                                    "MEGYS": "NULL",
                                    "(No column name)": "100"
                                },
                                {
                                    "KAT_ID": "NULL",
                                    "RAKTAR_KOD": "8",
                                    "MEGYS": "csomag",
                                    "(No column name)": "8"
                                },
                                {
                                    "KAT_ID": "NULL",
                                    "RAKTAR_KOD": "8",
                                    "MEGYS": "db",
                                    "(No column name)": "109"
                                },
                                {
                                    "KAT_ID": "NULL",
                                    "RAKTAR_KOD": "8",
                                    "MEGYS": "ív",
                                    "(No column name)": "6"
                                },
                                {
                                    "KAT_ID": "NULL",
                                    "RAKTAR_KOD": "8",
                                    "MEGYS": "NULL",
                                    "(No column name)": "123"
                                },
                                {
                                    "KAT_ID": "NULL",
                                    "RAKTAR_KOD": "9",
                                    "MEGYS": "csomag",
                                    "(No column name)": "11"
                                },
                                {
                                    "KAT_ID": "NULL",
                                    "RAKTAR_KOD": "9",
                                    "MEGYS": "db",
                                    "(No column name)": "86"
                                },
                                {
                                    "KAT_ID": "NULL",
                                    "RAKTAR_KOD": "9",
                                    "MEGYS": "NULL",
                                    "(No column name)": "102"
                                },
                                {
                                    "KAT_ID": "4",
                                    "RAKTAR_KOD": "NULL",
                                    "MEGYS": "NULL",
                                    "(No column name)": "15"
                                },
                                {
                                    "KAT_ID": "6",
                                    "RAKTAR_KOD": "NULL",
                                    "MEGYS": "NULL",
                                    "(No column name)": "20"
                                },
                                {
                                    "KAT_ID": "16",
                                    "RAKTAR_KOD": "NULL",
                                    "MEGYS": "NULL",
                                    "(No column name)": "7"
                                },
                                {
                                    "KAT_ID": "19",
                                    "RAKTAR_KOD": "NULL",
                                    "MEGYS": "NULL",
                                    "(No column name)": "19"
                                },
                                {
                                    "KAT_ID": "24",
                                    "RAKTAR_KOD": "NULL",
                                    "MEGYS": "NULL",
                                    "(No column name)": "7"
                                },
                                {
                                    "KAT_ID": "30",
                                    "RAKTAR_KOD": "NULL",
                                    "MEGYS": "NULL",
                                    "(No column name)": "7"
                                },
                                {
                                    "KAT_ID": "35",
                                    "RAKTAR_KOD": "NULL",
                                    "MEGYS": "NULL",
                                    "(No column name)": "7"
                                },
                                {
                                    "KAT_ID": "41",
                                    "RAKTAR_KOD": "NULL",
                                    "MEGYS": "NULL",
                                    "(No column name)": "13"
                                },
                                {
                                    "KAT_ID": "45",
                                    "RAKTAR_KOD": "NULL",
                                    "MEGYS": "NULL",
                                    "(No column name)": "11"
                                },
                                {
                                    "KAT_ID": "46",
                                    "RAKTAR_KOD": "NULL",
                                    "MEGYS": "NULL",
                                    "(No column name)": "7"
                                },
                                {
                                    "KAT_ID": "52",
                                    "RAKTAR_KOD": "NULL",
                                    "MEGYS": "NULL",
                                    "(No column name)": "26"
                                },
                                {
                                    "KAT_ID": "54",
                                    "RAKTAR_KOD": "NULL",
                                    "MEGYS": "NULL",
                                    "(No column name)": "6"
                                },
                                {
                                    "KAT_ID": "66",
                                    "RAKTAR_KOD": "NULL",
                                    "MEGYS": "NULL",
                                    "(No column name)": "7"
                                },
                                {
                                    "KAT_ID": "78",
                                    "RAKTAR_KOD": "NULL",
                                    "MEGYS": "NULL",
                                    "(No column name)": "24"
                                },
                                {
                                    "KAT_ID": "83",
                                    "RAKTAR_KOD": "NULL",
                                    "MEGYS": "NULL",
                                    "(No column name)": "6"
                                },
                                {
                                    "KAT_ID": "85",
                                    "RAKTAR_KOD": "NULL",
                                    "MEGYS": "NULL",
                                    "(No column name)": "16"
                                },
                                {
                                    "KAT_ID": "91",
                                    "RAKTAR_KOD": "NULL",
                                    "MEGYS": "NULL",
                                    "(No column name)": "7"
                                },
                                {
                                    "KAT_ID": "93",
                                    "RAKTAR_KOD": "NULL",
                                    "MEGYS": "NULL",
                                    "(No column name)": "7"
                                },
                                {
                                    "KAT_ID": "96",
                                    "RAKTAR_KOD": "NULL",
                                    "MEGYS": "NULL",
                                    "(No column name)": "9"
                                },
                                {
                                    "KAT_ID": "97",
                                    "RAKTAR_KOD": "NULL",
                                    "MEGYS": "NULL",
                                    "(No column name)": "10"
                                },
                                {
                                    "KAT_ID": "100",
                                    "RAKTAR_KOD": "NULL",
                                    "MEGYS": "NULL",
                                    "(No column name)": "9"
                                },
                                {
                                    "KAT_ID": "118",
                                    "RAKTAR_KOD": "NULL",
                                    "MEGYS": "NULL",
                                    "(No column name)": "9"
                                },
                                {
                                    "KAT_ID": "122",
                                    "RAKTAR_KOD": "NULL",
                                    "MEGYS": "NULL",
                                    "(No column name)": "7"
                                },
                                {
                                    "KAT_ID": "124",
                                    "RAKTAR_KOD": "NULL",
                                    "MEGYS": "NULL",
                                    "(No column name)": "10"
                                },
                                {
                                    "KAT_ID": "133",
                                    "RAKTAR_KOD": "NULL",
                                    "MEGYS": "NULL",
                                    "(No column name)": "6"
                                },
                                {
                                    "KAT_ID": "145",
                                    "RAKTAR_KOD": "NULL",
                                    "MEGYS": "NULL",
                                    "(No column name)": "18"
                                },
                                {
                                    "KAT_ID": "146",
                                    "RAKTAR_KOD": "NULL",
                                    "MEGYS": "NULL",
                                    "(No column name)": "7"
                                },
                                {
                                    "KAT_ID": "149",
                                    "RAKTAR_KOD": "NULL",
                                    "MEGYS": "NULL",
                                    "(No column name)": "6"
                                },
                                {
                                    "KAT_ID": "152",
                                    "RAKTAR_KOD": "NULL",
                                    "MEGYS": "NULL",
                                    "(No column name)": "6"
                                }
                            ]
                        },
                        "text/html": "<table><tr><th>KAT_ID</th><th>RAKTAR_KOD</th><th>MEGYS</th><th>(No column name)</th></tr><tr><td>NULL</td><td>1</td><td>db</td><td>11</td></tr><tr><td>NULL</td><td>1</td><td>NULL</td><td>11</td></tr><tr><td>NULL</td><td>3</td><td>db</td><td>14</td></tr><tr><td>NULL</td><td>3</td><td>NULL</td><td>14</td></tr><tr><td>NULL</td><td>5</td><td>csomag</td><td>7</td></tr><tr><td>NULL</td><td>5</td><td>db</td><td>72</td></tr><tr><td>NULL</td><td>5</td><td>NULL</td><td>86</td></tr><tr><td>NULL</td><td>6</td><td>csomag</td><td>9</td></tr><tr><td>NULL</td><td>6</td><td>db</td><td>94</td></tr><tr><td>NULL</td><td>6</td><td>NULL</td><td>106</td></tr><tr><td>NULL</td><td>7</td><td>csomag</td><td>9</td></tr><tr><td>NULL</td><td>7</td><td>db</td><td>88</td></tr><tr><td>NULL</td><td>7</td><td>NULL</td><td>100</td></tr><tr><td>NULL</td><td>8</td><td>csomag</td><td>8</td></tr><tr><td>NULL</td><td>8</td><td>db</td><td>109</td></tr><tr><td>NULL</td><td>8</td><td>ív</td><td>6</td></tr><tr><td>NULL</td><td>8</td><td>NULL</td><td>123</td></tr><tr><td>NULL</td><td>9</td><td>csomag</td><td>11</td></tr><tr><td>NULL</td><td>9</td><td>db</td><td>86</td></tr><tr><td>NULL</td><td>9</td><td>NULL</td><td>102</td></tr><tr><td>4</td><td>NULL</td><td>NULL</td><td>15</td></tr><tr><td>6</td><td>NULL</td><td>NULL</td><td>20</td></tr><tr><td>16</td><td>NULL</td><td>NULL</td><td>7</td></tr><tr><td>19</td><td>NULL</td><td>NULL</td><td>19</td></tr><tr><td>24</td><td>NULL</td><td>NULL</td><td>7</td></tr><tr><td>30</td><td>NULL</td><td>NULL</td><td>7</td></tr><tr><td>35</td><td>NULL</td><td>NULL</td><td>7</td></tr><tr><td>41</td><td>NULL</td><td>NULL</td><td>13</td></tr><tr><td>45</td><td>NULL</td><td>NULL</td><td>11</td></tr><tr><td>46</td><td>NULL</td><td>NULL</td><td>7</td></tr><tr><td>52</td><td>NULL</td><td>NULL</td><td>26</td></tr><tr><td>54</td><td>NULL</td><td>NULL</td><td>6</td></tr><tr><td>66</td><td>NULL</td><td>NULL</td><td>7</td></tr><tr><td>78</td><td>NULL</td><td>NULL</td><td>24</td></tr><tr><td>83</td><td>NULL</td><td>NULL</td><td>6</td></tr><tr><td>85</td><td>NULL</td><td>NULL</td><td>16</td></tr><tr><td>91</td><td>NULL</td><td>NULL</td><td>7</td></tr><tr><td>93</td><td>NULL</td><td>NULL</td><td>7</td></tr><tr><td>96</td><td>NULL</td><td>NULL</td><td>9</td></tr><tr><td>97</td><td>NULL</td><td>NULL</td><td>10</td></tr><tr><td>100</td><td>NULL</td><td>NULL</td><td>9</td></tr><tr><td>118</td><td>NULL</td><td>NULL</td><td>9</td></tr><tr><td>122</td><td>NULL</td><td>NULL</td><td>7</td></tr><tr><td>124</td><td>NULL</td><td>NULL</td><td>10</td></tr><tr><td>133</td><td>NULL</td><td>NULL</td><td>6</td></tr><tr><td>145</td><td>NULL</td><td>NULL</td><td>18</td></tr><tr><td>146</td><td>NULL</td><td>NULL</td><td>7</td></tr><tr><td>149</td><td>NULL</td><td>NULL</td><td>6</td></tr><tr><td>152</td><td>NULL</td><td>NULL</td><td>6</td></tr></table>"
                    },
                    "metadata": {}
                }
            ],
            "execution_count": 1
        },
        {
            "cell_type": "markdown",
            "source": [
                "```\n",
                "3. Készítsünk listát az egyes termékkategóriákban lévő termékek számáról! \n",
                "\n",
                "```\n",
                "\n",
                "a. Elég megjeleníteni a kategóriák azonosítóit és a darabszámokat!   \n",
                "<span style=\"color: var(--vscode-foreground);\">b. A lista megfelelően jelölve tartalmazza a végösszeget is!&nbsp;<br></span> <span style=\"color: var(--vscode-foreground);\">c. Az oszlopokat nevezzük el értelemszerűen!&nbsp;<br></span> <span style=\"color: var(--vscode-foreground);\">d. A listát rendezzük a darabszám szerint növekvő sorrendbe!</span>\n",
                "\n",
                "  \n",
                "\n",
                "![](https://moodle.uni-corvinus.hu/theme/image.php/adaptable/atto_h5p/1709548862/icon)"
            ],
            "metadata": {
                "azdata_cell_guid": "d7876bb9-76d0-4d07-baed-3cb17b2f96c3"
            },
            "attachments": {}
        },
        {
            "cell_type": "code",
            "source": [
                "SELECT IIF(GROUPING_ID(KAT_ID)=1, 'Végösszeg', CAST(KAT_ID AS nvarchar(10))), COUNT(*)\r\n",
                "FROM Termek\r\n",
                "GROUP BY ROLLUP(KAT_ID)"
            ],
            "metadata": {
                "azdata_cell_guid": "56ec19ce-e249-4551-b2a8-f17569765acc",
                "language": "sql"
            },
            "outputs": [
                {
                    "output_type": "display_data",
                    "data": {
                        "text/html": "(144 rows affected)"
                    },
                    "metadata": {}
                },
                {
                    "output_type": "display_data",
                    "data": {
                        "text/html": "Total execution time: 00:00:00.035"
                    },
                    "metadata": {}
                },
                {
                    "output_type": "execute_result",
                    "execution_count": 4,
                    "data": {
                        "application/vnd.dataresource+json": {
                            "schema": {
                                "fields": [
                                    {
                                        "name": "(No column name)"
                                    },
                                    {
                                        "name": "(No column name)"
                                    }
                                ]
                            },
                            "data": [
                                {
                                    "(No column name)": "15"
                                },
                                {
                                    "(No column name)": "3"
                                },
                                {
                                    "(No column name)": "20"
                                },
                                {
                                    "(No column name)": "3"
                                },
                                {
                                    "(No column name)": "3"
                                },
                                {
                                    "(No column name)": "2"
                                },
                                {
                                    "(No column name)": "1"
                                },
                                {
                                    "(No column name)": "1"
                                },
                                {
                                    "(No column name)": "1"
                                },
                                {
                                    "(No column name)": "2"
                                },
                                {
                                    "(No column name)": "4"
                                },
                                {
                                    "(No column name)": "1"
                                },
                                {
                                    "(No column name)": "7"
                                },
                                {
                                    "(No column name)": "1"
                                },
                                {
                                    "(No column name)": "2"
                                },
                                {
                                    "(No column name)": "19"
                                },
                                {
                                    "(No column name)": "3"
                                },
                                {
                                    "(No column name)": "5"
                                },
                                {
                                    "(No column name)": "2"
                                },
                                {
                                    "(No column name)": "7"
                                },
                                {
                                    "(No column name)": "4"
                                },
                                {
                                    "(No column name)": "1"
                                },
                                {
                                    "(No column name)": "3"
                                },
                                {
                                    "(No column name)": "5"
                                },
                                {
                                    "(No column name)": "1"
                                },
                                {
                                    "(No column name)": "7"
                                },
                                {
                                    "(No column name)": "1"
                                },
                                {
                                    "(No column name)": "3"
                                },
                                {
                                    "(No column name)": "1"
                                },
                                {
                                    "(No column name)": "1"
                                },
                                {
                                    "(No column name)": "7"
                                },
                                {
                                    "(No column name)": "5"
                                },
                                {
                                    "(No column name)": "1"
                                },
                                {
                                    "(No column name)": "1"
                                },
                                {
                                    "(No column name)": "2"
                                },
                                {
                                    "(No column name)": "1"
                                },
                                {
                                    "(No column name)": "13"
                                },
                                {
                                    "(No column name)": "1"
                                },
                                {
                                    "(No column name)": "3"
                                },
                                {
                                    "(No column name)": "1"
                                },
                                {
                                    "(No column name)": "11"
                                },
                                {
                                    "(No column name)": "7"
                                },
                                {
                                    "(No column name)": "4"
                                },
                                {
                                    "(No column name)": "2"
                                },
                                {
                                    "(No column name)": "2"
                                },
                                {
                                    "(No column name)": "1"
                                },
                                {
                                    "(No column name)": "3"
                                },
                                {
                                    "(No column name)": "26"
                                },
                                {
                                    "(No column name)": "1"
                                },
                                {
                                    "(No column name)": "6"
                                },
                                {
                                    "(No column name)": "2"
                                },
                                {
                                    "(No column name)": "4"
                                },
                                {
                                    "(No column name)": "2"
                                },
                                {
                                    "(No column name)": "3"
                                },
                                {
                                    "(No column name)": "4"
                                },
                                {
                                    "(No column name)": "5"
                                },
                                {
                                    "(No column name)": "1"
                                },
                                {
                                    "(No column name)": "2"
                                },
                                {
                                    "(No column name)": "4"
                                },
                                {
                                    "(No column name)": "2"
                                },
                                {
                                    "(No column name)": "7"
                                },
                                {
                                    "(No column name)": "2"
                                },
                                {
                                    "(No column name)": "2"
                                },
                                {
                                    "(No column name)": "3"
                                },
                                {
                                    "(No column name)": "2"
                                },
                                {
                                    "(No column name)": "2"
                                },
                                {
                                    "(No column name)": "2"
                                },
                                {
                                    "(No column name)": "1"
                                },
                                {
                                    "(No column name)": "2"
                                },
                                {
                                    "(No column name)": "5"
                                },
                                {
                                    "(No column name)": "24"
                                },
                                {
                                    "(No column name)": "4"
                                },
                                {
                                    "(No column name)": "1"
                                },
                                {
                                    "(No column name)": "1"
                                },
                                {
                                    "(No column name)": "6"
                                },
                                {
                                    "(No column name)": "1"
                                },
                                {
                                    "(No column name)": "16"
                                },
                                {
                                    "(No column name)": "1"
                                },
                                {
                                    "(No column name)": "2"
                                },
                                {
                                    "(No column name)": "3"
                                },
                                {
                                    "(No column name)": "2"
                                },
                                {
                                    "(No column name)": "7"
                                },
                                {
                                    "(No column name)": "2"
                                },
                                {
                                    "(No column name)": "7"
                                },
                                {
                                    "(No column name)": "2"
                                },
                                {
                                    "(No column name)": "2"
                                },
                                {
                                    "(No column name)": "9"
                                },
                                {
                                    "(No column name)": "10"
                                },
                                {
                                    "(No column name)": "4"
                                },
                                {
                                    "(No column name)": "1"
                                },
                                {
                                    "(No column name)": "9"
                                },
                                {
                                    "(No column name)": "1"
                                },
                                {
                                    "(No column name)": "1"
                                },
                                {
                                    "(No column name)": "2"
                                },
                                {
                                    "(No column name)": "1"
                                },
                                {
                                    "(No column name)": "5"
                                },
                                {
                                    "(No column name)": "1"
                                },
                                {
                                    "(No column name)": "1"
                                },
                                {
                                    "(No column name)": "1"
                                },
                                {
                                    "(No column name)": "2"
                                },
                                {
                                    "(No column name)": "3"
                                },
                                {
                                    "(No column name)": "2"
                                },
                                {
                                    "(No column name)": "1"
                                },
                                {
                                    "(No column name)": "1"
                                },
                                {
                                    "(No column name)": "2"
                                },
                                {
                                    "(No column name)": "2"
                                },
                                {
                                    "(No column name)": "9"
                                },
                                {
                                    "(No column name)": "3"
                                },
                                {
                                    "(No column name)": "2"
                                },
                                {
                                    "(No column name)": "7"
                                },
                                {
                                    "(No column name)": "2"
                                },
                                {
                                    "(No column name)": "10"
                                },
                                {
                                    "(No column name)": "4"
                                },
                                {
                                    "(No column name)": "1"
                                },
                                {
                                    "(No column name)": "2"
                                },
                                {
                                    "(No column name)": "2"
                                },
                                {
                                    "(No column name)": "2"
                                },
                                {
                                    "(No column name)": "1"
                                },
                                {
                                    "(No column name)": "1"
                                },
                                {
                                    "(No column name)": "1"
                                },
                                {
                                    "(No column name)": "6"
                                },
                                {
                                    "(No column name)": "2"
                                },
                                {
                                    "(No column name)": "1"
                                },
                                {
                                    "(No column name)": "2"
                                },
                                {
                                    "(No column name)": "3"
                                },
                                {
                                    "(No column name)": "5"
                                },
                                {
                                    "(No column name)": "1"
                                },
                                {
                                    "(No column name)": "1"
                                },
                                {
                                    "(No column name)": "2"
                                },
                                {
                                    "(No column name)": "1"
                                },
                                {
                                    "(No column name)": "3"
                                },
                                {
                                    "(No column name)": "2"
                                },
                                {
                                    "(No column name)": "18"
                                },
                                {
                                    "(No column name)": "7"
                                },
                                {
                                    "(No column name)": "1"
                                },
                                {
                                    "(No column name)": "1"
                                },
                                {
                                    "(No column name)": "6"
                                },
                                {
                                    "(No column name)": "2"
                                },
                                {
                                    "(No column name)": "4"
                                },
                                {
                                    "(No column name)": "6"
                                },
                                {
                                    "(No column name)": "1"
                                },
                                {
                                    "(No column name)": "4"
                                },
                                {
                                    "(No column name)": "1"
                                },
                                {
                                    "(No column name)": "551"
                                }
                            ]
                        },
                        "text/html": "<table><tr><th>(No column name)</th><th>(No column name)</th></tr><tr><td>4</td><td>15</td></tr><tr><td>5</td><td>3</td></tr><tr><td>6</td><td>20</td></tr><tr><td>7</td><td>3</td></tr><tr><td>8</td><td>3</td></tr><tr><td>9</td><td>2</td></tr><tr><td>10</td><td>1</td></tr><tr><td>11</td><td>1</td></tr><tr><td>12</td><td>1</td></tr><tr><td>13</td><td>2</td></tr><tr><td>14</td><td>4</td></tr><tr><td>15</td><td>1</td></tr><tr><td>16</td><td>7</td></tr><tr><td>17</td><td>1</td></tr><tr><td>18</td><td>2</td></tr><tr><td>19</td><td>19</td></tr><tr><td>20</td><td>3</td></tr><tr><td>21</td><td>5</td></tr><tr><td>22</td><td>2</td></tr><tr><td>24</td><td>7</td></tr><tr><td>25</td><td>4</td></tr><tr><td>26</td><td>1</td></tr><tr><td>27</td><td>3</td></tr><tr><td>28</td><td>5</td></tr><tr><td>29</td><td>1</td></tr><tr><td>30</td><td>7</td></tr><tr><td>31</td><td>1</td></tr><tr><td>32</td><td>3</td></tr><tr><td>33</td><td>1</td></tr><tr><td>34</td><td>1</td></tr><tr><td>35</td><td>7</td></tr><tr><td>36</td><td>5</td></tr><tr><td>37</td><td>1</td></tr><tr><td>38</td><td>1</td></tr><tr><td>39</td><td>2</td></tr><tr><td>40</td><td>1</td></tr><tr><td>41</td><td>13</td></tr><tr><td>42</td><td>1</td></tr><tr><td>43</td><td>3</td></tr><tr><td>44</td><td>1</td></tr><tr><td>45</td><td>11</td></tr><tr><td>46</td><td>7</td></tr><tr><td>47</td><td>4</td></tr><tr><td>48</td><td>2</td></tr><tr><td>49</td><td>2</td></tr><tr><td>50</td><td>1</td></tr><tr><td>51</td><td>3</td></tr><tr><td>52</td><td>26</td></tr><tr><td>53</td><td>1</td></tr><tr><td>54</td><td>6</td></tr><tr><td>55</td><td>2</td></tr><tr><td>56</td><td>4</td></tr><tr><td>57</td><td>2</td></tr><tr><td>58</td><td>3</td></tr><tr><td>59</td><td>4</td></tr><tr><td>60</td><td>5</td></tr><tr><td>61</td><td>1</td></tr><tr><td>62</td><td>2</td></tr><tr><td>64</td><td>4</td></tr><tr><td>65</td><td>2</td></tr><tr><td>66</td><td>7</td></tr><tr><td>67</td><td>2</td></tr><tr><td>68</td><td>2</td></tr><tr><td>70</td><td>3</td></tr><tr><td>71</td><td>2</td></tr><tr><td>72</td><td>2</td></tr><tr><td>73</td><td>2</td></tr><tr><td>74</td><td>1</td></tr><tr><td>75</td><td>2</td></tr><tr><td>76</td><td>5</td></tr><tr><td>78</td><td>24</td></tr><tr><td>79</td><td>4</td></tr><tr><td>80</td><td>1</td></tr><tr><td>82</td><td>1</td></tr><tr><td>83</td><td>6</td></tr><tr><td>84</td><td>1</td></tr><tr><td>85</td><td>16</td></tr><tr><td>86</td><td>1</td></tr><tr><td>88</td><td>2</td></tr><tr><td>89</td><td>3</td></tr><tr><td>90</td><td>2</td></tr><tr><td>91</td><td>7</td></tr><tr><td>92</td><td>2</td></tr><tr><td>93</td><td>7</td></tr><tr><td>94</td><td>2</td></tr><tr><td>95</td><td>2</td></tr><tr><td>96</td><td>9</td></tr><tr><td>97</td><td>10</td></tr><tr><td>98</td><td>4</td></tr><tr><td>99</td><td>1</td></tr><tr><td>100</td><td>9</td></tr><tr><td>101</td><td>1</td></tr><tr><td>103</td><td>1</td></tr><tr><td>104</td><td>2</td></tr><tr><td>105</td><td>1</td></tr><tr><td>106</td><td>5</td></tr><tr><td>107</td><td>1</td></tr><tr><td>108</td><td>1</td></tr><tr><td>109</td><td>1</td></tr><tr><td>110</td><td>2</td></tr><tr><td>111</td><td>3</td></tr><tr><td>112</td><td>2</td></tr><tr><td>114</td><td>1</td></tr><tr><td>115</td><td>1</td></tr><tr><td>116</td><td>2</td></tr><tr><td>117</td><td>2</td></tr><tr><td>118</td><td>9</td></tr><tr><td>119</td><td>3</td></tr><tr><td>121</td><td>2</td></tr><tr><td>122</td><td>7</td></tr><tr><td>123</td><td>2</td></tr><tr><td>124</td><td>10</td></tr><tr><td>125</td><td>4</td></tr><tr><td>126</td><td>1</td></tr><tr><td>127</td><td>2</td></tr><tr><td>128</td><td>2</td></tr><tr><td>129</td><td>2</td></tr><tr><td>130</td><td>1</td></tr><tr><td>131</td><td>1</td></tr><tr><td>132</td><td>1</td></tr><tr><td>133</td><td>6</td></tr><tr><td>134</td><td>2</td></tr><tr><td>135</td><td>1</td></tr><tr><td>136</td><td>2</td></tr><tr><td>137</td><td>3</td></tr><tr><td>138</td><td>5</td></tr><tr><td>139</td><td>1</td></tr><tr><td>140</td><td>1</td></tr><tr><td>141</td><td>2</td></tr><tr><td>142</td><td>1</td></tr><tr><td>143</td><td>3</td></tr><tr><td>144</td><td>2</td></tr><tr><td>145</td><td>18</td></tr><tr><td>146</td><td>7</td></tr><tr><td>147</td><td>1</td></tr><tr><td>148</td><td>1</td></tr><tr><td>149</td><td>6</td></tr><tr><td>150</td><td>2</td></tr><tr><td>151</td><td>4</td></tr><tr><td>152</td><td>6</td></tr><tr><td>153</td><td>1</td></tr><tr><td>154</td><td>4</td></tr><tr><td>155</td><td>1</td></tr><tr><td>Végösszeg</td><td>551</td></tr></table>"
                    },
                    "metadata": {}
                }
            ],
            "execution_count": 4
        },
        {
            "cell_type": "markdown",
            "source": [
                "4. <span style=\"background-color: rgb(255, 255, 255); color: rgb(0, 0, 0); font-family: &quot;Open Sans&quot;, sans-serif; font-size: 14.44px;\">Készítsünk listát az ügyfelek számáról születési év szerint, azon belül nem szerinti bontásban!&nbsp;</span> \n",
                "\n",
                "a. A lista megfelelően jelölve tartalmazza a részösszegeket és a végösszeget is!  \n",
                "b. Az oszlopoknak adjunk nevet értelemszerűen!"
            ],
            "metadata": {
                "azdata_cell_guid": "8e7fef82-8022-49a0-8255-fc2846c2134b"
            },
            "attachments": {}
        },
        {
            "cell_type": "code",
            "source": [
                "SELECT IIF(GROUPING_ID(SZULEV)=1, 'Végösszeg', CAST(SZULEV AS nvarchar(4))) AS 'Születési év',\r\n",
                "        CASE WHEN GROUPING_ID(SZULEV, NEM)=1 THEN 'Részösszeg'\r\n",
                "            WHEN GROUPING_ID(SZULEV, NEM)=3 THEN 'Végösszeg'\r\n",
                "            WHEN GROUPING_ID(SZULEV, NEM)=0 THEN NEM\r\n",
                "        END AS 'Nem',\r\n",
                "        COUNT(*) AS 'Ügyfelek száma'\r\n",
                "FROM Ugyfel\r\n",
                "GROUP BY ROLLUP(SZULEV, NEM)"
            ],
            "metadata": {
                "azdata_cell_guid": "36f7b396-4a1f-45e5-8720-2302537c91bc",
                "language": "sql"
            },
            "outputs": [
                {
                    "output_type": "display_data",
                    "data": {
                        "text/html": "(96 rows affected)"
                    },
                    "metadata": {}
                },
                {
                    "output_type": "display_data",
                    "data": {
                        "text/html": "Total execution time: 00:00:00.046"
                    },
                    "metadata": {}
                },
                {
                    "output_type": "execute_result",
                    "execution_count": 9,
                    "data": {
                        "application/vnd.dataresource+json": {
                            "schema": {
                                "fields": [
                                    {
                                        "name": "Születési év"
                                    },
                                    {
                                        "name": "Nem"
                                    },
                                    {
                                        "name": "Ügyfelek száma"
                                    }
                                ]
                            },
                            "data": [
                                {
                                    "Születési év": "1967",
                                    "Nem": "F",
                                    "Ügyfelek száma": "5"
                                },
                                {
                                    "Születési év": "1967",
                                    "Nem": "N",
                                    "Ügyfelek száma": "3"
                                },
                                {
                                    "Születési év": "1967",
                                    "Nem": "Részösszeg",
                                    "Ügyfelek száma": "8"
                                },
                                {
                                    "Születési év": "1968",
                                    "Nem": "F",
                                    "Ügyfelek száma": "5"
                                },
                                {
                                    "Születési év": "1968",
                                    "Nem": "N",
                                    "Ügyfelek száma": "3"
                                },
                                {
                                    "Születési év": "1968",
                                    "Nem": "Részösszeg",
                                    "Ügyfelek száma": "8"
                                },
                                {
                                    "Születési év": "1969",
                                    "Nem": "F",
                                    "Ügyfelek száma": "5"
                                },
                                {
                                    "Születési év": "1969",
                                    "Nem": "N",
                                    "Ügyfelek száma": "3"
                                },
                                {
                                    "Születési év": "1969",
                                    "Nem": "Részösszeg",
                                    "Ügyfelek száma": "8"
                                },
                                {
                                    "Születési év": "1970",
                                    "Nem": "F",
                                    "Ügyfelek száma": "4"
                                },
                                {
                                    "Születési év": "1970",
                                    "Nem": "Részösszeg",
                                    "Ügyfelek száma": "4"
                                },
                                {
                                    "Születési év": "1971",
                                    "Nem": "F",
                                    "Ügyfelek száma": "2"
                                },
                                {
                                    "Születési év": "1971",
                                    "Nem": "N",
                                    "Ügyfelek száma": "3"
                                },
                                {
                                    "Születési év": "1971",
                                    "Nem": "Részösszeg",
                                    "Ügyfelek száma": "5"
                                },
                                {
                                    "Születési év": "1972",
                                    "Nem": "F",
                                    "Ügyfelek száma": "2"
                                },
                                {
                                    "Születési év": "1972",
                                    "Nem": "N",
                                    "Ügyfelek száma": "2"
                                },
                                {
                                    "Születési év": "1972",
                                    "Nem": "Részösszeg",
                                    "Ügyfelek száma": "4"
                                },
                                {
                                    "Születési év": "1973",
                                    "Nem": "F",
                                    "Ügyfelek száma": "2"
                                },
                                {
                                    "Születési év": "1973",
                                    "Nem": "N",
                                    "Ügyfelek száma": "2"
                                },
                                {
                                    "Születési év": "1973",
                                    "Nem": "Részösszeg",
                                    "Ügyfelek száma": "4"
                                },
                                {
                                    "Születési év": "1974",
                                    "Nem": "F",
                                    "Ügyfelek száma": "1"
                                },
                                {
                                    "Születési év": "1974",
                                    "Nem": "N",
                                    "Ügyfelek száma": "3"
                                },
                                {
                                    "Születési év": "1974",
                                    "Nem": "Részösszeg",
                                    "Ügyfelek száma": "4"
                                },
                                {
                                    "Születési év": "1975",
                                    "Nem": "F",
                                    "Ügyfelek száma": "8"
                                },
                                {
                                    "Születési év": "1975",
                                    "Nem": "N",
                                    "Ügyfelek száma": "3"
                                },
                                {
                                    "Születési év": "1975",
                                    "Nem": "Részösszeg",
                                    "Ügyfelek száma": "11"
                                },
                                {
                                    "Születési év": "1976",
                                    "Nem": "F",
                                    "Ügyfelek száma": "5"
                                },
                                {
                                    "Születési év": "1976",
                                    "Nem": "N",
                                    "Ügyfelek száma": "2"
                                },
                                {
                                    "Születési év": "1976",
                                    "Nem": "Részösszeg",
                                    "Ügyfelek száma": "7"
                                },
                                {
                                    "Születési év": "1977",
                                    "Nem": "F",
                                    "Ügyfelek száma": "4"
                                },
                                {
                                    "Születési év": "1977",
                                    "Nem": "N",
                                    "Ügyfelek száma": "1"
                                },
                                {
                                    "Születési év": "1977",
                                    "Nem": "Részösszeg",
                                    "Ügyfelek száma": "5"
                                },
                                {
                                    "Születési év": "1978",
                                    "Nem": "F",
                                    "Ügyfelek száma": "3"
                                },
                                {
                                    "Születési év": "1978",
                                    "Nem": "N",
                                    "Ügyfelek száma": "4"
                                },
                                {
                                    "Születési év": "1978",
                                    "Nem": "Részösszeg",
                                    "Ügyfelek száma": "7"
                                },
                                {
                                    "Születési év": "1979",
                                    "Nem": "F",
                                    "Ügyfelek száma": "4"
                                },
                                {
                                    "Születési év": "1979",
                                    "Nem": "N",
                                    "Ügyfelek száma": "3"
                                },
                                {
                                    "Születési év": "1979",
                                    "Nem": "Részösszeg",
                                    "Ügyfelek száma": "7"
                                },
                                {
                                    "Születési év": "1980",
                                    "Nem": "F",
                                    "Ügyfelek száma": "4"
                                },
                                {
                                    "Születési év": "1980",
                                    "Nem": "N",
                                    "Ügyfelek száma": "3"
                                },
                                {
                                    "Születési év": "1980",
                                    "Nem": "Részösszeg",
                                    "Ügyfelek száma": "7"
                                },
                                {
                                    "Születési év": "1981",
                                    "Nem": "N",
                                    "Ügyfelek száma": "4"
                                },
                                {
                                    "Születési év": "1981",
                                    "Nem": "Részösszeg",
                                    "Ügyfelek száma": "4"
                                },
                                {
                                    "Születési év": "1982",
                                    "Nem": "F",
                                    "Ügyfelek száma": "2"
                                },
                                {
                                    "Születési év": "1982",
                                    "Nem": "N",
                                    "Ügyfelek száma": "2"
                                },
                                {
                                    "Születési év": "1982",
                                    "Nem": "Részösszeg",
                                    "Ügyfelek száma": "4"
                                },
                                {
                                    "Születési év": "1983",
                                    "Nem": "F",
                                    "Ügyfelek száma": "5"
                                },
                                {
                                    "Születési év": "1983",
                                    "Nem": "N",
                                    "Ügyfelek száma": "3"
                                },
                                {
                                    "Születési év": "1983",
                                    "Nem": "Részösszeg",
                                    "Ügyfelek száma": "8"
                                },
                                {
                                    "Születési év": "1984",
                                    "Nem": "F",
                                    "Ügyfelek száma": "6"
                                },
                                {
                                    "Születési év": "1984",
                                    "Nem": "N",
                                    "Ügyfelek száma": "2"
                                },
                                {
                                    "Születési év": "1984",
                                    "Nem": "Részösszeg",
                                    "Ügyfelek száma": "8"
                                },
                                {
                                    "Születési év": "1985",
                                    "Nem": "F",
                                    "Ügyfelek száma": "5"
                                },
                                {
                                    "Születési év": "1985",
                                    "Nem": "N",
                                    "Ügyfelek száma": "1"
                                },
                                {
                                    "Születési év": "1985",
                                    "Nem": "Részösszeg",
                                    "Ügyfelek száma": "6"
                                },
                                {
                                    "Születési év": "1986",
                                    "Nem": "F",
                                    "Ügyfelek száma": "7"
                                },
                                {
                                    "Születési év": "1986",
                                    "Nem": "N",
                                    "Ügyfelek száma": "2"
                                },
                                {
                                    "Születési év": "1986",
                                    "Nem": "Részösszeg",
                                    "Ügyfelek száma": "9"
                                },
                                {
                                    "Születési év": "1987",
                                    "Nem": "F",
                                    "Ügyfelek száma": "2"
                                },
                                {
                                    "Születési év": "1987",
                                    "Nem": "N",
                                    "Ügyfelek száma": "3"
                                },
                                {
                                    "Születési év": "1987",
                                    "Nem": "Részösszeg",
                                    "Ügyfelek száma": "5"
                                },
                                {
                                    "Születési év": "1988",
                                    "Nem": "F",
                                    "Ügyfelek száma": "2"
                                },
                                {
                                    "Születési év": "1988",
                                    "Nem": "N",
                                    "Ügyfelek száma": "4"
                                },
                                {
                                    "Születési év": "1988",
                                    "Nem": "Részösszeg",
                                    "Ügyfelek száma": "6"
                                },
                                {
                                    "Születési év": "1989",
                                    "Nem": "F",
                                    "Ügyfelek száma": "6"
                                },
                                {
                                    "Születési év": "1989",
                                    "Nem": "N",
                                    "Ügyfelek száma": "1"
                                },
                                {
                                    "Születési év": "1989",
                                    "Nem": "Részösszeg",
                                    "Ügyfelek száma": "7"
                                },
                                {
                                    "Születési év": "1990",
                                    "Nem": "F",
                                    "Ügyfelek száma": "5"
                                },
                                {
                                    "Születési év": "1990",
                                    "Nem": "N",
                                    "Ügyfelek száma": "3"
                                },
                                {
                                    "Születési év": "1990",
                                    "Nem": "Részösszeg",
                                    "Ügyfelek száma": "8"
                                },
                                {
                                    "Születési év": "1991",
                                    "Nem": "F",
                                    "Ügyfelek száma": "3"
                                },
                                {
                                    "Születési év": "1991",
                                    "Nem": "N",
                                    "Ügyfelek száma": "3"
                                },
                                {
                                    "Születési év": "1991",
                                    "Nem": "Részösszeg",
                                    "Ügyfelek száma": "6"
                                },
                                {
                                    "Születési év": "1992",
                                    "Nem": "F",
                                    "Ügyfelek száma": "3"
                                },
                                {
                                    "Születési év": "1992",
                                    "Nem": "N",
                                    "Ügyfelek száma": "1"
                                },
                                {
                                    "Születési év": "1992",
                                    "Nem": "Részösszeg",
                                    "Ügyfelek száma": "4"
                                },
                                {
                                    "Születési év": "1993",
                                    "Nem": "F",
                                    "Ügyfelek száma": "2"
                                },
                                {
                                    "Születési év": "1993",
                                    "Nem": "N",
                                    "Ügyfelek száma": "3"
                                },
                                {
                                    "Születési év": "1993",
                                    "Nem": "Részösszeg",
                                    "Ügyfelek száma": "5"
                                },
                                {
                                    "Születési év": "1994",
                                    "Nem": "N",
                                    "Ügyfelek száma": "3"
                                },
                                {
                                    "Születési év": "1994",
                                    "Nem": "Részösszeg",
                                    "Ügyfelek száma": "3"
                                },
                                {
                                    "Születési év": "1995",
                                    "Nem": "F",
                                    "Ügyfelek száma": "3"
                                },
                                {
                                    "Születési év": "1995",
                                    "Nem": "N",
                                    "Ügyfelek száma": "3"
                                },
                                {
                                    "Születési év": "1995",
                                    "Nem": "Részösszeg",
                                    "Ügyfelek száma": "6"
                                },
                                {
                                    "Születési év": "1996",
                                    "Nem": "F",
                                    "Ügyfelek száma": "2"
                                },
                                {
                                    "Születési év": "1996",
                                    "Nem": "N",
                                    "Ügyfelek száma": "5"
                                },
                                {
                                    "Születési év": "1996",
                                    "Nem": "Részösszeg",
                                    "Ügyfelek száma": "7"
                                },
                                {
                                    "Születési év": "1997",
                                    "Nem": "F",
                                    "Ügyfelek száma": "10"
                                },
                                {
                                    "Születési év": "1997",
                                    "Nem": "N",
                                    "Ügyfelek száma": "2"
                                },
                                {
                                    "Születési év": "1997",
                                    "Nem": "Részösszeg",
                                    "Ügyfelek száma": "12"
                                },
                                {
                                    "Születési év": "1998",
                                    "Nem": "F",
                                    "Ügyfelek száma": "1"
                                },
                                {
                                    "Születési év": "1998",
                                    "Nem": "N",
                                    "Ügyfelek száma": "1"
                                },
                                {
                                    "Születési év": "1998",
                                    "Nem": "Részösszeg",
                                    "Ügyfelek száma": "2"
                                },
                                {
                                    "Születési év": "2000",
                                    "Nem": "F",
                                    "Ügyfelek száma": "1"
                                },
                                {
                                    "Születési év": "2000",
                                    "Nem": "Részösszeg",
                                    "Ügyfelek száma": "1"
                                },
                                {
                                    "Születési év": "Végösszeg",
                                    "Nem": "Végösszeg",
                                    "Ügyfelek száma": "200"
                                }
                            ]
                        },
                        "text/html": "<table><tr><th>Születési év</th><th>Nem</th><th>Ügyfelek száma</th></tr><tr><td>1967</td><td>F</td><td>5</td></tr><tr><td>1967</td><td>N</td><td>3</td></tr><tr><td>1967</td><td>Részösszeg</td><td>8</td></tr><tr><td>1968</td><td>F</td><td>5</td></tr><tr><td>1968</td><td>N</td><td>3</td></tr><tr><td>1968</td><td>Részösszeg</td><td>8</td></tr><tr><td>1969</td><td>F</td><td>5</td></tr><tr><td>1969</td><td>N</td><td>3</td></tr><tr><td>1969</td><td>Részösszeg</td><td>8</td></tr><tr><td>1970</td><td>F</td><td>4</td></tr><tr><td>1970</td><td>Részösszeg</td><td>4</td></tr><tr><td>1971</td><td>F</td><td>2</td></tr><tr><td>1971</td><td>N</td><td>3</td></tr><tr><td>1971</td><td>Részösszeg</td><td>5</td></tr><tr><td>1972</td><td>F</td><td>2</td></tr><tr><td>1972</td><td>N</td><td>2</td></tr><tr><td>1972</td><td>Részösszeg</td><td>4</td></tr><tr><td>1973</td><td>F</td><td>2</td></tr><tr><td>1973</td><td>N</td><td>2</td></tr><tr><td>1973</td><td>Részösszeg</td><td>4</td></tr><tr><td>1974</td><td>F</td><td>1</td></tr><tr><td>1974</td><td>N</td><td>3</td></tr><tr><td>1974</td><td>Részösszeg</td><td>4</td></tr><tr><td>1975</td><td>F</td><td>8</td></tr><tr><td>1975</td><td>N</td><td>3</td></tr><tr><td>1975</td><td>Részösszeg</td><td>11</td></tr><tr><td>1976</td><td>F</td><td>5</td></tr><tr><td>1976</td><td>N</td><td>2</td></tr><tr><td>1976</td><td>Részösszeg</td><td>7</td></tr><tr><td>1977</td><td>F</td><td>4</td></tr><tr><td>1977</td><td>N</td><td>1</td></tr><tr><td>1977</td><td>Részösszeg</td><td>5</td></tr><tr><td>1978</td><td>F</td><td>3</td></tr><tr><td>1978</td><td>N</td><td>4</td></tr><tr><td>1978</td><td>Részösszeg</td><td>7</td></tr><tr><td>1979</td><td>F</td><td>4</td></tr><tr><td>1979</td><td>N</td><td>3</td></tr><tr><td>1979</td><td>Részösszeg</td><td>7</td></tr><tr><td>1980</td><td>F</td><td>4</td></tr><tr><td>1980</td><td>N</td><td>3</td></tr><tr><td>1980</td><td>Részösszeg</td><td>7</td></tr><tr><td>1981</td><td>N</td><td>4</td></tr><tr><td>1981</td><td>Részösszeg</td><td>4</td></tr><tr><td>1982</td><td>F</td><td>2</td></tr><tr><td>1982</td><td>N</td><td>2</td></tr><tr><td>1982</td><td>Részösszeg</td><td>4</td></tr><tr><td>1983</td><td>F</td><td>5</td></tr><tr><td>1983</td><td>N</td><td>3</td></tr><tr><td>1983</td><td>Részösszeg</td><td>8</td></tr><tr><td>1984</td><td>F</td><td>6</td></tr><tr><td>1984</td><td>N</td><td>2</td></tr><tr><td>1984</td><td>Részösszeg</td><td>8</td></tr><tr><td>1985</td><td>F</td><td>5</td></tr><tr><td>1985</td><td>N</td><td>1</td></tr><tr><td>1985</td><td>Részösszeg</td><td>6</td></tr><tr><td>1986</td><td>F</td><td>7</td></tr><tr><td>1986</td><td>N</td><td>2</td></tr><tr><td>1986</td><td>Részösszeg</td><td>9</td></tr><tr><td>1987</td><td>F</td><td>2</td></tr><tr><td>1987</td><td>N</td><td>3</td></tr><tr><td>1987</td><td>Részösszeg</td><td>5</td></tr><tr><td>1988</td><td>F</td><td>2</td></tr><tr><td>1988</td><td>N</td><td>4</td></tr><tr><td>1988</td><td>Részösszeg</td><td>6</td></tr><tr><td>1989</td><td>F</td><td>6</td></tr><tr><td>1989</td><td>N</td><td>1</td></tr><tr><td>1989</td><td>Részösszeg</td><td>7</td></tr><tr><td>1990</td><td>F</td><td>5</td></tr><tr><td>1990</td><td>N</td><td>3</td></tr><tr><td>1990</td><td>Részösszeg</td><td>8</td></tr><tr><td>1991</td><td>F</td><td>3</td></tr><tr><td>1991</td><td>N</td><td>3</td></tr><tr><td>1991</td><td>Részösszeg</td><td>6</td></tr><tr><td>1992</td><td>F</td><td>3</td></tr><tr><td>1992</td><td>N</td><td>1</td></tr><tr><td>1992</td><td>Részösszeg</td><td>4</td></tr><tr><td>1993</td><td>F</td><td>2</td></tr><tr><td>1993</td><td>N</td><td>3</td></tr><tr><td>1993</td><td>Részösszeg</td><td>5</td></tr><tr><td>1994</td><td>N</td><td>3</td></tr><tr><td>1994</td><td>Részösszeg</td><td>3</td></tr><tr><td>1995</td><td>F</td><td>3</td></tr><tr><td>1995</td><td>N</td><td>3</td></tr><tr><td>1995</td><td>Részösszeg</td><td>6</td></tr><tr><td>1996</td><td>F</td><td>2</td></tr><tr><td>1996</td><td>N</td><td>5</td></tr><tr><td>1996</td><td>Részösszeg</td><td>7</td></tr><tr><td>1997</td><td>F</td><td>10</td></tr><tr><td>1997</td><td>N</td><td>2</td></tr><tr><td>1997</td><td>Részösszeg</td><td>12</td></tr><tr><td>1998</td><td>F</td><td>1</td></tr><tr><td>1998</td><td>N</td><td>1</td></tr><tr><td>1998</td><td>Részösszeg</td><td>2</td></tr><tr><td>2000</td><td>F</td><td>1</td></tr><tr><td>2000</td><td>Részösszeg</td><td>1</td></tr><tr><td>Végösszeg</td><td>Végösszeg</td><td>200</td></tr></table>"
                    },
                    "metadata": {}
                }
            ],
            "execution_count": 9
        },
        {
            "cell_type": "markdown",
            "source": [
                "5. <span style=\"background-color: rgb(255, 255, 255); color: rgb(0, 0, 0); font-family: &quot;Open Sans&quot;, sans-serif; font-size: 14.44px;\">Készítsünk listát a termékek számáról a felvitel hónapja, azon belül napja szerint csoportosítva.&nbsp;</span> \n",
                "\n",
                "a. A lista csak a részösszegeket és a végösszeget tartalmazza!  \n",
                "b. Az oszlopoknak adjunk megfelelő nevet!  \n",
                "c. Ötlet: HAVING + GROUPING\\_ID fv együttes használata"
            ],
            "metadata": {
                "azdata_cell_guid": "84239ca2-6b5e-49f5-9860-d44c11d6de32"
            },
            "attachments": {}
        },
        {
            "cell_type": "code",
            "source": [
                "SELECT IIF(GROUPING_ID(MONTH(FELVITEL))=1,'Végösszeg', CAST(MONTH(FELVITEL) AS nvarchar(2))) AS 'Felvitel hónapja',\r\n",
                "        CASE WHEN GROUPING_ID(MONTH(FELVITEL), DAY(FELVITEL))=1 THEN 'Részösszeg'\r\n",
                "            WHEN GROUPING_ID(MONTH(FELVITEL), DAY(FELVITEL))=3 THEN 'Végösszeg'\r\n",
                "            WHEN GROUPING_ID(MONTH(FELVITEL), DAY(FELVITEL))=0 THEN CAST(DAY(FELVITEL) AS nvarchar(2))\r\n",
                "        END AS 'Felvitel napja',\r\n",
                "        COUNT(*) AS 'Termékek száma'\r\n",
                "FROM Termek\r\n",
                "GROUP BY ROLLUP(MONTH(FELVITEL), DAY(FELVITEL))\r\n",
                "HAVING GROUPING_ID(MONTH(FELVITEL), DAY(FELVITEL))<>0"
            ],
            "metadata": {
                "azdata_cell_guid": "06d9a62b-9430-424b-a135-d80e675f0eb3",
                "language": "sql"
            },
            "outputs": [
                {
                    "output_type": "display_data",
                    "data": {
                        "text/html": "(5 rows affected)"
                    },
                    "metadata": {}
                },
                {
                    "output_type": "display_data",
                    "data": {
                        "text/html": "Total execution time: 00:00:00.033"
                    },
                    "metadata": {}
                },
                {
                    "output_type": "execute_result",
                    "execution_count": 10,
                    "data": {
                        "application/vnd.dataresource+json": {
                            "schema": {
                                "fields": [
                                    {
                                        "name": "Felvitel hónapja"
                                    },
                                    {
                                        "name": "Felvitel napja"
                                    },
                                    {
                                        "name": "Termékek száma"
                                    }
                                ]
                            },
                            "data": [
                                {
                                    "Felvitel hónapja": "7",
                                    "Felvitel napja": "Részösszeg",
                                    "Termékek száma": "355"
                                },
                                {
                                    "Felvitel hónapja": "8",
                                    "Felvitel napja": "Részösszeg",
                                    "Termékek száma": "194"
                                },
                                {
                                    "Felvitel hónapja": "9",
                                    "Felvitel napja": "Részösszeg",
                                    "Termékek száma": "1"
                                },
                                {
                                    "Felvitel hónapja": "12",
                                    "Felvitel napja": "Részösszeg",
                                    "Termékek száma": "1"
                                },
                                {
                                    "Felvitel hónapja": "Végösszeg",
                                    "Felvitel napja": "Végösszeg",
                                    "Termékek száma": "551"
                                }
                            ]
                        },
                        "text/html": "<table><tr><th>Felvitel hónapja</th><th>Felvitel napja</th><th>Termékek száma</th></tr><tr><td>7</td><td>Részösszeg</td><td>355</td></tr><tr><td>8</td><td>Részösszeg</td><td>194</td></tr><tr><td>9</td><td>Részösszeg</td><td>1</td></tr><tr><td>12</td><td>Részösszeg</td><td>1</td></tr><tr><td>Végösszeg</td><td>Végösszeg</td><td>551</td></tr></table>"
                    },
                    "metadata": {}
                }
            ],
            "execution_count": 10
        }
    ]
}