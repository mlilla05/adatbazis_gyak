{
    "metadata": {
        "kernelspec": {
            "name": "SQL",
            "display_name": "SQL",
            "language": "sql"
        },
        "language_info": {
            "name": "sql",
            "version": ""
        }
    },
    "nbformat_minor": 2,
    "nbformat": 4,
    "cells": [
        {
            "cell_type": "markdown",
            "source": [
                "**Házi feladat**\n",
                "\n",
                "**Adatprofilozás**\n",
                "\n",
                "Adatbázis: webshop\n",
                "\n",
                "Táblanév: Rendeles\n",
                "\n",
                "1\\. oszlop: SZALL\\_CIM\n",
                "\n",
                "2\\. oszlop: REND\\_DATUM"
            ],
            "metadata": {
                "azdata_cell_guid": "c508ae9c-e7f5-4f0a-b56e-b92c10098572"
            },
            "attachments": {}
        },
        {
            "cell_type": "markdown",
            "source": [
                "**1\\. oszlop 1. lekérdezés**\n",
                "\n",
                "Hány sorban van rögzítve a szállítási cím, és hány sorban nincsen?"
            ],
            "metadata": {
                "azdata_cell_guid": "e0b6c114-a8ea-46d9-8b85-76224bf93548"
            },
            "attachments": {}
        },
        {
            "cell_type": "code",
            "source": [
                "SELECT CASE WHEN SZALL_CIM IS NULL THEN 'NEM'\r\n",
                "            ELSE 'IGEN'\r\n",
                "            END AS 'Szállítási cím rögzítve?',\r\n",
                "        COUNT(*) AS 'Db'\r\n",
                "FROM Rendeles\r\n",
                "GROUP BY CASE WHEN SZALL_CIM IS NULL THEN 'NEM'\r\n",
                "            ELSE 'IGEN'\r\n",
                "            END\r\n",
                "ORDER BY 2 DESC"
            ],
            "metadata": {
                "azdata_cell_guid": "4ac9f74b-e23a-4b80-a552-f91005d5105f",
                "language": "sql"
            },
            "outputs": [
                {
                    "output_type": "display_data",
                    "data": {
                        "text/html": "(2 rows affected)"
                    },
                    "metadata": {}
                },
                {
                    "output_type": "display_data",
                    "data": {
                        "text/html": "Total execution time: 00:00:00.041"
                    },
                    "metadata": {}
                },
                {
                    "output_type": "execute_result",
                    "metadata": {},
                    "execution_count": 73,
                    "data": {
                        "application/vnd.dataresource+json": {
                            "schema": {
                                "fields": [
                                    {
                                        "name": "Szállítási cím rögzítve?"
                                    },
                                    {
                                        "name": "Db"
                                    }
                                ]
                            },
                            "data": [
                                {
                                    "Szállítási cím rögzítve?": "NEM",
                                    "Db": "21689"
                                },
                                {
                                    "Szállítási cím rögzítve?": "IGEN",
                                    "Db": "6396"
                                }
                            ]
                        },
                        "text/html": [
                            "<table>",
                            "<tr><th>Szállítási cím rögzítve?</th><th>Db</th></tr>",
                            "<tr><td>NEM</td><td>21689</td></tr>",
                            "<tr><td>IGEN</td><td>6396</td></tr>",
                            "</table>"
                        ]
                    }
                }
            ],
            "execution_count": 73
        },
        {
            "cell_type": "markdown",
            "source": [
                "**1\\. oszlop 2. lekérdezés**\n",
                "\n",
                "Hány különböző szállítási cím van rögzítve?"
            ],
            "metadata": {
                "azdata_cell_guid": "9b30aca2-3d5e-4774-9d85-6cbf01e05ae7"
            },
            "attachments": {}
        },
        {
            "cell_type": "code",
            "source": [
                "SELECT COUNT(DISTINCT SZALL_CIM) AS 'Szállítási cím db'\r\n",
                "FROM Rendeles\r\n",
                "WHERE SZALL_CIM IS NOT NULL"
            ],
            "metadata": {
                "azdata_cell_guid": "5f55cd08-c93d-412f-9027-fa6786cdccf1",
                "language": "sql"
            },
            "outputs": [
                {
                    "output_type": "display_data",
                    "data": {
                        "text/html": "(1 row affected)"
                    },
                    "metadata": {}
                },
                {
                    "output_type": "display_data",
                    "data": {
                        "text/html": "Total execution time: 00:00:00.041"
                    },
                    "metadata": {}
                },
                {
                    "output_type": "execute_result",
                    "metadata": {},
                    "execution_count": 74,
                    "data": {
                        "application/vnd.dataresource+json": {
                            "schema": {
                                "fields": [
                                    {
                                        "name": "Szállítási cím db"
                                    }
                                ]
                            },
                            "data": [
                                {
                                    "Szállítási cím db": "299"
                                }
                            ]
                        },
                        "text/html": [
                            "<table>",
                            "<tr><th>Szállítási cím db</th></tr>",
                            "<tr><td>299</td></tr>",
                            "</table>"
                        ]
                    }
                }
            ],
            "execution_count": 74
        },
        {
            "cell_type": "markdown",
            "source": [
                "**1\\. oszlop 3. lekérdezés**\n",
                "\n",
                "Melyek azok a szállítási címek, amelyek budapestiek, és nem 32 a házszám?"
            ],
            "metadata": {
                "azdata_cell_guid": "d3b56b2b-57dd-4c31-8e50-9497af6ceeb9"
            },
            "attachments": {}
        },
        {
            "cell_type": "code",
            "source": [
                "SELECT DISTINCT SZALL_CIM\r\n",
                "FROM Rendeles\r\n",
                "WHERE SZALL_CIM LIKE 'Budapest%'\r\n",
                "\r\n",
                "EXCEPT\r\n",
                "\r\n",
                "SELECT DISTINCT SZALL_CIM\r\n",
                "FROM Rendeles\r\n",
                "WHERE SZALL_CIM LIKE '%32.'"
            ],
            "metadata": {
                "azdata_cell_guid": "c9b1f72a-b1b0-4c5c-a5b0-4e8369e75214",
                "language": "sql"
            },
            "outputs": [
                {
                    "output_type": "display_data",
                    "data": {
                        "text/html": "(2 rows affected)"
                    },
                    "metadata": {}
                },
                {
                    "output_type": "display_data",
                    "data": {
                        "text/html": "Total execution time: 00:00:00.040"
                    },
                    "metadata": {}
                },
                {
                    "output_type": "execute_result",
                    "metadata": {},
                    "execution_count": 75,
                    "data": {
                        "application/vnd.dataresource+json": {
                            "schema": {
                                "fields": [
                                    {
                                        "name": "SZALL_CIM"
                                    }
                                ]
                            },
                            "data": [
                                {
                                    "SZALL_CIM": "Budapest, Fő u. 2."
                                },
                                {
                                    "SZALL_CIM": "Budapest, Nagy u.14."
                                }
                            ]
                        },
                        "text/html": [
                            "<table>",
                            "<tr><th>SZALL_CIM</th></tr>",
                            "<tr><td>Budapest, Fő u. 2.</td></tr>",
                            "<tr><td>Budapest, Nagy u.14.</td></tr>",
                            "</table>"
                        ]
                    }
                }
            ],
            "execution_count": 75
        },
        {
            "cell_type": "markdown",
            "source": [
                "**2\\. oszlop 1. lekérdezés**\n",
                "\n",
                "Melyik napokon volt, amikor a TOP 10 legkevesebb rendelést adtak le?"
            ],
            "metadata": {
                "azdata_cell_guid": "bb2043dd-aebe-4824-9fe7-7b11f00a0b5f"
            },
            "attachments": {}
        },
        {
            "cell_type": "code",
            "source": [
                "SELECT TOP(10) REND_DATUM AS 'Rendelési dátum', COUNT(*) AS 'Rendelés db'\r\n",
                "FROM Rendeles\r\n",
                "GROUP BY REND_DATUM\r\n",
                "ORDER BY COUNT(*) ASC, REND_DATUM ASC"
            ],
            "metadata": {
                "azdata_cell_guid": "47c9a81d-7792-4421-ac45-a8d02649b5e0",
                "language": "sql"
            },
            "outputs": [
                {
                    "output_type": "display_data",
                    "data": {
                        "text/html": "(10 rows affected)"
                    },
                    "metadata": {}
                },
                {
                    "output_type": "display_data",
                    "data": {
                        "text/html": "Total execution time: 00:00:00.047"
                    },
                    "metadata": {}
                },
                {
                    "output_type": "execute_result",
                    "metadata": {},
                    "execution_count": 92,
                    "data": {
                        "application/vnd.dataresource+json": {
                            "schema": {
                                "fields": [
                                    {
                                        "name": "Rendelési dátum"
                                    },
                                    {
                                        "name": "Rendelés db"
                                    }
                                ]
                            },
                            "data": [
                                {
                                    "Rendelési dátum": "2017-01-27",
                                    "Rendelés db": "29"
                                },
                                {
                                    "Rendelési dátum": "2016-01-22",
                                    "Rendelés db": "30"
                                },
                                {
                                    "Rendelési dátum": "2016-07-20",
                                    "Rendelés db": "30"
                                },
                                {
                                    "Rendelési dátum": "2015-05-01",
                                    "Rendelés db": "31"
                                },
                                {
                                    "Rendelési dátum": "2015-05-21",
                                    "Rendelés db": "31"
                                },
                                {
                                    "Rendelési dátum": "2016-02-11",
                                    "Rendelés db": "31"
                                },
                                {
                                    "Rendelési dátum": "2016-11-17",
                                    "Rendelés db": "31"
                                },
                                {
                                    "Rendelési dátum": "2017-01-05",
                                    "Rendelés db": "31"
                                },
                                {
                                    "Rendelési dátum": "2015-07-03",
                                    "Rendelés db": "32"
                                },
                                {
                                    "Rendelési dátum": "2015-11-04",
                                    "Rendelés db": "32"
                                }
                            ]
                        },
                        "text/html": [
                            "<table>",
                            "<tr><th>Rendelési dátum</th><th>Rendelés db</th></tr>",
                            "<tr><td>2017-01-27</td><td>29</td></tr>",
                            "<tr><td>2016-01-22</td><td>30</td></tr>",
                            "<tr><td>2016-07-20</td><td>30</td></tr>",
                            "<tr><td>2015-05-01</td><td>31</td></tr>",
                            "<tr><td>2015-05-21</td><td>31</td></tr>",
                            "<tr><td>2016-02-11</td><td>31</td></tr>",
                            "<tr><td>2016-11-17</td><td>31</td></tr>",
                            "<tr><td>2017-01-05</td><td>31</td></tr>",
                            "<tr><td>2015-07-03</td><td>32</td></tr>",
                            "<tr><td>2015-11-04</td><td>32</td></tr>",
                            "</table>"
                        ]
                    }
                }
            ],
            "execution_count": 92
        },
        {
            "cell_type": "markdown",
            "source": [
                "**2\\. oszlop 2. lekérdezés**\n",
                "\n",
                "Hány rendelés volt 2015 nyarán?"
            ],
            "metadata": {
                "azdata_cell_guid": "67aa3d92-220c-4890-ad27-3c9ec8dc81c8"
            },
            "attachments": {}
        },
        {
            "cell_type": "code",
            "source": [
                "SELECT COUNT(*) AS 'Rendelések száma 2015 nyarán'\r\n",
                "FROM Rendeles\r\n",
                "WHERE MONTH(REND_DATUM) IN (6, 7, 8) AND YEAR(REND_DATUM) = 2015"
            ],
            "metadata": {
                "azdata_cell_guid": "2693535f-1c11-4efd-a02e-7ffe4225354f",
                "language": "sql"
            },
            "outputs": [
                {
                    "output_type": "display_data",
                    "data": {
                        "text/html": "(1 row affected)"
                    },
                    "metadata": {}
                },
                {
                    "output_type": "display_data",
                    "data": {
                        "text/html": "Total execution time: 00:00:00.033"
                    },
                    "metadata": {}
                },
                {
                    "output_type": "execute_result",
                    "metadata": {},
                    "execution_count": 77,
                    "data": {
                        "application/vnd.dataresource+json": {
                            "schema": {
                                "fields": [
                                    {
                                        "name": "Rendelések száma 2015 nyarán"
                                    }
                                ]
                            },
                            "data": [
                                {
                                    "Rendelések száma 2015 nyarán": "3666"
                                }
                            ]
                        },
                        "text/html": [
                            "<table>",
                            "<tr><th>Rendelések száma 2015 nyarán</th></tr>",
                            "<tr><td>3666</td></tr>",
                            "</table>"
                        ]
                    }
                }
            ],
            "execution_count": 77
        },
        {
            "cell_type": "markdown",
            "source": [
                "**2\\. oszlop 3. lekérdezés**\n",
                "\n",
                "Hány rendelés történt a legutóbbi 10 napon?"
            ],
            "metadata": {
                "azdata_cell_guid": "00a03707-b22e-4080-abdb-c734a0f09ccb"
            },
            "attachments": {}
        },
        {
            "cell_type": "code",
            "source": [
                "SELECT REND_DATUM AS 'Rendelés dátuma', COUNT(*) AS 'Rendelések száma'\r\n",
                "FROM Rendeles\r\n",
                "WHERE REND_DATUM IN(\r\n",
                "    SELECT TOP(10) REND_DATUM\r\n",
                "    FROM Rendeles\r\n",
                "    GROUP BY REND_DATUM\r\n",
                "    ORDER BY REND_DATUM DESC\r\n",
                ")\r\n",
                "GROUP BY REND_DATUM\r\n",
                "ORDER BY REND_DATUM DESC"
            ],
            "metadata": {
                "azdata_cell_guid": "9c753c8a-b541-4a39-8a64-bc74b80679f6",
                "language": "sql"
            },
            "outputs": [
                {
                    "output_type": "display_data",
                    "data": {
                        "text/html": "(10 rows affected)"
                    },
                    "metadata": {}
                },
                {
                    "output_type": "display_data",
                    "data": {
                        "text/html": "Total execution time: 00:00:00.041"
                    },
                    "metadata": {}
                },
                {
                    "output_type": "execute_result",
                    "metadata": {},
                    "execution_count": 85,
                    "data": {
                        "application/vnd.dataresource+json": {
                            "schema": {
                                "fields": [
                                    {
                                        "name": "Rendelés dátuma"
                                    },
                                    {
                                        "name": "Rendelések száma"
                                    }
                                ]
                            },
                            "data": [
                                {
                                    "Rendelés dátuma": "2017-04-01",
                                    "Rendelések száma": "38"
                                },
                                {
                                    "Rendelés dátuma": "2017-03-31",
                                    "Rendelések száma": "41"
                                },
                                {
                                    "Rendelés dátuma": "2017-03-30",
                                    "Rendelések száma": "38"
                                },
                                {
                                    "Rendelés dátuma": "2017-03-29",
                                    "Rendelések száma": "36"
                                },
                                {
                                    "Rendelés dátuma": "2017-03-28",
                                    "Rendelések száma": "38"
                                },
                                {
                                    "Rendelés dátuma": "2017-03-27",
                                    "Rendelések száma": "42"
                                },
                                {
                                    "Rendelés dátuma": "2017-03-26",
                                    "Rendelések száma": "43"
                                },
                                {
                                    "Rendelés dátuma": "2017-03-25",
                                    "Rendelések száma": "43"
                                },
                                {
                                    "Rendelés dátuma": "2017-03-24",
                                    "Rendelések száma": "38"
                                },
                                {
                                    "Rendelés dátuma": "2017-03-23",
                                    "Rendelések száma": "42"
                                }
                            ]
                        },
                        "text/html": [
                            "<table>",
                            "<tr><th>Rendelés dátuma</th><th>Rendelések száma</th></tr>",
                            "<tr><td>2017-04-01</td><td>38</td></tr>",
                            "<tr><td>2017-03-31</td><td>41</td></tr>",
                            "<tr><td>2017-03-30</td><td>38</td></tr>",
                            "<tr><td>2017-03-29</td><td>36</td></tr>",
                            "<tr><td>2017-03-28</td><td>38</td></tr>",
                            "<tr><td>2017-03-27</td><td>42</td></tr>",
                            "<tr><td>2017-03-26</td><td>43</td></tr>",
                            "<tr><td>2017-03-25</td><td>43</td></tr>",
                            "<tr><td>2017-03-24</td><td>38</td></tr>",
                            "<tr><td>2017-03-23</td><td>42</td></tr>",
                            "</table>"
                        ]
                    }
                }
            ],
            "execution_count": 85
        }
    ]
}