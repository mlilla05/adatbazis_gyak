{
    "metadata": {
        "kernelspec": {
            "name": "SQL",
            "display_name": "SQL",
            "language": "sql"
        },
        "language_info": {
            "name": "sql",
            "version": ""
        }
    },
    "nbformat_minor": 2,
    "nbformat": 4,
    "cells": [
        {
            "cell_type": "markdown",
            "source": [
                "1\\. Készítsünk listát arról, hogy melyik órán ki a tanár! Adjuk meg az órák azonosítóját és a tanár nevét és titulusát!"
            ],
            "metadata": {
                "azdata_cell_guid": "bac03825-f415-433d-b45f-cf031b1f0d4b"
            },
            "attachments": {}
        },
        {
            "cell_type": "code",
            "source": [
                "SELECT o.ora_id, okt.nev, okt.titulus FROM Orak\r\n",
                "o JOIN Oktatok okt\r\n",
                "ON o.tanar = okt.oktato_id\r\n",
                ""
            ],
            "metadata": {
                "azdata_cell_guid": "ca341d64-deca-4a69-aed2-3e572caae18e",
                "language": "sql"
            },
            "outputs": [
                {
                    "output_type": "display_data",
                    "data": {
                        "text/html": "(67 rows affected)"
                    },
                    "metadata": {}
                },
                {
                    "output_type": "display_data",
                    "data": {
                        "text/html": "Total execution time: 00:00:00.075"
                    },
                    "metadata": {}
                },
                {
                    "output_type": "execute_result",
                    "execution_count": 1,
                    "data": {
                        "application/vnd.dataresource+json": {
                            "schema": {
                                "fields": [
                                    {
                                        "name": "ora_id"
                                    },
                                    {
                                        "name": "nev"
                                    },
                                    {
                                        "name": "titulus"
                                    }
                                ]
                            },
                            "data": [
                                {
                                    "ora_id": "159",
                                    "nev": "Ujfalussi István",
                                    "titulus": "Prof, tanszékvezető"
                                },
                                {
                                    "ora_id": "160",
                                    "nev": "Pelikán József",
                                    "titulus": "NULL"
                                },
                                {
                                    "ora_id": "161",
                                    "nev": "Pelikán József",
                                    "titulus": "NULL"
                                },
                                {
                                    "ora_id": "162",
                                    "nev": "Kovács András",
                                    "titulus": "NULL"
                                },
                                {
                                    "ora_id": "163",
                                    "nev": "Szerb László",
                                    "titulus": "NULL"
                                },
                                {
                                    "ora_id": "164",
                                    "nev": "Kiss János",
                                    "titulus": "NULL"
                                },
                                {
                                    "ora_id": "165",
                                    "nev": "Szerb László",
                                    "titulus": "NULL"
                                },
                                {
                                    "ora_id": "166",
                                    "nev": "Szerb László",
                                    "titulus": "NULL"
                                },
                                {
                                    "ora_id": "167",
                                    "nev": "Szentágotai Istvás",
                                    "titulus": "Dr."
                                },
                                {
                                    "ora_id": "168",
                                    "nev": "Ujfalussi István",
                                    "titulus": "Prof, tanszékvezető"
                                },
                                {
                                    "ora_id": "169",
                                    "nev": "Kovács András",
                                    "titulus": "NULL"
                                },
                                {
                                    "ora_id": "170",
                                    "nev": "Ludas Mátyás",
                                    "titulus": "NULL"
                                },
                                {
                                    "ora_id": "171",
                                    "nev": "Szénási ászló",
                                    "titulus": "NULL"
                                },
                                {
                                    "ora_id": "172",
                                    "nev": "Kiss János",
                                    "titulus": "NULL"
                                },
                                {
                                    "ora_id": "173",
                                    "nev": "Kovács András",
                                    "titulus": "NULL"
                                },
                                {
                                    "ora_id": "174",
                                    "nev": "Ludas Mátyás",
                                    "titulus": "NULL"
                                },
                                {
                                    "ora_id": "175",
                                    "nev": "Szénási ászló",
                                    "titulus": "NULL"
                                },
                                {
                                    "ora_id": "176",
                                    "nev": "Kovács András",
                                    "titulus": "NULL"
                                },
                                {
                                    "ora_id": "177",
                                    "nev": "Szentágotai Istvás",
                                    "titulus": "Dr."
                                },
                                {
                                    "ora_id": "178",
                                    "nev": "Vitéz János",
                                    "titulus": "NULL"
                                },
                                {
                                    "ora_id": "179",
                                    "nev": "Szentágotai Istvás",
                                    "titulus": "Dr."
                                },
                                {
                                    "ora_id": "180",
                                    "nev": "Vitéz János",
                                    "titulus": "NULL"
                                },
                                {
                                    "ora_id": "181",
                                    "nev": "Szentágotai Istvás",
                                    "titulus": "Dr."
                                },
                                {
                                    "ora_id": "182",
                                    "nev": "Vitéz János",
                                    "titulus": "NULL"
                                },
                                {
                                    "ora_id": "183",
                                    "nev": "Szentágotai Istvás",
                                    "titulus": "Dr."
                                },
                                {
                                    "ora_id": "184",
                                    "nev": "Vitéz János",
                                    "titulus": "NULL"
                                },
                                {
                                    "ora_id": "185",
                                    "nev": "Szentágotai Istvás",
                                    "titulus": "Dr."
                                },
                                {
                                    "ora_id": "186",
                                    "nev": "Nógrádi Kata",
                                    "titulus": "NULL"
                                },
                                {
                                    "ora_id": "187",
                                    "nev": "Balkán András",
                                    "titulus": "Dr."
                                },
                                {
                                    "ora_id": "188",
                                    "nev": "Farkasos Piroska",
                                    "titulus": "NULL"
                                },
                                {
                                    "ora_id": "189",
                                    "nev": "Farkasos Piroska",
                                    "titulus": "NULL"
                                },
                                {
                                    "ora_id": "190",
                                    "nev": "Farkasos Piroska",
                                    "titulus": "NULL"
                                },
                                {
                                    "ora_id": "191",
                                    "nev": "Varga Kata",
                                    "titulus": "Dr."
                                },
                                {
                                    "ora_id": "192",
                                    "nev": "Varga Kata",
                                    "titulus": "Dr."
                                },
                                {
                                    "ora_id": "193",
                                    "nev": "Farkasos Piroska",
                                    "titulus": "NULL"
                                },
                                {
                                    "ora_id": "194",
                                    "nev": "Farkasos Piroska",
                                    "titulus": "NULL"
                                },
                                {
                                    "ora_id": "195",
                                    "nev": "Balkán András",
                                    "titulus": "Dr."
                                },
                                {
                                    "ora_id": "196",
                                    "nev": "Balkán András",
                                    "titulus": "Dr."
                                },
                                {
                                    "ora_id": "197",
                                    "nev": "Farkasos Piroska",
                                    "titulus": "NULL"
                                },
                                {
                                    "ora_id": "198",
                                    "nev": "Farkasos Piroska",
                                    "titulus": "NULL"
                                },
                                {
                                    "ora_id": "199",
                                    "nev": "Szabó Andrera",
                                    "titulus": "NULL"
                                },
                                {
                                    "ora_id": "200",
                                    "nev": "Szabó Andrera",
                                    "titulus": "NULL"
                                },
                                {
                                    "ora_id": "201",
                                    "nev": "Juhász András",
                                    "titulus": "Dr."
                                },
                                {
                                    "ora_id": "202",
                                    "nev": "Juhász András",
                                    "titulus": "Dr."
                                },
                                {
                                    "ora_id": "203",
                                    "nev": "Aranyi Mária",
                                    "titulus": "NULL"
                                },
                                {
                                    "ora_id": "204",
                                    "nev": "Róbert Gida",
                                    "titulus": "NULL"
                                },
                                {
                                    "ora_id": "205",
                                    "nev": "Ujfalussi István",
                                    "titulus": "Prof, tanszékvezető"
                                },
                                {
                                    "ora_id": "206",
                                    "nev": "Varga Kata",
                                    "titulus": "Dr."
                                },
                                {
                                    "ora_id": "207",
                                    "nev": "Varga Kata",
                                    "titulus": "Dr."
                                },
                                {
                                    "ora_id": "208",
                                    "nev": "Jogrerős Pál",
                                    "titulus": "Prof."
                                },
                                {
                                    "ora_id": "209",
                                    "nev": "Jogrerős Pál",
                                    "titulus": "Prof."
                                },
                                {
                                    "ora_id": "210",
                                    "nev": "Szép llonka",
                                    "titulus": "Dr."
                                },
                                {
                                    "ora_id": "211",
                                    "nev": "Szép llonka",
                                    "titulus": "Dr."
                                },
                                {
                                    "ora_id": "212",
                                    "nev": "Kiss János",
                                    "titulus": "NULL"
                                },
                                {
                                    "ora_id": "213",
                                    "nev": "Kiss János",
                                    "titulus": "NULL"
                                },
                                {
                                    "ora_id": "214",
                                    "nev": "Pelikán József",
                                    "titulus": "NULL"
                                },
                                {
                                    "ora_id": "215",
                                    "nev": "Pelikán József",
                                    "titulus": "NULL"
                                },
                                {
                                    "ora_id": "216",
                                    "nev": "Szép llonka",
                                    "titulus": "Dr."
                                },
                                {
                                    "ora_id": "217",
                                    "nev": "Szép llonka",
                                    "titulus": "Dr."
                                },
                                {
                                    "ora_id": "218",
                                    "nev": "Pelikán József",
                                    "titulus": "NULL"
                                },
                                {
                                    "ora_id": "219",
                                    "nev": "Pelikán József",
                                    "titulus": "NULL"
                                },
                                {
                                    "ora_id": "220",
                                    "nev": "Kovács László",
                                    "titulus": "Dr."
                                },
                                {
                                    "ora_id": "221",
                                    "nev": "Kovács László",
                                    "titulus": "Dr."
                                },
                                {
                                    "ora_id": "222",
                                    "nev": "Kovács László",
                                    "titulus": "Dr."
                                },
                                {
                                    "ora_id": "223",
                                    "nev": "Kovács László",
                                    "titulus": "Dr."
                                },
                                {
                                    "ora_id": "226",
                                    "nev": "Szentágotai Istvás",
                                    "titulus": "Dr."
                                },
                                {
                                    "ora_id": "227",
                                    "nev": "Szentágotai Istvás",
                                    "titulus": "Dr."
                                }
                            ]
                        },
                        "text/html": "<table><tr><th>ora_id</th><th>nev</th><th>titulus</th></tr><tr><td>159</td><td>Ujfalussi István</td><td>Prof, tanszékvezető</td></tr><tr><td>160</td><td>Pelikán József</td><td>NULL</td></tr><tr><td>161</td><td>Pelikán József</td><td>NULL</td></tr><tr><td>162</td><td>Kovács András</td><td>NULL</td></tr><tr><td>163</td><td>Szerb László</td><td>NULL</td></tr><tr><td>164</td><td>Kiss János</td><td>NULL</td></tr><tr><td>165</td><td>Szerb László</td><td>NULL</td></tr><tr><td>166</td><td>Szerb László</td><td>NULL</td></tr><tr><td>167</td><td>Szentágotai Istvás</td><td>Dr.</td></tr><tr><td>168</td><td>Ujfalussi István</td><td>Prof, tanszékvezető</td></tr><tr><td>169</td><td>Kovács András</td><td>NULL</td></tr><tr><td>170</td><td>Ludas Mátyás</td><td>NULL</td></tr><tr><td>171</td><td>Szénási ászló</td><td>NULL</td></tr><tr><td>172</td><td>Kiss János</td><td>NULL</td></tr><tr><td>173</td><td>Kovács András</td><td>NULL</td></tr><tr><td>174</td><td>Ludas Mátyás</td><td>NULL</td></tr><tr><td>175</td><td>Szénási ászló</td><td>NULL</td></tr><tr><td>176</td><td>Kovács András</td><td>NULL</td></tr><tr><td>177</td><td>Szentágotai Istvás</td><td>Dr.</td></tr><tr><td>178</td><td>Vitéz János</td><td>NULL</td></tr><tr><td>179</td><td>Szentágotai Istvás</td><td>Dr.</td></tr><tr><td>180</td><td>Vitéz János</td><td>NULL</td></tr><tr><td>181</td><td>Szentágotai Istvás</td><td>Dr.</td></tr><tr><td>182</td><td>Vitéz János</td><td>NULL</td></tr><tr><td>183</td><td>Szentágotai Istvás</td><td>Dr.</td></tr><tr><td>184</td><td>Vitéz János</td><td>NULL</td></tr><tr><td>185</td><td>Szentágotai Istvás</td><td>Dr.</td></tr><tr><td>186</td><td>Nógrádi Kata</td><td>NULL</td></tr><tr><td>187</td><td>Balkán András</td><td>Dr.</td></tr><tr><td>188</td><td>Farkasos Piroska</td><td>NULL</td></tr><tr><td>189</td><td>Farkasos Piroska</td><td>NULL</td></tr><tr><td>190</td><td>Farkasos Piroska</td><td>NULL</td></tr><tr><td>191</td><td>Varga Kata</td><td>Dr.</td></tr><tr><td>192</td><td>Varga Kata</td><td>Dr.</td></tr><tr><td>193</td><td>Farkasos Piroska</td><td>NULL</td></tr><tr><td>194</td><td>Farkasos Piroska</td><td>NULL</td></tr><tr><td>195</td><td>Balkán András</td><td>Dr.</td></tr><tr><td>196</td><td>Balkán András</td><td>Dr.</td></tr><tr><td>197</td><td>Farkasos Piroska</td><td>NULL</td></tr><tr><td>198</td><td>Farkasos Piroska</td><td>NULL</td></tr><tr><td>199</td><td>Szabó Andrera</td><td>NULL</td></tr><tr><td>200</td><td>Szabó Andrera</td><td>NULL</td></tr><tr><td>201</td><td>Juhász András</td><td>Dr.</td></tr><tr><td>202</td><td>Juhász András</td><td>Dr.</td></tr><tr><td>203</td><td>Aranyi Mária</td><td>NULL</td></tr><tr><td>204</td><td>Róbert Gida</td><td>NULL</td></tr><tr><td>205</td><td>Ujfalussi István</td><td>Prof, tanszékvezető</td></tr><tr><td>206</td><td>Varga Kata</td><td>Dr.</td></tr><tr><td>207</td><td>Varga Kata</td><td>Dr.</td></tr><tr><td>208</td><td>Jogrerős Pál</td><td>Prof.</td></tr><tr><td>209</td><td>Jogrerős Pál</td><td>Prof.</td></tr><tr><td>210</td><td>Szép llonka</td><td>Dr.</td></tr><tr><td>211</td><td>Szép llonka</td><td>Dr.</td></tr><tr><td>212</td><td>Kiss János</td><td>NULL</td></tr><tr><td>213</td><td>Kiss János</td><td>NULL</td></tr><tr><td>214</td><td>Pelikán József</td><td>NULL</td></tr><tr><td>215</td><td>Pelikán József</td><td>NULL</td></tr><tr><td>216</td><td>Szép llonka</td><td>Dr.</td></tr><tr><td>217</td><td>Szép llonka</td><td>Dr.</td></tr><tr><td>218</td><td>Pelikán József</td><td>NULL</td></tr><tr><td>219</td><td>Pelikán József</td><td>NULL</td></tr><tr><td>220</td><td>Kovács László</td><td>Dr.</td></tr><tr><td>221</td><td>Kovács László</td><td>Dr.</td></tr><tr><td>222</td><td>Kovács László</td><td>Dr.</td></tr><tr><td>223</td><td>Kovács László</td><td>Dr.</td></tr><tr><td>226</td><td>Szentágotai Istvás</td><td>Dr.</td></tr><tr><td>227</td><td>Szentágotai Istvás</td><td>Dr.</td></tr></table>"
                    },
                    "metadata": {}
                }
            ],
            "execution_count": 1
        },
        {
            "cell_type": "markdown",
            "source": [
                "2\\. Készítsünk listát az egyes oktatók beosztásáról! A listában szerepeljenek azok a beosztások is, amelyekhez nem tartozik rekord az Oktatok táblában! Jelenítsük meg az oktatók nevét és a beosztásuk nevét!"
            ],
            "metadata": {
                "azdata_cell_guid": "1b64b4af-bb2b-48eb-9be7-ef9e025cf7f2"
            },
            "attachments": {}
        },
        {
            "cell_type": "code",
            "source": [
                "SELECT o.nev, b.beosztasnev\r\n",
                "FROM Oktatok o RIGHT JOIN Beosztasok b\r\n",
                "ON o.beosztás = b.beosztas_id"
            ],
            "metadata": {
                "azdata_cell_guid": "0d215356-df9e-4f0d-8655-7ccadfcbad43",
                "language": "sql",
                "tags": []
            },
            "outputs": [
                {
                    "output_type": "display_data",
                    "data": {
                        "text/html": "(26 rows affected)"
                    },
                    "metadata": {}
                },
                {
                    "output_type": "display_data",
                    "data": {
                        "text/html": "Total execution time: 00:00:00.022"
                    },
                    "metadata": {}
                },
                {
                    "output_type": "execute_result",
                    "execution_count": 2,
                    "data": {
                        "application/vnd.dataresource+json": {
                            "schema": {
                                "fields": [
                                    {
                                        "name": "nev"
                                    },
                                    {
                                        "name": "beosztasnev"
                                    }
                                ]
                            },
                            "data": [
                                {
                                    "nev": "Nógrádi Kata",
                                    "beosztasnev": "Óraadó"
                                },
                                {
                                    "nev": "Rácz András",
                                    "beosztasnev": "Óraadó"
                                },
                                {
                                    "nev": "Kovács András",
                                    "beosztasnev": "Óraadó"
                                },
                                {
                                    "nev": "Ludas Mátyás",
                                    "beosztasnev": "Óraadó"
                                },
                                {
                                    "nev": "Kiss István",
                                    "beosztasnev": "Óraadó"
                                },
                                {
                                    "nev": "Mészáros Kriszta",
                                    "beosztasnev": "Óraadó"
                                },
                                {
                                    "nev": "Aranyi Mária",
                                    "beosztasnev": "Óraadó"
                                },
                                {
                                    "nev": "Szabó Andrera",
                                    "beosztasnev": "Óraadó"
                                },
                                {
                                    "nev": "Kiss János",
                                    "beosztasnev": "Tanársegéd"
                                },
                                {
                                    "nev": "Pelikán József",
                                    "beosztasnev": "Tanársegéd"
                                },
                                {
                                    "nev": "Farkasos Piroska",
                                    "beosztasnev": "Tanársegéd"
                                },
                                {
                                    "nev": "Róbert Gida",
                                    "beosztasnev": "Tanársegéd"
                                },
                                {
                                    "nev": "Vitéz János",
                                    "beosztasnev": "Tanársegéd"
                                },
                                {
                                    "nev": "Szentágotai Istvás",
                                    "beosztasnev": "Adjunktus"
                                },
                                {
                                    "nev": "Szép llonka",
                                    "beosztasnev": "Adjunktus"
                                },
                                {
                                    "nev": "Szénási ászló",
                                    "beosztasnev": "Adjunktus"
                                },
                                {
                                    "nev": "Szerb László",
                                    "beosztasnev": "Docens"
                                },
                                {
                                    "nev": "Balkán András",
                                    "beosztasnev": "Docens"
                                },
                                {
                                    "nev": "Józsa Gábor",
                                    "beosztasnev": "Docens"
                                },
                                {
                                    "nev": "Varga Kata",
                                    "beosztasnev": "Docens"
                                },
                                {
                                    "nev": "Kovacs Istvan",
                                    "beosztasnev": "Professzor"
                                },
                                {
                                    "nev": "Kovács László",
                                    "beosztasnev": "Egyetemi tanár"
                                },
                                {
                                    "nev": "Ujfalussi István",
                                    "beosztasnev": "Egyetemi tanár"
                                },
                                {
                                    "nev": "Jogrerős Pál",
                                    "beosztasnev": "Egyetemi tanár"
                                },
                                {
                                    "nev": "Juhász András",
                                    "beosztasnev": "Egyetemi tanár"
                                },
                                {
                                    "nev": "NULL",
                                    "beosztasnev": "Tudományos munkatárs"
                                }
                            ]
                        },
                        "text/html": "<table><tr><th>nev</th><th>beosztasnev</th></tr><tr><td>Nógrádi Kata</td><td>Óraadó</td></tr><tr><td>Rácz András</td><td>Óraadó</td></tr><tr><td>Kovács András</td><td>Óraadó</td></tr><tr><td>Ludas Mátyás</td><td>Óraadó</td></tr><tr><td>Kiss István</td><td>Óraadó</td></tr><tr><td>Mészáros Kriszta</td><td>Óraadó</td></tr><tr><td>Aranyi Mária</td><td>Óraadó</td></tr><tr><td>Szabó Andrera</td><td>Óraadó</td></tr><tr><td>Kiss János</td><td>Tanársegéd</td></tr><tr><td>Pelikán József</td><td>Tanársegéd</td></tr><tr><td>Farkasos Piroska</td><td>Tanársegéd</td></tr><tr><td>Róbert Gida</td><td>Tanársegéd</td></tr><tr><td>Vitéz János</td><td>Tanársegéd</td></tr><tr><td>Szentágotai Istvás</td><td>Adjunktus</td></tr><tr><td>Szép llonka</td><td>Adjunktus</td></tr><tr><td>Szénási ászló</td><td>Adjunktus</td></tr><tr><td>Szerb László</td><td>Docens</td></tr><tr><td>Balkán András</td><td>Docens</td></tr><tr><td>Józsa Gábor</td><td>Docens</td></tr><tr><td>Varga Kata</td><td>Docens</td></tr><tr><td>Kovacs Istvan</td><td>Professzor</td></tr><tr><td>Kovács László</td><td>Egyetemi tanár</td></tr><tr><td>Ujfalussi István</td><td>Egyetemi tanár</td></tr><tr><td>Jogrerős Pál</td><td>Egyetemi tanár</td></tr><tr><td>Juhász András</td><td>Egyetemi tanár</td></tr><tr><td>NULL</td><td>Tudományos munkatárs</td></tr></table>"
                    },
                    "metadata": {}
                }
            ],
            "execution_count": 2
        },
        {
            "cell_type": "markdown",
            "source": [
                "3\\. Mely órák kezdődnek a 8.00-s sávban? Csak az órák azonosítóit jelenítsük meg!"
            ],
            "metadata": {
                "azdata_cell_guid": "66650575-5864-47e0-8c24-f7f90f1ce32a"
            },
            "attachments": {}
        },
        {
            "cell_type": "code",
            "source": [
                "SELECT o.ora_id\r\n",
                "FROM Orak o JOIN Savok s ON\r\n",
                "o.Sav = s.Sav_id\r\n",
                "WHERE s.időpont = '8.00'"
            ],
            "metadata": {
                "azdata_cell_guid": "9d939880-94e7-4c9c-a8e3-115375ed9de3",
                "language": "sql"
            },
            "outputs": [
                {
                    "output_type": "display_data",
                    "data": {
                        "text/html": "(8 rows affected)"
                    },
                    "metadata": {}
                },
                {
                    "output_type": "display_data",
                    "data": {
                        "text/html": "Total execution time: 00:00:00.019"
                    },
                    "metadata": {}
                },
                {
                    "output_type": "execute_result",
                    "execution_count": 3,
                    "data": {
                        "application/vnd.dataresource+json": {
                            "schema": {
                                "fields": [
                                    {
                                        "name": "ora_id"
                                    }
                                ]
                            },
                            "data": [
                                {
                                    "ora_id": "159"
                                },
                                {
                                    "ora_id": "181"
                                },
                                {
                                    "ora_id": "182"
                                },
                                {
                                    "ora_id": "197"
                                },
                                {
                                    "ora_id": "199"
                                },
                                {
                                    "ora_id": "206"
                                },
                                {
                                    "ora_id": "208"
                                },
                                {
                                    "ora_id": "223"
                                }
                            ]
                        },
                        "text/html": "<table><tr><th>ora_id</th></tr><tr><td>159</td></tr><tr><td>181</td></tr><tr><td>182</td></tr><tr><td>197</td></tr><tr><td>199</td></tr><tr><td>206</td></tr><tr><td>208</td></tr><tr><td>223</td></tr></table>"
                    },
                    "metadata": {}
                }
            ],
            "execution_count": 3
        },
        {
            "cell_type": "markdown",
            "source": [
                "4\\. Listázzuk a tanórák azonosítóját, a tanár és a tantárgy, valamint a terem nevét is! Szűrjünk csak a keddi és szerdai napokra!"
            ],
            "metadata": {
                "azdata_cell_guid": "c5bc4b66-582f-4423-a8c7-18a9a4261f66"
            },
            "attachments": {}
        },
        {
            "cell_type": "code",
            "source": [
                "SELECT o.ora_id, okt.nev, tt.Tantárgynév, t.Terem\r\n",
                "FROM Orak o JOIN Oktatok okt ON o.tanar = okt.oktato_id JOIN\r\n",
                "Tantárgyak tt ON o.targy = tt.Tkód JOIN Termek t ON\r\n",
                "o.terem = t.Tkód\r\n",
                "JOIN Napok n ON o.nap = n.nap_Id WHERE\r\n",
                "n.nap IN ('Kedd', 'Szerda')"
            ],
            "metadata": {
                "azdata_cell_guid": "8fe1213a-bb13-4209-a87d-0daaf36afddb",
                "language": "sql"
            },
            "outputs": [
                {
                    "output_type": "display_data",
                    "data": {
                        "text/html": "(19 rows affected)"
                    },
                    "metadata": {}
                },
                {
                    "output_type": "display_data",
                    "data": {
                        "text/html": "Total execution time: 00:00:00.023"
                    },
                    "metadata": {}
                },
                {
                    "output_type": "execute_result",
                    "execution_count": 4,
                    "data": {
                        "application/vnd.dataresource+json": {
                            "schema": {
                                "fields": [
                                    {
                                        "name": "ora_id"
                                    },
                                    {
                                        "name": "nev"
                                    },
                                    {
                                        "name": "Tantárgynév"
                                    },
                                    {
                                        "name": "Terem"
                                    }
                                ]
                            },
                            "data": [
                                {
                                    "ora_id": "159",
                                    "nev": "Ujfalussi István",
                                    "Tantárgynév": "Az ürgeöntés alapjai",
                                    "Terem": "117"
                                },
                                {
                                    "ora_id": "160",
                                    "nev": "Pelikán József",
                                    "Tantárgynév": "Az ürgeöntés alapjai",
                                    "Terem": "118"
                                },
                                {
                                    "ora_id": "163",
                                    "nev": "Szerb László",
                                    "Tantárgynév": "Az ürgeöntés alapjai",
                                    "Terem": "120"
                                },
                                {
                                    "ora_id": "164",
                                    "nev": "Kiss János",
                                    "Tantárgynév": "Az ürgeöntés alapjai",
                                    "Terem": "119"
                                },
                                {
                                    "ora_id": "165",
                                    "nev": "Szerb László",
                                    "Tantárgynév": "Az ürgeöntés alapjai",
                                    "Terem": "119"
                                },
                                {
                                    "ora_id": "166",
                                    "nev": "Szerb László",
                                    "Tantárgynév": "Az ürgeöntés alapjai",
                                    "Terem": "119"
                                },
                                {
                                    "ora_id": "171",
                                    "nev": "Szénási ászló",
                                    "Tantárgynév": "Az ürgeöntés alapjai",
                                    "Terem": "220"
                                },
                                {
                                    "ora_id": "172",
                                    "nev": "Kiss János",
                                    "Tantárgynév": "Az ürgeöntés alapjai",
                                    "Terem": "119"
                                },
                                {
                                    "ora_id": "186",
                                    "nev": "Nógrádi Kata",
                                    "Tantárgynév": "ü-business",
                                    "Terem": "219"
                                },
                                {
                                    "ora_id": "187",
                                    "nev": "Balkán András",
                                    "Tantárgynév": "Bevezetés az ürgeöntésbe",
                                    "Terem": "217"
                                },
                                {
                                    "ora_id": "198",
                                    "nev": "Farkasos Piroska",
                                    "Tantárgynév": "Az ürgeöntés hydrológiai alapjai II.",
                                    "Terem": "119"
                                },
                                {
                                    "ora_id": "204",
                                    "nev": "Róbert Gida",
                                    "Tantárgynév": "Az ürgeöntés hydrológiai alapjai I.",
                                    "Terem": "120"
                                },
                                {
                                    "ora_id": "206",
                                    "nev": "Varga Kata",
                                    "Tantárgynév": "Az öntés elmélete",
                                    "Terem": "S.Asor.S3"
                                },
                                {
                                    "ora_id": "218",
                                    "nev": "Pelikán József",
                                    "Tantárgynév": "Az ürge anatómiája",
                                    "Terem": "118"
                                },
                                {
                                    "ora_id": "219",
                                    "nev": "Pelikán József",
                                    "Tantárgynév": "Az ürge anatómiája",
                                    "Terem": "219"
                                },
                                {
                                    "ora_id": "220",
                                    "nev": "Kovács László",
                                    "Tantárgynév": "Fejezetek az ürgék jogaiból",
                                    "Terem": "119"
                                },
                                {
                                    "ora_id": "221",
                                    "nev": "Kovács László",
                                    "Tantárgynév": "Fejezetek az ürgék jogaiból",
                                    "Terem": "VP 203."
                                },
                                {
                                    "ora_id": "226",
                                    "nev": "Szentágotai Istvás",
                                    "Tantárgynév": "ürgefőzés",
                                    "Terem": "117"
                                },
                                {
                                    "ora_id": "227",
                                    "nev": "Szentágotai Istvás",
                                    "Tantárgynév": "Az ürgeöntés hydrológiai alapjai I.",
                                    "Terem": "116"
                                }
                            ]
                        },
                        "text/html": "<table><tr><th>ora_id</th><th>nev</th><th>Tantárgynév</th><th>Terem</th></tr><tr><td>159</td><td>Ujfalussi István</td><td>Az ürgeöntés alapjai</td><td>117</td></tr><tr><td>160</td><td>Pelikán József</td><td>Az ürgeöntés alapjai</td><td>118</td></tr><tr><td>163</td><td>Szerb László</td><td>Az ürgeöntés alapjai</td><td>120</td></tr><tr><td>164</td><td>Kiss János</td><td>Az ürgeöntés alapjai</td><td>119</td></tr><tr><td>165</td><td>Szerb László</td><td>Az ürgeöntés alapjai</td><td>119</td></tr><tr><td>166</td><td>Szerb László</td><td>Az ürgeöntés alapjai</td><td>119</td></tr><tr><td>171</td><td>Szénási ászló</td><td>Az ürgeöntés alapjai</td><td>220</td></tr><tr><td>172</td><td>Kiss János</td><td>Az ürgeöntés alapjai</td><td>119</td></tr><tr><td>186</td><td>Nógrádi Kata</td><td>ü-business</td><td>219</td></tr><tr><td>187</td><td>Balkán András</td><td>Bevezetés az ürgeöntésbe</td><td>217</td></tr><tr><td>198</td><td>Farkasos Piroska</td><td>Az ürgeöntés hydrológiai alapjai II.</td><td>119</td></tr><tr><td>204</td><td>Róbert Gida</td><td>Az ürgeöntés hydrológiai alapjai I.</td><td>120</td></tr><tr><td>206</td><td>Varga Kata</td><td>Az öntés elmélete</td><td>S.Asor.S3</td></tr><tr><td>218</td><td>Pelikán József</td><td>Az ürge anatómiája</td><td>118</td></tr><tr><td>219</td><td>Pelikán József</td><td>Az ürge anatómiája</td><td>219</td></tr><tr><td>220</td><td>Kovács László</td><td>Fejezetek az ürgék jogaiból</td><td>119</td></tr><tr><td>221</td><td>Kovács László</td><td>Fejezetek az ürgék jogaiból</td><td>VP 203.</td></tr><tr><td>226</td><td>Szentágotai Istvás</td><td>ürgefőzés</td><td>117</td></tr><tr><td>227</td><td>Szentágotai Istvás</td><td>Az ürgeöntés hydrológiai alapjai I.</td><td>116</td></tr></table>"
                    },
                    "metadata": {}
                }
            ],
            "execution_count": 4
        },
        {
            "cell_type": "markdown",
            "source": [
                "5\\. Készítsünk lekérdezést, amely megjeleníti azon tanár párosításokat, akiknek ugyanaz a státuszuk és beosztásuk! Jelenítsük meg a tanárok neveit, valamint a státusz és beosztás megnevezéseket!"
            ],
            "metadata": {
                "azdata_cell_guid": "3912b680-35e9-4949-a22c-060839b64f0d"
            },
            "attachments": {}
        },
        {
            "cell_type": "code",
            "source": [
                "SELECT o1.nev, o2.nev, b.beosztasnev, s.status FROM\r\n",
                "Oktatok o1\r\n",
                "JOIN Oktatok o2 ON o1.oktato_id <> o2.oktato_id AND\r\n",
                "o1.beosztás = o2.beosztás\r\n",
                "AND o1.status = o2.status\r\n",
                "JOIN Beosztasok b on o1.beosztás = b.beosztas_id JOIN Statusok\r\n",
                "s on o1.status = s.skod"
            ],
            "metadata": {
                "azdata_cell_guid": "f0e4c3cc-2ac9-4cba-a603-97bab92dafca",
                "language": "sql"
            },
            "outputs": [
                {
                    "output_type": "display_data",
                    "data": {
                        "text/html": "(52 rows affected)"
                    },
                    "metadata": {}
                },
                {
                    "output_type": "display_data",
                    "data": {
                        "text/html": "Total execution time: 00:00:00.021"
                    },
                    "metadata": {}
                },
                {
                    "output_type": "execute_result",
                    "execution_count": 5,
                    "data": {
                        "application/vnd.dataresource+json": {
                            "schema": {
                                "fields": [
                                    {
                                        "name": "nev"
                                    },
                                    {
                                        "name": "nev"
                                    },
                                    {
                                        "name": "beosztasnev"
                                    },
                                    {
                                        "name": "status"
                                    }
                                ]
                            },
                            "data": [
                                {
                                    "nev": "Ujfalussi István",
                                    "beosztasnev": "Egyetemi tanár",
                                    "status": "Félállású"
                                },
                                {
                                    "nev": "Józsa Gábor",
                                    "beosztasnev": "Docens",
                                    "status": "Főállású"
                                },
                                {
                                    "nev": "Varga Kata",
                                    "beosztasnev": "Docens",
                                    "status": "Főállású"
                                },
                                {
                                    "nev": "Kovács László",
                                    "beosztasnev": "Egyetemi tanár",
                                    "status": "Félállású"
                                },
                                {
                                    "nev": "Szénási ászló",
                                    "beosztasnev": "Adjunktus",
                                    "status": "Főállású"
                                },
                                {
                                    "nev": "Róbert Gida",
                                    "beosztasnev": "Tanársegéd",
                                    "status": "Főállású"
                                },
                                {
                                    "nev": "Vitéz János",
                                    "beosztasnev": "Tanársegéd",
                                    "status": "Főállású"
                                },
                                {
                                    "nev": "Farkasos Piroska",
                                    "beosztasnev": "Tanársegéd",
                                    "status": "Óraadó"
                                },
                                {
                                    "nev": "Pelikán József",
                                    "beosztasnev": "Tanársegéd",
                                    "status": "Óraadó"
                                },
                                {
                                    "nev": "Juhász András",
                                    "beosztasnev": "Egyetemi tanár",
                                    "status": "Főállású"
                                },
                                {
                                    "nev": "Szerb László",
                                    "beosztasnev": "Docens",
                                    "status": "Főállású"
                                },
                                {
                                    "nev": "Varga Kata",
                                    "beosztasnev": "Docens",
                                    "status": "Főállású"
                                },
                                {
                                    "nev": "Szerb László",
                                    "beosztasnev": "Docens",
                                    "status": "Főállású"
                                },
                                {
                                    "nev": "Józsa Gábor",
                                    "beosztasnev": "Docens",
                                    "status": "Főállású"
                                },
                                {
                                    "nev": "Szép llonka",
                                    "beosztasnev": "Adjunktus",
                                    "status": "Főállású"
                                },
                                {
                                    "nev": "Rácz András",
                                    "beosztasnev": "Óraadó",
                                    "status": "Főállású"
                                },
                                {
                                    "nev": "Kovács András",
                                    "beosztasnev": "Óraadó",
                                    "status": "Főállású"
                                },
                                {
                                    "nev": "Ludas Mátyás",
                                    "beosztasnev": "Óraadó",
                                    "status": "Főállású"
                                },
                                {
                                    "nev": "Aranyi Mária",
                                    "beosztasnev": "Óraadó",
                                    "status": "Főállású"
                                },
                                {
                                    "nev": "Szabó Andrera",
                                    "beosztasnev": "Óraadó",
                                    "status": "Főállású"
                                },
                                {
                                    "nev": "Nógrádi Kata",
                                    "beosztasnev": "Óraadó",
                                    "status": "Főállású"
                                },
                                {
                                    "nev": "Kovács András",
                                    "beosztasnev": "Óraadó",
                                    "status": "Főállású"
                                },
                                {
                                    "nev": "Ludas Mátyás",
                                    "beosztasnev": "Óraadó",
                                    "status": "Főállású"
                                },
                                {
                                    "nev": "Aranyi Mária",
                                    "beosztasnev": "Óraadó",
                                    "status": "Főállású"
                                },
                                {
                                    "nev": "Szabó Andrera",
                                    "beosztasnev": "Óraadó",
                                    "status": "Főállású"
                                },
                                {
                                    "nev": "Nógrádi Kata",
                                    "beosztasnev": "Óraadó",
                                    "status": "Főállású"
                                },
                                {
                                    "nev": "Rácz András",
                                    "beosztasnev": "Óraadó",
                                    "status": "Főállású"
                                },
                                {
                                    "nev": "Ludas Mátyás",
                                    "beosztasnev": "Óraadó",
                                    "status": "Főállású"
                                },
                                {
                                    "nev": "Aranyi Mária",
                                    "beosztasnev": "Óraadó",
                                    "status": "Főállású"
                                },
                                {
                                    "nev": "Szabó Andrera",
                                    "beosztasnev": "Óraadó",
                                    "status": "Főállású"
                                },
                                {
                                    "nev": "Nógrádi Kata",
                                    "beosztasnev": "Óraadó",
                                    "status": "Főállású"
                                },
                                {
                                    "nev": "Rácz András",
                                    "beosztasnev": "Óraadó",
                                    "status": "Főállású"
                                },
                                {
                                    "nev": "Kovács András",
                                    "beosztasnev": "Óraadó",
                                    "status": "Főállású"
                                },
                                {
                                    "nev": "Aranyi Mária",
                                    "beosztasnev": "Óraadó",
                                    "status": "Főállású"
                                },
                                {
                                    "nev": "Szabó Andrera",
                                    "beosztasnev": "Óraadó",
                                    "status": "Főállású"
                                },
                                {
                                    "nev": "Mészáros Kriszta",
                                    "beosztasnev": "Óraadó",
                                    "status": "Félállású"
                                },
                                {
                                    "nev": "Kiss István",
                                    "beosztasnev": "Óraadó",
                                    "status": "Félállású"
                                },
                                {
                                    "nev": "Kiss János",
                                    "beosztasnev": "Tanársegéd",
                                    "status": "Főállású"
                                },
                                {
                                    "nev": "Vitéz János",
                                    "beosztasnev": "Tanársegéd",
                                    "status": "Főállású"
                                },
                                {
                                    "nev": "Kiss János",
                                    "beosztasnev": "Tanársegéd",
                                    "status": "Főállású"
                                },
                                {
                                    "nev": "Róbert Gida",
                                    "beosztasnev": "Tanársegéd",
                                    "status": "Főállású"
                                },
                                {
                                    "nev": "Nógrádi Kata",
                                    "beosztasnev": "Óraadó",
                                    "status": "Főállású"
                                },
                                {
                                    "nev": "Rácz András",
                                    "beosztasnev": "Óraadó",
                                    "status": "Főállású"
                                },
                                {
                                    "nev": "Kovács András",
                                    "beosztasnev": "Óraadó",
                                    "status": "Főállású"
                                },
                                {
                                    "nev": "Ludas Mátyás",
                                    "beosztasnev": "Óraadó",
                                    "status": "Főállású"
                                },
                                {
                                    "nev": "Szabó Andrera",
                                    "beosztasnev": "Óraadó",
                                    "status": "Főállású"
                                },
                                {
                                    "nev": "Nógrádi Kata",
                                    "beosztasnev": "Óraadó",
                                    "status": "Főállású"
                                },
                                {
                                    "nev": "Rácz András",
                                    "beosztasnev": "Óraadó",
                                    "status": "Főállású"
                                },
                                {
                                    "nev": "Kovács András",
                                    "beosztasnev": "Óraadó",
                                    "status": "Főállású"
                                },
                                {
                                    "nev": "Ludas Mátyás",
                                    "beosztasnev": "Óraadó",
                                    "status": "Főállású"
                                },
                                {
                                    "nev": "Aranyi Mária",
                                    "beosztasnev": "Óraadó",
                                    "status": "Főállású"
                                },
                                {
                                    "nev": "Jogrerős Pál",
                                    "beosztasnev": "Egyetemi tanár",
                                    "status": "Főállású"
                                }
                            ]
                        },
                        "text/html": "<table><tr><th>nev</th><th>nev</th><th>beosztasnev</th><th>status</th></tr><tr><td>Kovács László</td><td>Ujfalussi István</td><td>Egyetemi tanár</td><td>Félállású</td></tr><tr><td>Szerb László</td><td>Józsa Gábor</td><td>Docens</td><td>Főállású</td></tr><tr><td>Szerb László</td><td>Varga Kata</td><td>Docens</td><td>Főállású</td></tr><tr><td>Ujfalussi István</td><td>Kovács László</td><td>Egyetemi tanár</td><td>Félállású</td></tr><tr><td>Szép llonka</td><td>Szénási ászló</td><td>Adjunktus</td><td>Főállású</td></tr><tr><td>Kiss János</td><td>Róbert Gida</td><td>Tanársegéd</td><td>Főállású</td></tr><tr><td>Kiss János</td><td>Vitéz János</td><td>Tanársegéd</td><td>Főállású</td></tr><tr><td>Pelikán József</td><td>Farkasos Piroska</td><td>Tanársegéd</td><td>Óraadó</td></tr><tr><td>Farkasos Piroska</td><td>Pelikán József</td><td>Tanársegéd</td><td>Óraadó</td></tr><tr><td>Jogrerős Pál</td><td>Juhász András</td><td>Egyetemi tanár</td><td>Főállású</td></tr><tr><td>Józsa Gábor</td><td>Szerb László</td><td>Docens</td><td>Főállású</td></tr><tr><td>Józsa Gábor</td><td>Varga Kata</td><td>Docens</td><td>Főállású</td></tr><tr><td>Varga Kata</td><td>Szerb László</td><td>Docens</td><td>Főállású</td></tr><tr><td>Varga Kata</td><td>Józsa Gábor</td><td>Docens</td><td>Főállású</td></tr><tr><td>Szénási ászló</td><td>Szép llonka</td><td>Adjunktus</td><td>Főállású</td></tr><tr><td>Nógrádi Kata</td><td>Rácz András</td><td>Óraadó</td><td>Főállású</td></tr><tr><td>Nógrádi Kata</td><td>Kovács András</td><td>Óraadó</td><td>Főállású</td></tr><tr><td>Nógrádi Kata</td><td>Ludas Mátyás</td><td>Óraadó</td><td>Főállású</td></tr><tr><td>Nógrádi Kata</td><td>Aranyi Mária</td><td>Óraadó</td><td>Főállású</td></tr><tr><td>Nógrádi Kata</td><td>Szabó Andrera</td><td>Óraadó</td><td>Főállású</td></tr><tr><td>Rácz András</td><td>Nógrádi Kata</td><td>Óraadó</td><td>Főállású</td></tr><tr><td>Rácz András</td><td>Kovács András</td><td>Óraadó</td><td>Főállású</td></tr><tr><td>Rácz András</td><td>Ludas Mátyás</td><td>Óraadó</td><td>Főállású</td></tr><tr><td>Rácz András</td><td>Aranyi Mária</td><td>Óraadó</td><td>Főállású</td></tr><tr><td>Rácz András</td><td>Szabó Andrera</td><td>Óraadó</td><td>Főállású</td></tr><tr><td>Kovács András</td><td>Nógrádi Kata</td><td>Óraadó</td><td>Főállású</td></tr><tr><td>Kovács András</td><td>Rácz András</td><td>Óraadó</td><td>Főállású</td></tr><tr><td>Kovács András</td><td>Ludas Mátyás</td><td>Óraadó</td><td>Főállású</td></tr><tr><td>Kovács András</td><td>Aranyi Mária</td><td>Óraadó</td><td>Főállású</td></tr><tr><td>Kovács András</td><td>Szabó Andrera</td><td>Óraadó</td><td>Főállású</td></tr><tr><td>Ludas Mátyás</td><td>Nógrádi Kata</td><td>Óraadó</td><td>Főállású</td></tr><tr><td>Ludas Mátyás</td><td>Rácz András</td><td>Óraadó</td><td>Főállású</td></tr><tr><td>Ludas Mátyás</td><td>Kovács András</td><td>Óraadó</td><td>Főállású</td></tr><tr><td>Ludas Mátyás</td><td>Aranyi Mária</td><td>Óraadó</td><td>Főállású</td></tr><tr><td>Ludas Mátyás</td><td>Szabó Andrera</td><td>Óraadó</td><td>Főállású</td></tr><tr><td>Kiss István</td><td>Mészáros Kriszta</td><td>Óraadó</td><td>Félállású</td></tr><tr><td>Mészáros Kriszta</td><td>Kiss István</td><td>Óraadó</td><td>Félállású</td></tr><tr><td>Róbert Gida</td><td>Kiss János</td><td>Tanársegéd</td><td>Főállású</td></tr><tr><td>Róbert Gida</td><td>Vitéz János</td><td>Tanársegéd</td><td>Főállású</td></tr><tr><td>Vitéz János</td><td>Kiss János</td><td>Tanársegéd</td><td>Főállású</td></tr><tr><td>Vitéz János</td><td>Róbert Gida</td><td>Tanársegéd</td><td>Főállású</td></tr><tr><td>Aranyi Mária</td><td>Nógrádi Kata</td><td>Óraadó</td><td>Főállású</td></tr><tr><td>Aranyi Mária</td><td>Rácz András</td><td>Óraadó</td><td>Főállású</td></tr><tr><td>Aranyi Mária</td><td>Kovács András</td><td>Óraadó</td><td>Főállású</td></tr><tr><td>Aranyi Mária</td><td>Ludas Mátyás</td><td>Óraadó</td><td>Főállású</td></tr><tr><td>Aranyi Mária</td><td>Szabó Andrera</td><td>Óraadó</td><td>Főállású</td></tr><tr><td>Szabó Andrera</td><td>Nógrádi Kata</td><td>Óraadó</td><td>Főállású</td></tr><tr><td>Szabó Andrera</td><td>Rácz András</td><td>Óraadó</td><td>Főállású</td></tr><tr><td>Szabó Andrera</td><td>Kovács András</td><td>Óraadó</td><td>Főállású</td></tr><tr><td>Szabó Andrera</td><td>Ludas Mátyás</td><td>Óraadó</td><td>Főállású</td></tr><tr><td>Szabó Andrera</td><td>Aranyi Mária</td><td>Óraadó</td><td>Főállású</td></tr><tr><td>Juhász András</td><td>Jogrerős Pál</td><td>Egyetemi tanár</td><td>Főállású</td></tr></table>"
                    },
                    "metadata": {}
                }
            ],
            "execution_count": 5
        }
    ]
}